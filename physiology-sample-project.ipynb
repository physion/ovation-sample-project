{
 "metadata": {
  "name": ""
 },
 "nbformat": 3,
 "nbformat_minor": 0,
 "worksheets": [
  {
   "cells": [
    {
     "cell_type": "heading",
     "level": 1,
     "metadata": {},
     "source": [
      "Demo project construction"
     ]
    },
    {
     "cell_type": "heading",
     "level": 2,
     "metadata": {},
     "source": [
      "Imports"
     ]
    },
    {
     "cell_type": "code",
     "collapsed": false,
     "input": [
      "from ovation.connection import connect\n",
      "from ovation.conversion import to_map, to_dict, asclass, iterable\n",
      "from ovation.data import insert_numeric_analysis_artifact, insert_numeric_measurement, as_data_frame\n",
      "from ovation import DateTime, DateTimeZone, Optional, Sets, Maps, Integer\n",
      "import quantities as pq\n",
      "import scipy as sp\n",
      "import pandas as pd\n",
      "import matplotlib.pyplot as plt\n",
      "import getpass\n",
      "import logging"
     ],
     "language": "python",
     "metadata": {},
     "outputs": [],
     "prompt_number": 1
    },
    {
     "cell_type": "heading",
     "level": 2,
     "metadata": {},
     "source": [
      "Equipment setup"
     ]
    },
    {
     "cell_type": "code",
     "collapsed": false,
     "input": [
      "equipment = { 'Amplifier_1.model' : 'Multiclamp 700B',\n",
      "             'Amplifier_1.Headstage_1.Channel_1.name' : 'Channel 1',\n",
      "             'Microscope.CCD.manufacturer' : 'Spot' #TODO\n",
      "             }"
     ],
     "language": "python",
     "metadata": {},
     "outputs": [],
     "prompt_number": 2
    },
    {
     "cell_type": "heading",
     "level": 2,
     "metadata": {},
     "source": [
      "Protocols"
     ]
    },
    {
     "cell_type": "code",
     "collapsed": false,
     "input": [
      "cortical_slice_protocol_document = u'''\n",
      "This protocol describes the procedure for making cortical slices from an animal. \n",
      "\n",
      "We might use this ACSF recipie from Cold Spring Harbor (http://cshprotocols.cshlp.org/content/2011/9/pdb.rec065730.full?text_only=true)\n",
      "\n",
      "119 mM NaCl\n",
      "\n",
      "26.2 mM NaHCO3\n",
      "\n",
      "2.5 mM KCl\n",
      "\n",
      "1 mM NaH2PO4\n",
      "\n",
      "1.3 mM MgCl2\n",
      "\n",
      "10 mM glucose\n",
      "\n",
      "Gas with 5% CO2/95% O2 for 10\u201315 min, then add 2.5-mM CaCl2. Filter sterilize with a 0.22-\u00b5m filter apparatus, and store at 4\u00b0C. ACSF is stable for 3\u20134 wk. If overt contamination (solution becomes cloudy) or precipitation is apparent, discard, and make fresh ACSF.\n",
      "\n",
      "Variables such as {ACSF_BATCH_DATE}, the date when the ACSF batch was made  are denoted using {VARIABLE}.\n",
      "'''"
     ],
     "language": "python",
     "metadata": {},
     "outputs": [],
     "prompt_number": 3
    },
    {
     "cell_type": "code",
     "collapsed": false,
     "input": [
      "cell_selection_protocol_document = u'''\n",
      "This protocol describes how cells were chosen within a slice for recording.\n",
      "'''"
     ],
     "language": "python",
     "metadata": {},
     "outputs": [],
     "prompt_number": 4
    },
    {
     "cell_type": "code",
     "collapsed": false,
     "input": [
      "recording_protocol_1_document = u'''\n",
      "TODO\n",
      "'''"
     ],
     "language": "python",
     "metadata": {},
     "outputs": [],
     "prompt_number": 5
    },
    {
     "cell_type": "code",
     "collapsed": false,
     "input": [
      "recording_protocol_2_document = u'''\n",
      "TODO\n",
      "'''"
     ],
     "language": "python",
     "metadata": {},
     "outputs": [],
     "prompt_number": 6
    },
    {
     "cell_type": "heading",
     "level": 2,
     "metadata": {},
     "source": [
      "Analysis protocols"
     ]
    },
    {
     "cell_type": "code",
     "collapsed": false,
     "input": [
      "analysis_protocol =  { 'function' : 'mean_response',\n",
      "                      'scm' : 'https://github.com/physion/ovation-sample-project',\n",
      "                      'scm_revision' : '5e75c5e4c016f5e228171b70c02332a9' # TODO\n",
      "                      }"
     ],
     "language": "python",
     "metadata": {},
     "outputs": [],
     "prompt_number": 7
    },
    {
     "cell_type": "heading",
     "level": 2,
     "metadata": {},
     "source": [
      "Connection"
     ]
    },
    {
     "cell_type": "code",
     "collapsed": false,
     "input": [
      "from ovation.api import Ovation\n",
      "Ovation.getVersion()"
     ],
     "language": "python",
     "metadata": {},
     "outputs": [
      {
       "metadata": {},
       "output_type": "pyout",
       "prompt_number": 8,
       "text": [
        "'2.0.0'"
       ]
      }
     ],
     "prompt_number": 8
    },
    {
     "cell_type": "code",
     "collapsed": false,
     "input": [
      "email = raw_input('Email: ')\n",
      "print('Enter password at the console...')\n",
      "dsc = connect(email, getpass.getpass(prompt='Ovation password: '))\n",
      "ctx = dsc.getContext()"
     ],
     "language": "python",
     "metadata": {},
     "outputs": [
      {
       "name": "stdout",
       "output_type": "stream",
       "stream": "stdout",
       "text": [
        "Email: barry@physion.us\n"
       ]
      },
      {
       "output_type": "stream",
       "stream": "stdout",
       "text": [
        "Enter password at the console...\n"
       ]
      }
     ],
     "prompt_number": 9
    },
    {
     "cell_type": "heading",
     "level": 3,
     "metadata": {},
     "source": [
      "Structural entities"
     ]
    },
    {
     "cell_type": "markdown",
     "metadata": {},
     "source": [
      "We keep the Ids of relevant entities"
     ]
    },
    {
     "cell_type": "code",
     "collapsed": false,
     "input": [
      "import json\n",
      "ENTITY_IDS = 'entities.json'\n",
      "\n",
      "try:\n",
      "    with open(ENTITY_IDS, 'r') as f:\n",
      "        existingIds = json.load(f)\n",
      "except IOError:\n",
      "    existingIds = {}\n",
      "    with open(ENTITY_IDS, 'w') as f:\n",
      "        json.dump(existingIds, f)\n"
     ],
     "language": "python",
     "metadata": {},
     "outputs": [],
     "prompt_number": 10
    },
    {
     "cell_type": "markdown",
     "metadata": {},
     "source": [
      "We first find (or create) the ``Protocol`` instances"
     ]
    },
    {
     "cell_type": "code",
     "collapsed": false,
     "input": [
      "def get_protocol(name, document):\n",
      "    protocol = ctx.getProtocol(name)\n",
      "    if protocol is None:\n",
      "        print('Inserting protocol ' + name + '...')\n",
      "        protocol = ctx.insertProtocol(name, document)\n",
      "    return protocol\n",
      "\n",
      "cortical_slice_protocol = get_protocol('Cortical Slice', cortical_slice_protocol_document)\n",
      "cell_selection_protocol = get_protocol('Cortical Cell Selection', cell_selection_protocol_document)\n",
      "recording_protocol_1 = get_protocol('Recording Protocol 1', recording_protocol_1_document)\n",
      "recording_protocol_2 = get_protocol('Recording Protocol 2', recording_protocol_2_document)"
     ],
     "language": "python",
     "metadata": {},
     "outputs": [],
     "prompt_number": 11
    },
    {
     "cell_type": "markdown",
     "metadata": {},
     "source": [
      "Now we're ready to create the ``Project`` and two ``Experiments``. Each ``Experiment`` will corespond to recordings (and imaging) made from one ``Source``"
     ]
    },
    {
     "cell_type": "code",
     "collapsed": false,
     "input": [
      "timezone = DateTimeZone.forID('America/Los_Angeles')"
     ],
     "language": "python",
     "metadata": {},
     "outputs": [],
     "prompt_number": 12
    },
    {
     "cell_type": "code",
     "collapsed": false,
     "input": [
      "projectId = existingIds.get('project')\n",
      "try:\n",
      "    project = asclass('Project', ctx.getObjectWithURI(projectId))\n",
      "except:\n",
      "    print('Inserting project...')\n",
      "    project = ctx.insertProject('Ovation sample physiology project',\n",
      "                                '''The purpose of this project is to demonstrate the core features of the Ovation platform\n",
      "                                in a made-up physiology experiment''',\n",
      "                                DateTime(2013, 11, 25, 13, 19, 0, 0, timezone))\n",
      "    print(project.getURI().toString())\n",
      "    existingIds['project'] = project.getURI().toString()"
     ],
     "language": "python",
     "metadata": {},
     "outputs": [],
     "prompt_number": 13
    },
    {
     "cell_type": "code",
     "collapsed": false,
     "input": [
      "# Two experiments, with two slices each from a single animal, each with two cells\n",
      "\n",
      "experiments = []\n",
      "for exp_idx in range(0,2):\n",
      "    print('Experiment {0}'.format(exp_idx + 1))\n",
      "    \n",
      "    exp_name = 'expt' + str(exp_idx)\n",
      "    experimentId = existingIds.get(exp_name)\n",
      "    try:\n",
      "        expt = ctx.getObjectWithURI(experiment1Id)\n",
      "    except:\n",
      "        print('Inserting experiment ' + str(exp_idx) + '...')\n",
      "        expt = project.insertExperiment(\"Making knowledge about some cells' physiology\", #TODO\n",
      "                                         DateTime(2013, 12, 2 + exp_idx, 7, 0, 0, 0, timezone))\n",
      "        expt.setEquipmentSetupFromMap(to_map(equipment))\n",
      "        existingIds[exp_name] = expt.getURI().toString()\n",
      "        \n",
      "    \n",
      "    experiments += [expt]\n",
      "    \n",
      "    # One mouse per experiment\n",
      "    mouse_name = 'mouse' + str(exp_idx)\n",
      "    try:\n",
      "        mouse = asclass('Source', ctx.getObjectWithURI(existingIds.get(mouse_name)))\n",
      "    except:\n",
      "        mouse = ctx.insertSource('C57/BL6', 'animal-id-' + str(exp_idx))\n",
      "        mouse.addProperty('DOB', 'November 1, 2013')\n",
      "        mouse.addProperty('sex', 'male' if exp_idx % 2 == 0  else 'female')\n",
      "        \n",
      "        existingIds[mouse_name] = mouse.getURI().toString()\n",
      "        \n",
      "    \n",
      "    # Two slices made from the mouse\n",
      "    for slice_idx in range(2):\n",
      "        print('\\tSlice {0}'.format(slice_idx+1))\n",
      "        \n",
      "        slice_name = 'slice{0}_{1}'.format(slice_idx, exp_idx)\n",
      "        cortical_slice = mouse.insertSource(expt,\n",
      "                               DateTime(2013, 11, 30, 8, 10, 0, 0, timezone),\n",
      "                               DateTime(2013, 11, 30, 8, 25, 0, 0, timezone),\n",
      "                               cortical_slice_protocol,\n",
      "                               to_map({}),\n",
      "                               Optional.absent(),\n",
      "                               'cortical slice',\n",
      "                               slice_name)\n",
      "        \n",
      "        # Two cells from each slice\n",
      "        for cell_idx in range(2):\n",
      "            print('\\t\\tCell {0}'.format(cell_idx+1))\n",
      "            \n",
      "            cell_name = 'cell{0}'.format(cell_idx)\n",
      "            recording_start = DateTime(2013, 11, 30, 8, cell_idx*10+5, 0, 0, timezone)\n",
      "            cell = cortical_slice.insertSource(expt,\n",
      "                               DateTime(2013, 11, 30, 9, cell_idx*10, 0, 0, timezone),\n",
      "                               recording_start,\n",
      "                               cell_selection_protocol,\n",
      "                               to_map({}),\n",
      "                               Optional.absent(),\n",
      "                               'cortical cell',\n",
      "                               cell_name)\n",
      "            \n",
      "            for i in range(15):\n",
      "                print('\\t\\t\\tEpoch {0}'.format(i+1))\n",
      "                step_start = 5\n",
      "                step_increment = 5\n",
      "                \n",
      "                step = i % 5\n",
      "                protocol_parameters = {'step' : step,\n",
      "                                       'starting_step_amplitude_mV' : step_start,\n",
      "                                       'step_increment_mV' : step_increment,\n",
      "                                       'step_amplitude_mV' : (step+1) * step_increment + step_start}\n",
      "            \n",
      "                device_parameters = {'Amplifier_1.Headstage_1.Channel_1.mode' : 'V-clamp',\n",
      "                                     'Amplifier_1.Headstage_1.Channel_1.gain' : '10' }\n",
      "                \n",
      "                epoch = expt.insertEpoch(to_map({'cell' : cell}),\n",
      "                                          None,\n",
      "                                          recording_start.plusSeconds(i-1 * 3),\n",
      "                                          recording_start.plusSeconds((i-1 * 3) + 1),\n",
      "                                          recording_protocol_1,\n",
      "                                          to_map(protocol_parameters),\n",
      "                                          to_map(device_parameters))\n",
      "                \n",
      "                \n",
      "                step_amplitude = (step+1) * step_increment + step_start\n",
      "                data = sp.hstack((sp.zeros(500), sp.ones(500) * step_amplitude, sp.zeros(500))) * pq.mV\n",
      "                noise = sp.randn(*data.shape) * step_amplitude/10 * pq.mV #10% noise\n",
      "                data = data + noise\n",
      "                data.sampling_rates = [1000 * pq.Hz]\n",
      "                data.labels = ['membrance current']\n",
      "                insert_numeric_measurement(epoch, \n",
      "                                           set(['cell']), \n",
      "                                           set(['Amplifier_1']),\n",
      "                                           'Membrane current',\n",
      "                                           {'current' : data})\n",
      "                epoch.addTag('demo')"
     ],
     "language": "python",
     "metadata": {},
     "outputs": [
      {
       "output_type": "stream",
       "stream": "stdout",
       "text": [
        "Experiment 1\n",
        "Inserting experiment 0...\n",
        "\tSlice 1"
       ]
      },
      {
       "output_type": "stream",
       "stream": "stdout",
       "text": [
        "\n",
        "\t\tCell 1"
       ]
      },
      {
       "output_type": "stream",
       "stream": "stdout",
       "text": [
        "\n",
        "\t\t\tEpoch 1"
       ]
      },
      {
       "output_type": "stream",
       "stream": "stdout",
       "text": [
        "\n",
        "\t\t\tEpoch 2"
       ]
      },
      {
       "output_type": "stream",
       "stream": "stdout",
       "text": [
        "\n",
        "\t\t\tEpoch 3"
       ]
      },
      {
       "output_type": "stream",
       "stream": "stdout",
       "text": [
        "\n",
        "\t\t\tEpoch 4"
       ]
      },
      {
       "output_type": "stream",
       "stream": "stdout",
       "text": [
        "\n",
        "\t\t\tEpoch 5"
       ]
      },
      {
       "output_type": "stream",
       "stream": "stdout",
       "text": [
        "\n",
        "\t\t\tEpoch 6"
       ]
      },
      {
       "output_type": "stream",
       "stream": "stdout",
       "text": [
        "\n",
        "\t\t\tEpoch 7"
       ]
      },
      {
       "output_type": "stream",
       "stream": "stdout",
       "text": [
        "\n",
        "\t\t\tEpoch 8"
       ]
      },
      {
       "output_type": "stream",
       "stream": "stdout",
       "text": [
        "\n",
        "\t\t\tEpoch 9"
       ]
      },
      {
       "output_type": "stream",
       "stream": "stdout",
       "text": [
        "\n",
        "\t\t\tEpoch 10"
       ]
      },
      {
       "output_type": "stream",
       "stream": "stdout",
       "text": [
        "\n",
        "\t\t\tEpoch 11"
       ]
      },
      {
       "output_type": "stream",
       "stream": "stdout",
       "text": [
        "\n",
        "\t\t\tEpoch 12"
       ]
      },
      {
       "output_type": "stream",
       "stream": "stdout",
       "text": [
        "\n",
        "\t\t\tEpoch 13"
       ]
      },
      {
       "output_type": "stream",
       "stream": "stdout",
       "text": [
        "\n",
        "\t\t\tEpoch 14"
       ]
      },
      {
       "output_type": "stream",
       "stream": "stdout",
       "text": [
        "\n",
        "\t\t\tEpoch 15"
       ]
      },
      {
       "output_type": "stream",
       "stream": "stdout",
       "text": [
        "\n",
        "\t\tCell 2"
       ]
      },
      {
       "output_type": "stream",
       "stream": "stdout",
       "text": [
        "\n",
        "\t\t\tEpoch 1"
       ]
      },
      {
       "output_type": "stream",
       "stream": "stdout",
       "text": [
        "\n",
        "\t\t\tEpoch 2"
       ]
      },
      {
       "output_type": "stream",
       "stream": "stdout",
       "text": [
        "\n",
        "\t\t\tEpoch 3"
       ]
      },
      {
       "output_type": "stream",
       "stream": "stdout",
       "text": [
        "\n",
        "\t\t\tEpoch 4"
       ]
      },
      {
       "output_type": "stream",
       "stream": "stdout",
       "text": [
        "\n",
        "\t\t\tEpoch 5"
       ]
      },
      {
       "output_type": "stream",
       "stream": "stdout",
       "text": [
        "\n",
        "\t\t\tEpoch 6"
       ]
      },
      {
       "output_type": "stream",
       "stream": "stdout",
       "text": [
        "\n",
        "\t\t\tEpoch 7"
       ]
      },
      {
       "output_type": "stream",
       "stream": "stdout",
       "text": [
        "\n",
        "\t\t\tEpoch 8"
       ]
      },
      {
       "output_type": "stream",
       "stream": "stdout",
       "text": [
        "\n",
        "\t\t\tEpoch 9"
       ]
      },
      {
       "output_type": "stream",
       "stream": "stdout",
       "text": [
        "\n",
        "\t\t\tEpoch 10"
       ]
      },
      {
       "output_type": "stream",
       "stream": "stdout",
       "text": [
        "\n",
        "\t\t\tEpoch 11"
       ]
      },
      {
       "output_type": "stream",
       "stream": "stdout",
       "text": [
        "\n",
        "\t\t\tEpoch 12"
       ]
      },
      {
       "output_type": "stream",
       "stream": "stdout",
       "text": [
        "\n",
        "\t\t\tEpoch 13"
       ]
      },
      {
       "output_type": "stream",
       "stream": "stdout",
       "text": [
        "\n",
        "\t\t\tEpoch 14"
       ]
      },
      {
       "output_type": "stream",
       "stream": "stdout",
       "text": [
        "\n",
        "\t\t\tEpoch 15"
       ]
      },
      {
       "output_type": "stream",
       "stream": "stdout",
       "text": [
        "\n",
        "\tSlice 2"
       ]
      },
      {
       "output_type": "stream",
       "stream": "stdout",
       "text": [
        "\n",
        "\t\tCell 1"
       ]
      },
      {
       "output_type": "stream",
       "stream": "stdout",
       "text": [
        "\n",
        "\t\t\tEpoch 1"
       ]
      },
      {
       "output_type": "stream",
       "stream": "stdout",
       "text": [
        "\n",
        "\t\t\tEpoch 2"
       ]
      },
      {
       "output_type": "stream",
       "stream": "stdout",
       "text": [
        "\n",
        "\t\t\tEpoch 3"
       ]
      },
      {
       "output_type": "stream",
       "stream": "stdout",
       "text": [
        "\n",
        "\t\t\tEpoch 4"
       ]
      },
      {
       "output_type": "stream",
       "stream": "stdout",
       "text": [
        "\n",
        "\t\t\tEpoch 5"
       ]
      },
      {
       "output_type": "stream",
       "stream": "stdout",
       "text": [
        "\n",
        "\t\t\tEpoch 6"
       ]
      },
      {
       "output_type": "stream",
       "stream": "stdout",
       "text": [
        "\n",
        "\t\t\tEpoch 7"
       ]
      },
      {
       "output_type": "stream",
       "stream": "stdout",
       "text": [
        "\n",
        "\t\t\tEpoch 8"
       ]
      },
      {
       "output_type": "stream",
       "stream": "stdout",
       "text": [
        "\n",
        "\t\t\tEpoch 9"
       ]
      },
      {
       "output_type": "stream",
       "stream": "stdout",
       "text": [
        "\n",
        "\t\t\tEpoch 10"
       ]
      },
      {
       "output_type": "stream",
       "stream": "stdout",
       "text": [
        "\n",
        "\t\t\tEpoch 11"
       ]
      },
      {
       "output_type": "stream",
       "stream": "stdout",
       "text": [
        "\n",
        "\t\t\tEpoch 12"
       ]
      },
      {
       "output_type": "stream",
       "stream": "stdout",
       "text": [
        "\n",
        "\t\t\tEpoch 13"
       ]
      },
      {
       "output_type": "stream",
       "stream": "stdout",
       "text": [
        "\n",
        "\t\t\tEpoch 14"
       ]
      },
      {
       "output_type": "stream",
       "stream": "stdout",
       "text": [
        "\n",
        "\t\t\tEpoch 15"
       ]
      },
      {
       "output_type": "stream",
       "stream": "stdout",
       "text": [
        "\n",
        "\t\tCell 2"
       ]
      },
      {
       "output_type": "stream",
       "stream": "stdout",
       "text": [
        "\n",
        "\t\t\tEpoch 1"
       ]
      },
      {
       "output_type": "stream",
       "stream": "stdout",
       "text": [
        "\n",
        "\t\t\tEpoch 2"
       ]
      },
      {
       "output_type": "stream",
       "stream": "stdout",
       "text": [
        "\n",
        "\t\t\tEpoch 3"
       ]
      },
      {
       "output_type": "stream",
       "stream": "stdout",
       "text": [
        "\n",
        "\t\t\tEpoch 4"
       ]
      },
      {
       "output_type": "stream",
       "stream": "stdout",
       "text": [
        "\n",
        "\t\t\tEpoch 5"
       ]
      },
      {
       "output_type": "stream",
       "stream": "stdout",
       "text": [
        "\n",
        "\t\t\tEpoch 6"
       ]
      },
      {
       "output_type": "stream",
       "stream": "stdout",
       "text": [
        "\n",
        "\t\t\tEpoch 7"
       ]
      },
      {
       "output_type": "stream",
       "stream": "stdout",
       "text": [
        "\n",
        "\t\t\tEpoch 8"
       ]
      },
      {
       "output_type": "stream",
       "stream": "stdout",
       "text": [
        "\n",
        "\t\t\tEpoch 9"
       ]
      },
      {
       "output_type": "stream",
       "stream": "stdout",
       "text": [
        "\n",
        "\t\t\tEpoch 10"
       ]
      },
      {
       "output_type": "stream",
       "stream": "stdout",
       "text": [
        "\n",
        "\t\t\tEpoch 11"
       ]
      },
      {
       "output_type": "stream",
       "stream": "stdout",
       "text": [
        "\n",
        "\t\t\tEpoch 12"
       ]
      },
      {
       "output_type": "stream",
       "stream": "stdout",
       "text": [
        "\n",
        "\t\t\tEpoch 13"
       ]
      },
      {
       "output_type": "stream",
       "stream": "stdout",
       "text": [
        "\n",
        "\t\t\tEpoch 14"
       ]
      },
      {
       "output_type": "stream",
       "stream": "stdout",
       "text": [
        "\n",
        "\t\t\tEpoch 15"
       ]
      },
      {
       "output_type": "stream",
       "stream": "stdout",
       "text": [
        "\n",
        "Experiment 2"
       ]
      },
      {
       "output_type": "stream",
       "stream": "stdout",
       "text": [
        "\n",
        "Inserting experiment 1...\n",
        "\tSlice 1"
       ]
      },
      {
       "output_type": "stream",
       "stream": "stdout",
       "text": [
        "\n",
        "\t\tCell 1"
       ]
      },
      {
       "output_type": "stream",
       "stream": "stdout",
       "text": [
        "\n",
        "\t\t\tEpoch 1"
       ]
      },
      {
       "output_type": "stream",
       "stream": "stdout",
       "text": [
        "\n",
        "\t\t\tEpoch 2"
       ]
      },
      {
       "output_type": "stream",
       "stream": "stdout",
       "text": [
        "\n",
        "\t\t\tEpoch 3"
       ]
      },
      {
       "output_type": "stream",
       "stream": "stdout",
       "text": [
        "\n",
        "\t\t\tEpoch 4"
       ]
      },
      {
       "output_type": "stream",
       "stream": "stdout",
       "text": [
        "\n",
        "\t\t\tEpoch 5"
       ]
      },
      {
       "output_type": "stream",
       "stream": "stdout",
       "text": [
        "\n",
        "\t\t\tEpoch 6"
       ]
      },
      {
       "output_type": "stream",
       "stream": "stdout",
       "text": [
        "\n",
        "\t\t\tEpoch 7"
       ]
      },
      {
       "output_type": "stream",
       "stream": "stdout",
       "text": [
        "\n",
        "\t\t\tEpoch 8"
       ]
      },
      {
       "output_type": "stream",
       "stream": "stdout",
       "text": [
        "\n",
        "\t\t\tEpoch 9"
       ]
      },
      {
       "output_type": "stream",
       "stream": "stdout",
       "text": [
        "\n",
        "\t\t\tEpoch 10"
       ]
      },
      {
       "output_type": "stream",
       "stream": "stdout",
       "text": [
        "\n",
        "\t\t\tEpoch 11"
       ]
      },
      {
       "output_type": "stream",
       "stream": "stdout",
       "text": [
        "\n",
        "\t\t\tEpoch 12"
       ]
      },
      {
       "output_type": "stream",
       "stream": "stdout",
       "text": [
        "\n",
        "\t\t\tEpoch 13"
       ]
      },
      {
       "output_type": "stream",
       "stream": "stdout",
       "text": [
        "\n",
        "\t\t\tEpoch 14"
       ]
      },
      {
       "output_type": "stream",
       "stream": "stdout",
       "text": [
        "\n",
        "\t\t\tEpoch 15"
       ]
      },
      {
       "output_type": "stream",
       "stream": "stdout",
       "text": [
        "\n",
        "\t\tCell 2"
       ]
      },
      {
       "output_type": "stream",
       "stream": "stdout",
       "text": [
        "\n",
        "\t\t\tEpoch 1"
       ]
      },
      {
       "output_type": "stream",
       "stream": "stdout",
       "text": [
        "\n",
        "\t\t\tEpoch 2"
       ]
      },
      {
       "output_type": "stream",
       "stream": "stdout",
       "text": [
        "\n",
        "\t\t\tEpoch 3"
       ]
      },
      {
       "output_type": "stream",
       "stream": "stdout",
       "text": [
        "\n",
        "\t\t\tEpoch 4"
       ]
      },
      {
       "output_type": "stream",
       "stream": "stdout",
       "text": [
        "\n",
        "\t\t\tEpoch 5"
       ]
      },
      {
       "output_type": "stream",
       "stream": "stdout",
       "text": [
        "\n",
        "\t\t\tEpoch 6"
       ]
      },
      {
       "output_type": "stream",
       "stream": "stdout",
       "text": [
        "\n",
        "\t\t\tEpoch 7"
       ]
      },
      {
       "output_type": "stream",
       "stream": "stdout",
       "text": [
        "\n",
        "\t\t\tEpoch 8"
       ]
      },
      {
       "output_type": "stream",
       "stream": "stdout",
       "text": [
        "\n",
        "\t\t\tEpoch 9"
       ]
      },
      {
       "output_type": "stream",
       "stream": "stdout",
       "text": [
        "\n",
        "\t\t\tEpoch 10"
       ]
      },
      {
       "output_type": "stream",
       "stream": "stdout",
       "text": [
        "\n",
        "\t\t\tEpoch 11"
       ]
      },
      {
       "output_type": "stream",
       "stream": "stdout",
       "text": [
        "\n",
        "\t\t\tEpoch 12"
       ]
      },
      {
       "output_type": "stream",
       "stream": "stdout",
       "text": [
        "\n",
        "\t\t\tEpoch 13"
       ]
      },
      {
       "output_type": "stream",
       "stream": "stdout",
       "text": [
        "\n",
        "\t\t\tEpoch 14"
       ]
      },
      {
       "output_type": "stream",
       "stream": "stdout",
       "text": [
        "\n",
        "\t\t\tEpoch 15"
       ]
      },
      {
       "output_type": "stream",
       "stream": "stdout",
       "text": [
        "\n",
        "\tSlice 2"
       ]
      },
      {
       "output_type": "stream",
       "stream": "stdout",
       "text": [
        "\n",
        "\t\tCell 1"
       ]
      },
      {
       "output_type": "stream",
       "stream": "stdout",
       "text": [
        "\n",
        "\t\t\tEpoch 1"
       ]
      },
      {
       "output_type": "stream",
       "stream": "stdout",
       "text": [
        "\n",
        "\t\t\tEpoch 2"
       ]
      },
      {
       "output_type": "stream",
       "stream": "stdout",
       "text": [
        "\n",
        "\t\t\tEpoch 3"
       ]
      },
      {
       "output_type": "stream",
       "stream": "stdout",
       "text": [
        "\n",
        "\t\t\tEpoch 4"
       ]
      },
      {
       "output_type": "stream",
       "stream": "stdout",
       "text": [
        "\n",
        "\t\t\tEpoch 5"
       ]
      },
      {
       "output_type": "stream",
       "stream": "stdout",
       "text": [
        "\n",
        "\t\t\tEpoch 6"
       ]
      },
      {
       "output_type": "stream",
       "stream": "stdout",
       "text": [
        "\n",
        "\t\t\tEpoch 7"
       ]
      },
      {
       "output_type": "stream",
       "stream": "stdout",
       "text": [
        "\n",
        "\t\t\tEpoch 8"
       ]
      },
      {
       "output_type": "stream",
       "stream": "stdout",
       "text": [
        "\n",
        "\t\t\tEpoch 9"
       ]
      },
      {
       "output_type": "stream",
       "stream": "stdout",
       "text": [
        "\n",
        "\t\t\tEpoch 10"
       ]
      },
      {
       "output_type": "stream",
       "stream": "stdout",
       "text": [
        "\n",
        "\t\t\tEpoch 11"
       ]
      },
      {
       "output_type": "stream",
       "stream": "stdout",
       "text": [
        "\n",
        "\t\t\tEpoch 12"
       ]
      },
      {
       "output_type": "stream",
       "stream": "stdout",
       "text": [
        "\n",
        "\t\t\tEpoch 13"
       ]
      },
      {
       "output_type": "stream",
       "stream": "stdout",
       "text": [
        "\n",
        "\t\t\tEpoch 14"
       ]
      },
      {
       "output_type": "stream",
       "stream": "stdout",
       "text": [
        "\n",
        "\t\t\tEpoch 15"
       ]
      },
      {
       "output_type": "stream",
       "stream": "stdout",
       "text": [
        "\n",
        "\t\tCell 2"
       ]
      },
      {
       "output_type": "stream",
       "stream": "stdout",
       "text": [
        "\n",
        "\t\t\tEpoch 1"
       ]
      },
      {
       "output_type": "stream",
       "stream": "stdout",
       "text": [
        "\n",
        "\t\t\tEpoch 2"
       ]
      },
      {
       "output_type": "stream",
       "stream": "stdout",
       "text": [
        "\n",
        "\t\t\tEpoch 3"
       ]
      },
      {
       "output_type": "stream",
       "stream": "stdout",
       "text": [
        "\n",
        "\t\t\tEpoch 4"
       ]
      },
      {
       "output_type": "stream",
       "stream": "stdout",
       "text": [
        "\n",
        "\t\t\tEpoch 5"
       ]
      },
      {
       "output_type": "stream",
       "stream": "stdout",
       "text": [
        "\n",
        "\t\t\tEpoch 6"
       ]
      },
      {
       "output_type": "stream",
       "stream": "stdout",
       "text": [
        "\n",
        "\t\t\tEpoch 7"
       ]
      },
      {
       "output_type": "stream",
       "stream": "stdout",
       "text": [
        "\n",
        "\t\t\tEpoch 8"
       ]
      },
      {
       "output_type": "stream",
       "stream": "stdout",
       "text": [
        "\n",
        "\t\t\tEpoch 9"
       ]
      },
      {
       "output_type": "stream",
       "stream": "stdout",
       "text": [
        "\n",
        "\t\t\tEpoch 10"
       ]
      },
      {
       "output_type": "stream",
       "stream": "stdout",
       "text": [
        "\n",
        "\t\t\tEpoch 11"
       ]
      },
      {
       "output_type": "stream",
       "stream": "stdout",
       "text": [
        "\n",
        "\t\t\tEpoch 12"
       ]
      },
      {
       "output_type": "stream",
       "stream": "stdout",
       "text": [
        "\n",
        "\t\t\tEpoch 13"
       ]
      },
      {
       "output_type": "stream",
       "stream": "stdout",
       "text": [
        "\n",
        "\t\t\tEpoch 14"
       ]
      },
      {
       "output_type": "stream",
       "stream": "stdout",
       "text": [
        "\n",
        "\t\t\tEpoch 15"
       ]
      },
      {
       "output_type": "stream",
       "stream": "stdout",
       "text": [
        "\n"
       ]
      }
     ],
     "prompt_number": 117
    },
    {
     "cell_type": "code",
     "collapsed": false,
     "input": [
      "print([mouse.getLabel(), mouse.getIdentifier()])\n",
      "pprint(to_dict(mouse.getUserProperties(ctx.getAuthenticatedUser())))"
     ],
     "language": "python",
     "metadata": {},
     "outputs": [
      {
       "ename": "NameError",
       "evalue": "name 'mouse' is not defined",
       "output_type": "pyerr",
       "traceback": [
        "\u001b[0;31m---------------------------------------------------------------------------\u001b[0m\n\u001b[0;31mNameError\u001b[0m                                 Traceback (most recent call last)",
        "\u001b[0;32m<ipython-input-15-fddeb59f1e05>\u001b[0m in \u001b[0;36m<module>\u001b[0;34m()\u001b[0m\n\u001b[0;32m----> 1\u001b[0;31m \u001b[0;32mprint\u001b[0m\u001b[0;34m(\u001b[0m\u001b[0;34m[\u001b[0m\u001b[0mmouse\u001b[0m\u001b[0;34m.\u001b[0m\u001b[0mgetLabel\u001b[0m\u001b[0;34m(\u001b[0m\u001b[0;34m)\u001b[0m\u001b[0;34m,\u001b[0m \u001b[0mmouse\u001b[0m\u001b[0;34m.\u001b[0m\u001b[0mgetIdentifier\u001b[0m\u001b[0;34m(\u001b[0m\u001b[0;34m)\u001b[0m\u001b[0;34m]\u001b[0m\u001b[0;34m)\u001b[0m\u001b[0;34m\u001b[0m\u001b[0m\n\u001b[0m\u001b[1;32m      2\u001b[0m \u001b[0mpprint\u001b[0m\u001b[0;34m(\u001b[0m\u001b[0mto_dict\u001b[0m\u001b[0;34m(\u001b[0m\u001b[0mmouse\u001b[0m\u001b[0;34m.\u001b[0m\u001b[0mgetUserProperties\u001b[0m\u001b[0;34m(\u001b[0m\u001b[0mctx\u001b[0m\u001b[0;34m.\u001b[0m\u001b[0mgetAuthenticatedUser\u001b[0m\u001b[0;34m(\u001b[0m\u001b[0;34m)\u001b[0m\u001b[0;34m)\u001b[0m\u001b[0;34m)\u001b[0m\u001b[0;34m)\u001b[0m\u001b[0;34m\u001b[0m\u001b[0m\n",
        "\u001b[0;31mNameError\u001b[0m: name 'mouse' is not defined"
       ]
      }
     ],
     "prompt_number": 15
    },
    {
     "cell_type": "code",
     "collapsed": false,
     "input": [
      "from pprint import pprint\n",
      "with open(ENTITY_IDS, 'w') as f:\n",
      "    json.dump(existingIds, f)\n",
      "    \n",
      "with open(ENTITY_IDS, 'r') as f:\n",
      "    pprint(json.load(f))"
     ],
     "language": "python",
     "metadata": {},
     "outputs": []
    },
    {
     "cell_type": "heading",
     "level": 2,
     "metadata": {},
     "source": [
      "Analysis"
     ]
    },
    {
     "cell_type": "markdown",
     "metadata": {},
     "source": [
      "We collect all of the traces for each cell"
     ]
    },
    {
     "cell_type": "code",
     "collapsed": false,
     "input": [
      "cells = {}\n",
      "epochs = []\n",
      "for expt in iterable(project.getExperiments()):\n",
      "    for epoch in iterable(expt.getEpochs()): # ctx.getObjectsWithTag('demo')\n",
      "        epochs += [epoch]\n",
      "        cell = epoch.getInputSources().get('cell')\n",
      "        if len(list(iterable(epoch.getMeasurements()))) > 0:\n",
      "            m = epoch.getMeasurement('Membrane current')\n",
      "            data = as_data_frame(m)\n",
      "            peak = max(data['current']).item()\n",
      "            k = cell.getURI().toString()\n",
      "            peaks = cells.get(k, {})\n",
      "            pk = epoch.getProtocolParameters().get('step_amplitude_mV')\n",
      "            cell_peaks = peaks.get(pk, [])\n",
      "            peaks[pk] = cell_peaks + [peak]\n",
      "            cells[k] = peaks\n",
      "\n"
     ],
     "language": "python",
     "metadata": {},
     "outputs": [],
     "prompt_number": 21
    },
    {
     "cell_type": "code",
     "collapsed": false,
     "input": [
      "for (k,v) in cells.iteritems():\n",
      "    for ck, cv in v.iteritems():\n",
      "        v[ck] = sp.mean(cv)\n",
      "    \n",
      "    cells[k] = v"
     ],
     "language": "python",
     "metadata": {},
     "outputs": [],
     "prompt_number": 33
    },
    {
     "cell_type": "markdown",
     "metadata": {},
     "source": [
      "Now, we calculate the mean response"
     ]
    },
    {
     "cell_type": "code",
     "collapsed": false,
     "input": [
      "df = pd.DataFrame(data=cells.values(), index=cells.keys())\n",
      "df"
     ],
     "language": "python",
     "metadata": {},
     "outputs": [
      {
       "html": [
        "<div style=\"max-height:1000px;max-width:1500px;overflow:auto;\">\n",
        "<table border=\"1\" class=\"dataframe\">\n",
        "  <thead>\n",
        "    <tr style=\"text-align: right;\">\n",
        "      <th></th>\n",
        "      <th>10</th>\n",
        "      <th>15</th>\n",
        "      <th>20</th>\n",
        "      <th>25</th>\n",
        "      <th>30</th>\n",
        "    </tr>\n",
        "  </thead>\n",
        "  <tbody>\n",
        "    <tr>\n",
        "      <th>ovation://c4b97bd3-a6e8-4f86-8af5-e397c0a829db/</th>\n",
        "      <td> 13.012640</td>\n",
        "      <td> 19.619980</td>\n",
        "      <td> 25.806175</td>\n",
        "      <td> 32.378167</td>\n",
        "      <td> 39.938502</td>\n",
        "    </tr>\n",
        "    <tr>\n",
        "      <th>ovation://67d96763-cd45-4a72-9411-184b9ad48313/</th>\n",
        "      <td> 13.024501</td>\n",
        "      <td> 19.590244</td>\n",
        "      <td> 25.909828</td>\n",
        "      <td> 33.109317</td>\n",
        "      <td> 38.071165</td>\n",
        "    </tr>\n",
        "    <tr>\n",
        "      <th>ovation://8a1ffc5b-c185-4c35-9a9f-c5ad2b99d188/</th>\n",
        "      <td> 13.183073</td>\n",
        "      <td> 19.668095</td>\n",
        "      <td> 26.490597</td>\n",
        "      <td> 32.931320</td>\n",
        "      <td> 38.979037</td>\n",
        "    </tr>\n",
        "    <tr>\n",
        "      <th>ovation://41a9bdda-5b10-47f1-a22a-38144bf9004b/</th>\n",
        "      <td> 13.117248</td>\n",
        "      <td> 19.529875</td>\n",
        "      <td> 25.868137</td>\n",
        "      <td> 32.046101</td>\n",
        "      <td> 40.446435</td>\n",
        "    </tr>\n",
        "    <tr>\n",
        "      <th>ovation://8d508998-8a53-479b-ba12-e5ec9ad27ad7/</th>\n",
        "      <td> 13.006113</td>\n",
        "      <td> 19.840530</td>\n",
        "      <td> 26.093228</td>\n",
        "      <td> 31.917395</td>\n",
        "      <td> 38.972996</td>\n",
        "    </tr>\n",
        "    <tr>\n",
        "      <th>ovation://b360fe92-ff91-451b-a313-c941d0256800/</th>\n",
        "      <td> 12.976797</td>\n",
        "      <td> 19.633742</td>\n",
        "      <td> 25.902014</td>\n",
        "      <td> 33.703029</td>\n",
        "      <td> 39.903019</td>\n",
        "    </tr>\n",
        "    <tr>\n",
        "      <th>ovation://9f8a2908-9dd1-4604-b8d8-ce6f2d923fe5/</th>\n",
        "      <td> 12.891288</td>\n",
        "      <td> 19.080918</td>\n",
        "      <td> 25.930425</td>\n",
        "      <td> 32.052055</td>\n",
        "      <td> 39.091378</td>\n",
        "    </tr>\n",
        "    <tr>\n",
        "      <th>ovation://5d6b28fe-dd3b-4aa5-a6ee-69df3a23bd97/</th>\n",
        "      <td> 13.098672</td>\n",
        "      <td> 19.187174</td>\n",
        "      <td> 25.719772</td>\n",
        "      <td> 31.919191</td>\n",
        "      <td> 40.492684</td>\n",
        "    </tr>\n",
        "  </tbody>\n",
        "</table>\n",
        "</div>"
       ],
       "metadata": {},
       "output_type": "pyout",
       "prompt_number": 34,
       "text": [
        "                                                        10         15  \\\n",
        "ovation://c4b97bd3-a6e8-4f86-8af5-e397c0a829db/  13.012640  19.619980   \n",
        "ovation://67d96763-cd45-4a72-9411-184b9ad48313/  13.024501  19.590244   \n",
        "ovation://8a1ffc5b-c185-4c35-9a9f-c5ad2b99d188/  13.183073  19.668095   \n",
        "ovation://41a9bdda-5b10-47f1-a22a-38144bf9004b/  13.117248  19.529875   \n",
        "ovation://8d508998-8a53-479b-ba12-e5ec9ad27ad7/  13.006113  19.840530   \n",
        "ovation://b360fe92-ff91-451b-a313-c941d0256800/  12.976797  19.633742   \n",
        "ovation://9f8a2908-9dd1-4604-b8d8-ce6f2d923fe5/  12.891288  19.080918   \n",
        "ovation://5d6b28fe-dd3b-4aa5-a6ee-69df3a23bd97/  13.098672  19.187174   \n",
        "\n",
        "                                                        20         25  \\\n",
        "ovation://c4b97bd3-a6e8-4f86-8af5-e397c0a829db/  25.806175  32.378167   \n",
        "ovation://67d96763-cd45-4a72-9411-184b9ad48313/  25.909828  33.109317   \n",
        "ovation://8a1ffc5b-c185-4c35-9a9f-c5ad2b99d188/  26.490597  32.931320   \n",
        "ovation://41a9bdda-5b10-47f1-a22a-38144bf9004b/  25.868137  32.046101   \n",
        "ovation://8d508998-8a53-479b-ba12-e5ec9ad27ad7/  26.093228  31.917395   \n",
        "ovation://b360fe92-ff91-451b-a313-c941d0256800/  25.902014  33.703029   \n",
        "ovation://9f8a2908-9dd1-4604-b8d8-ce6f2d923fe5/  25.930425  32.052055   \n",
        "ovation://5d6b28fe-dd3b-4aa5-a6ee-69df3a23bd97/  25.719772  31.919191   \n",
        "\n",
        "                                                        30  \n",
        "ovation://c4b97bd3-a6e8-4f86-8af5-e397c0a829db/  39.938502  \n",
        "ovation://67d96763-cd45-4a72-9411-184b9ad48313/  38.071165  \n",
        "ovation://8a1ffc5b-c185-4c35-9a9f-c5ad2b99d188/  38.979037  \n",
        "ovation://41a9bdda-5b10-47f1-a22a-38144bf9004b/  40.446435  \n",
        "ovation://8d508998-8a53-479b-ba12-e5ec9ad27ad7/  38.972996  \n",
        "ovation://b360fe92-ff91-451b-a313-c941d0256800/  39.903019  \n",
        "ovation://9f8a2908-9dd1-4604-b8d8-ce6f2d923fe5/  39.091378  \n",
        "ovation://5d6b28fe-dd3b-4aa5-a6ee-69df3a23bd97/  40.492684  "
       ]
      }
     ],
     "prompt_number": 34
    },
    {
     "cell_type": "code",
     "collapsed": false,
     "input": [
      "df.mean().plot()"
     ],
     "language": "python",
     "metadata": {},
     "outputs": [
      {
       "metadata": {},
       "output_type": "pyout",
       "prompt_number": 39,
       "text": [
        "<matplotlib.axes.AxesSubplot at 0x111c137d0>"
       ]
      },
      {
       "metadata": {},
       "output_type": "display_data",
       "png": "[encoded data removed]",
       "text": [
        "<matplotlib.figure.Figure at 0x111bf2bd0>"
       ]
      }
     ],
     "prompt_number": 39
    },
    {
     "cell_type": "code",
     "collapsed": false,
     "input": [
      "df.mean()"
     ],
     "language": "python",
     "metadata": {},
     "outputs": [
      {
       "metadata": {},
       "output_type": "pyout",
       "prompt_number": 46,
       "text": [
        "10    13.038792\n",
        "15    19.518820\n",
        "20    25.965022\n",
        "25    32.507072\n",
        "30    39.486902\n",
        "dtype: float64"
       ]
      }
     ],
     "prompt_number": 46
    }
   ],
   "metadata": {}
  }
 ]
}