{
 "metadata": {
  "name": ""
 },
 "nbformat": 3,
 "nbformat_minor": 0,
 "worksheets": [
  {
   "cells": [
    {
     "cell_type": "heading",
     "level": 1,
     "metadata": {},
     "source": [
      "Demo project"
     ]
    },
    {
     "cell_type": "heading",
     "level": 2,
     "metadata": {},
     "source": [
      "Imports"
     ]
    },
    {
     "cell_type": "code",
     "collapsed": false,
     "input": [
      "from ovation.connection import connect\n",
      "from ovation.conversion import to_map, to_dict, asclass\n",
      "from ovation import DateTime, DateTimeZone, Optional, Sets, Maps, Integer\n",
      "import scipy as sp\n",
      "import pandas as pd\n",
      "import matplotlib.pyplot as plt\n",
      "import getpass"
     ],
     "language": "python",
     "metadata": {},
     "outputs": [],
     "prompt_number": 76
    },
    {
     "cell_type": "heading",
     "level": 2,
     "metadata": {},
     "source": [
      "Equipment setup"
     ]
    },
    {
     "cell_type": "code",
     "collapsed": false,
     "input": [
      "equipment = { 'Amplifier_1.model' : 'Multiclamp 700B',\n",
      "             'Amplifier_1.Headstage_1.Channel_1.name' : 'Channel 1',\n",
      "             'Microscope.CCD.manufacturer' : 'Spot' #TODO\n",
      "             }"
     ],
     "language": "python",
     "metadata": {},
     "outputs": [],
     "prompt_number": 2
    },
    {
     "cell_type": "heading",
     "level": 2,
     "metadata": {},
     "source": [
      "Protocols"
     ]
    },
    {
     "cell_type": "code",
     "collapsed": false,
     "input": [
      "cortical_slice_protocol_document = u'''\n",
      "This protocol describes the procedure for making cortical slices from an animal. \n",
      "\n",
      "We might use this ACSF recipie from Cold Spring Harbor (http://cshprotocols.cshlp.org/content/2011/9/pdb.rec065730.full?text_only=true)\n",
      "\n",
      "119 mM NaCl\n",
      "\n",
      "26.2 mM NaHCO3\n",
      "\n",
      "2.5 mM KCl\n",
      "\n",
      "1 mM NaH2PO4\n",
      "\n",
      "1.3 mM MgCl2\n",
      "\n",
      "10 mM glucose\n",
      "\n",
      "Gas with 5% CO2/95% O2 for 10\u201315 min, then add 2.5-mM CaCl2. Filter sterilize with a 0.22-\u00b5m filter apparatus, and store at 4\u00b0C. ACSF is stable for 3\u20134 wk. If overt contamination (solution becomes cloudy) or precipitation is apparent, discard, and make fresh ACSF.\n",
      "\n",
      "Variables such as {ACSF_BATCH_DATE}, the date when the ACSF batch was made  are denoted using {VARIABLE}.\n",
      "'''"
     ],
     "language": "python",
     "metadata": {},
     "outputs": [],
     "prompt_number": 3
    },
    {
     "cell_type": "code",
     "collapsed": false,
     "input": [
      "cell_selection_protocol_document = u'''\n",
      "This protocol describes how cells were chosen within a slice for recording.\n",
      "'''"
     ],
     "language": "python",
     "metadata": {},
     "outputs": [],
     "prompt_number": 4
    },
    {
     "cell_type": "code",
     "collapsed": false,
     "input": [
      "recording_protocol_1_document = u'''\n",
      "TODO\n",
      "'''"
     ],
     "language": "python",
     "metadata": {},
     "outputs": [],
     "prompt_number": 5
    },
    {
     "cell_type": "code",
     "collapsed": false,
     "input": [
      "recording_protocol_2_document = u'''\n",
      "TODO\n",
      "'''"
     ],
     "language": "python",
     "metadata": {},
     "outputs": [],
     "prompt_number": 6
    },
    {
     "cell_type": "heading",
     "level": 2,
     "metadata": {},
     "source": [
      "Analysis protocols"
     ]
    },
    {
     "cell_type": "code",
     "collapsed": false,
     "input": [
      "analysis_protocol =  { 'function' : 'mean_response',\n",
      "                      'scm' : 'https://github.com/physion/ovation-sample-project',\n",
      "                      'scm_revision' : '5e75c5e4c016f5e228171b70c02332a9' # TODO\n",
      "                      }"
     ],
     "language": "python",
     "metadata": {},
     "outputs": [],
     "prompt_number": 7
    },
    {
     "cell_type": "heading",
     "level": 2,
     "metadata": {},
     "source": [
      "Connection"
     ]
    },
    {
     "cell_type": "code",
     "collapsed": false,
     "input": [
      "from ovation.api import Ovation\n",
      "Ovation.getVersion()"
     ],
     "language": "python",
     "metadata": {},
     "outputs": [
      {
       "metadata": {},
       "output_type": "pyout",
       "prompt_number": 11,
       "text": [
        "'2.0.0'"
       ]
      }
     ],
     "prompt_number": 11
    },
    {
     "cell_type": "code",
     "collapsed": false,
     "input": [
      "email = raw_input('Email: ')\n",
      "print('Enter password at the console...')\n",
      "dsc = connect(email, getpass.getpass(prompt='Ovation password: '))\n",
      "ctx = dsc.getContext()"
     ],
     "language": "python",
     "metadata": {},
     "outputs": [
      {
       "name": "stdout",
       "output_type": "stream",
       "stream": "stdout",
       "text": [
        "Email: barry@physion.us\n"
       ]
      },
      {
       "output_type": "stream",
       "stream": "stdout",
       "text": [
        "Enter password at the console...\n"
       ]
      }
     ],
     "prompt_number": 12
    },
    {
     "cell_type": "heading",
     "level": 3,
     "metadata": {},
     "source": [
      "Structural entities"
     ]
    },
    {
     "cell_type": "markdown",
     "metadata": {},
     "source": [
      "We keep the Ids of relevant entities"
     ]
    },
    {
     "cell_type": "code",
     "collapsed": false,
     "input": [
      "import json\n",
      "ENTITY_IDS = 'entities.json'\n",
      "\n",
      "try:\n",
      "    with open(ENTITY_IDS, 'r') as f:\n",
      "        existingIds = json.load(f)\n",
      "except IOError:\n",
      "    existingIds = {}\n",
      "    with open(ENTITY_IDS, 'w') as f:\n",
      "        json.dump(existingIds, f)\n"
     ],
     "language": "python",
     "metadata": {},
     "outputs": [],
     "prompt_number": 46
    },
    {
     "cell_type": "markdown",
     "metadata": {},
     "source": [
      "We first find (or create) the ``Protocol`` instances"
     ]
    },
    {
     "cell_type": "code",
     "collapsed": false,
     "input": [
      "def get_protocol(name, document):\n",
      "    protocol = ctx.getProtocol(name)\n",
      "    if protocol is None:\n",
      "        print('Inserting protocol ' + name + '...')\n",
      "        protocol = ctx.insertProtocol(name, document)\n",
      "    return protocol\n",
      "\n",
      "cortical_slice_protocol = get_protocol('Cortical Slice', cortical_slice_protocol_document)\n",
      "cell_selection_protocol = get_protocol('Cortical Cell Selection', cell_selection_protocol_document)\n",
      "recording_protocol_1 = get_protocol('Recording Protocol 1', recording_protocol_1_document)\n",
      "recording_protocol_2 = get_protocol('Recording Protocol 2', recording_protocol_2_document)"
     ],
     "language": "python",
     "metadata": {},
     "outputs": [],
     "prompt_number": 14
    },
    {
     "cell_type": "markdown",
     "metadata": {},
     "source": [
      "Now we're ready to create the ``Project`` and two ``Experiments``. Each ``Experiment`` will corespond to recordings (and imaging) made from one ``Source``"
     ]
    },
    {
     "cell_type": "code",
     "collapsed": false,
     "input": [
      "timezone = DateTimeZone.forID('America/Los_Angeles')"
     ],
     "language": "python",
     "metadata": {},
     "outputs": [],
     "prompt_number": 16
    },
    {
     "cell_type": "code",
     "collapsed": false,
     "input": [
      "projectId = existingIds.get('project') #'ovation://f9dd7bdb-9762-4aa0-9d9d-e7bc14f5c0e2/'\n",
      "try:\n",
      "    project = ctx.getObjectWithURI(projectId)\n",
      "except:\n",
      "    print('Inserting project...')\n",
      "    project = ctx.insertProject('Ovation sample physiology project',\n",
      "                                '''The purpose of this project is to demonstrate the core features of the Ovation platform\n",
      "                                in a made-up physiology experiment''',\n",
      "                                DateTime(2013, 11, 25, 13, 19, 0, 0, timezone))\n",
      "    print(project.getURI().toString())\n",
      "    existingIds['project'] = project.getURI().toString()"
     ],
     "language": "python",
     "metadata": {},
     "outputs": [
      {
       "output_type": "stream",
       "stream": "stdout",
       "text": [
        "Inserting project...\n",
        "ovation://f9dd7bdb-9762-4aa0-9d9d-e7bc14f5c0e2/"
       ]
      },
      {
       "output_type": "stream",
       "stream": "stdout",
       "text": [
        "\n"
       ]
      }
     ],
     "prompt_number": 15
    },
    {
     "cell_type": "code",
     "collapsed": false,
     "input": [
      "experiment1Id = existingIds.get('expt1') #'ovation://14f3417d-3444-47e9-87ad-43cc3449bb35/'\n",
      "try:\n",
      "    expt1 = ctx.getObjectWithURI(experiment1Id)\n",
      "except:\n",
      "    print('Inserting experiment 1...')\n",
      "    expt1 = project.insertExperiment(\"Making knowledge about some cells' physiology\",\n",
      "                                     DateTime(2013, 11, 30, 7, 0, 0, 0, timezone))\n",
      "    expt1.setEquipmentSetupFromMap(to_map(equipment))\n",
      "    print(expt1.getURI().toString())\n",
      "    existingIds['expt1'] = expt1.getURI().toString()"
     ],
     "language": "python",
     "metadata": {},
     "outputs": [],
     "prompt_number": 20
    },
    {
     "cell_type": "code",
     "collapsed": false,
     "input": [
      "experiment2Id = existingIds.get('expt2') 'ovation://b000c7ae-c445-4633-a621-84b28fbd5966/'\n",
      "try:\n",
      "    expt2 = ctx.getObjectWithURI(experiment2Id)\n",
      "except:\n",
      "    print('Inserting experiment 2...')\n",
      "    expt2 = project.insertExperiment(\"Making knowledge about some cells' good looks\",\n",
      "                                     DateTime(2013, 11, 30, 7, 0, 0, 0, timezone))\n",
      "    expt2.setEquipmentSetupFromMap(to_map(equipment))\n",
      "    print(expt2.getURI().toString())\n",
      "    existingIds['expt2'] = expt2.getURI().toString()"
     ],
     "language": "python",
     "metadata": {},
     "outputs": [],
     "prompt_number": 22
    },
    {
     "cell_type": "code",
     "collapsed": false,
     "input": [
      "print([mouse1.getLabel(), mouse1.getIdentifier()])\n",
      "pprint(to_dict(mouse1.getUserProperties(ctx.getAuthenticatedUser())))\n",
      "\n",
      "print([mouse2.getLabel(), mouse2.getIdentifier()])\n",
      "pprint(to_dict(mouse2.getUserProperties(ctx.getAuthenticatedUser())))"
     ],
     "language": "python",
     "metadata": {},
     "outputs": [
      {
       "output_type": "stream",
       "stream": "stdout",
       "text": [
        "['C57/BL6', 'animal-id-1']\n",
        "{'DOB': 'November 1, 2013', 'sex': 'male'}\n",
        "['C57/BL6', 'animal-id-2']\n",
        "{'DOB': 'November 1, 2013', 'sex': 'female'}\n"
       ]
      }
     ],
     "prompt_number": 69
    },
    {
     "cell_type": "code",
     "collapsed": false,
     "input": [
      "try:\n",
      "    mouse1 = ctx.getObjectWithURI(existingIds.get('mouse1'))\n",
      "except:\n",
      "    mouse1 = ctx.insertSource('C57/BL6', 'animal-id-1')\n",
      "    mouse1.addProperty('DOB', 'November 1, 2013')\n",
      "    mouse1.addProperty('sex', 'male')\n",
      "    \n",
      "    existingIds['mouse1'] = mouse1.getURI().toString()\n",
      "\n",
      "try:\n",
      "    mouse2 = ctx.getObjectWithURI(existingIds.get('mouse2'))\n",
      "except:\n",
      "    mouse2 = ctx.insertSource('C57/BL6', 'animal-id-2')\n",
      "    mouse2.addProperty('DOB', 'November 1, 2013')\n",
      "    mouse2.addProperty('sex', 'female')\n",
      "    \n",
      "    existingIds['mouse2'] = mouse2.getURI().toString()"
     ],
     "language": "python",
     "metadata": {},
     "outputs": []
    },
    {
     "cell_type": "code",
     "collapsed": false,
     "input": [
      "from pprint import pprint\n",
      "with open(ENTITY_IDS, 'w') as f:\n",
      "    json.dump(existingIds, f)\n",
      "    \n",
      "with open(ENTITY_IDS, 'r') as f:\n",
      "    pprint(json.load(f))"
     ],
     "language": "python",
     "metadata": {},
     "outputs": [
      {
       "output_type": "stream",
       "stream": "stdout",
       "text": [
        "{u'expt1': u'ovation://14f3417d-3444-47e9-87ad-43cc3449bb35/',\n",
        " u'expt2': u'ovation://b000c7ae-c445-4633-a621-84b28fbd5966/',\n",
        " u'mouse1': u'ovation://e38a19d6-6e27-4c77-95fb-3d52273e9abb/',\n",
        " u'mouse2': u'ovation://d23980f5-9198-4120-9ef9-4d358d9de09d/',\n",
        " u'project': u'ovation://f9dd7bdb-9762-4aa0-9d9d-e7bc14f5c0e2/'}\n"
       ]
      }
     ],
     "prompt_number": 72
    },
    {
     "cell_type": "heading",
     "level": 2,
     "metadata": {},
     "source": [
      "Experiment 1"
     ]
    },
    {
     "cell_type": "markdown",
     "metadata": {},
     "source": [
      "In the first experiment, we perform a whole-cell experiment on two cells from one brain slice from each of two mice. Each cell is tested with two different protocols, one a step, and one a ramp."
     ]
    },
    {
     "cell_type": "code",
     "collapsed": false,
     "input": [
      "mice = [mouse1, mouse2]\n",
      "for m in mice:\n",
      "    \n",
      "    # Create a cortical slice and select two cells\n",
      "    cortical_slice = m.insertSource(expt1,\n",
      "                           DateTime(2013, 11, 30, 8, 10, 0, 0, timezone),\n",
      "                           DateTime(2013, 11, 30, 8, 25, 0, 0, timezone),\n",
      "                           cell_selection_protocol,\n",
      "                           to_map({}),\n",
      "                           Optional.absent(),\n",
      "                           'cortical slice',\n",
      "                           'slice-1')\n",
      "    \n",
      "    epoch = cortical_slice.getProducingProcdure()\n",
      "    cell1 = cortical_slice(to_map({'slice' : cortical_slice}),\n",
      "                           epoch,\n",
      "                           'cell 1',\n",
      "                           'cortical cell',\n",
      "                           'cell-1')\n",
      "    cell2 = cortical_slice(to_map({'slice' : cortical_slice}),\n",
      "                           epoch,\n",
      "                           'cell 2',\n",
      "                           'cortical cell',\n",
      "                           'cell-2')\n",
      "    \n",
      "    # For each cell, record 5 \"steps\"\n",
      "    cells = [cell1, cell2]\n",
      "    starts = [DateTime(2013, 11, 30, 8, 55, 0, 0, timezone),\n",
      "              DateTime(2013, 11, 30, 9, 20, 0, 0, timezone)]\n",
      "    for (c,cell) in enumerate(cells):    \n",
      "        for i = range(1,5):\n",
      "            protocol_parameters = {}\n",
      "            device_parameters = {'Amplifier_1.Headstage_1.Channel_1.mode' : 'V-clamp',\n",
      "                                 'Amplifier_1.Headstage_1.Channel_1.gain' : '10' }\n",
      "            \n",
      "            epoch = expt1.insertEpoch(to_map({'cell' : cell}),\n",
      "                                      None,\n",
      "                                      starts[c].plusSeconds(i-1 * 3),\n",
      "                                      starts[c].plusSeconds((i-1 * 3) + 1),\n",
      "                                      recording_protocol_1,\n",
      "                                      to_map(protocol_parameters),\n",
      "                                      to_map(device_parameters))\n",
      "                                      "
     ],
     "language": "python",
     "metadata": {},
     "outputs": []
    }
   ],
   "metadata": {}
  }
 ]
}