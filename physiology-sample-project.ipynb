{
 "metadata": {
  "name": ""
 },
 "nbformat": 3,
 "nbformat_minor": 0,
 "worksheets": [
  {
   "cells": [
    {
     "cell_type": "heading",
     "level": 1,
     "metadata": {},
     "source": [
      "Demo project construction"
     ]
    },
    {
     "cell_type": "heading",
     "level": 2,
     "metadata": {},
     "source": [
      "Imports"
     ]
    },
    {
     "cell_type": "code",
     "collapsed": false,
     "input": [
      "from ovation.connection import connect\n",
      "from ovation.conversion import to_map, to_dict, asclass, iterable, to_java_set\n",
      "from ovation.data import insert_numeric_analysis_artifact, insert_numeric_measurement, as_data_frame\n",
      "from ovation import DateTime, DateTimeZone, Optional, Sets, Maps, Integer, URL\n",
      "from pprint import pprint\n",
      "import quantities as pq\n",
      "import scipy as sp\n",
      "import pandas as pd\n",
      "import matplotlib.pyplot as plt\n",
      "import logging\n",
      "import getpass\n",
      "import tempfile\n",
      "import os.path"
     ],
     "language": "python",
     "metadata": {},
     "outputs": [],
     "prompt_number": 1
    },
    {
     "cell_type": "code",
     "collapsed": false,
     "input": [
      "from ovation.api import Ovation\n",
      "print(Ovation.getVersion())"
     ],
     "language": "python",
     "metadata": {},
     "outputs": [
      {
       "output_type": "stream",
       "stream": "stdout",
       "text": [
        "2.0.0\n"
       ]
      }
     ],
     "prompt_number": 2
    },
    {
     "cell_type": "heading",
     "level": 2,
     "metadata": {},
     "source": [
      "Equipment setup"
     ]
    },
    {
     "cell_type": "code",
     "collapsed": false,
     "input": [
      "equipment = { 'Amplifier_1.model' : 'Multiclamp 700B',\n",
      "             'Amplifier_1.Channel_1.name' : 'Channel 1',\n",
      "             }"
     ],
     "language": "python",
     "metadata": {},
     "outputs": [],
     "prompt_number": 3
    },
    {
     "cell_type": "heading",
     "level": 2,
     "metadata": {},
     "source": [
      "Protocols"
     ]
    },
    {
     "cell_type": "code",
     "collapsed": false,
     "input": [
      "cortical_slice_protocol_document = u'''\n",
      "This protocol describes the procedure for making cortical slices from an mouse. \n",
      "\n",
      "We might use this ACSF recipie from Cold Spring Harbor (http://cshprotocols.cshlp.org/content/2011/9/pdb.rec065730.full?text_only=true)\n",
      "\n",
      "119 mM NaCl\n",
      "\n",
      "26.2 mM NaHCO3\n",
      "\n",
      "2.5 mM KCl\n",
      "\n",
      "1 mM NaH2PO4\n",
      "\n",
      "1.3 mM MgCl2\n",
      "\n",
      "10 mM glucose\n",
      "\n",
      "Gas with 5% CO2/95% O2 for 10\u201315 min, then add 2.5-mM CaCl2. Filter sterilize with a 0.22-\u00b5m filter apparatus, and store at 4\u00b0C. ACSF is stable for 3\u20134 wk. If overt contamination (solution becomes cloudy) or precipitation is apparent, discard, and make fresh ACSF.\n",
      "\n",
      "Variables such as {ACSF_BATCH_DATE}, the date when the ACSF batch was made  are denoted using {VARIABLE}.\n",
      "'''"
     ],
     "language": "python",
     "metadata": {},
     "outputs": [],
     "prompt_number": 4
    },
    {
     "cell_type": "code",
     "collapsed": false,
     "input": [
      "cell_selection_protocol_document = u'''\n",
      "This protocol describes how cells were chosen within a slice for recording.\n",
      "\n",
      "Cells were chosen by visual identification. No other selection criteria were applied.\n",
      "'''"
     ],
     "language": "python",
     "metadata": {},
     "outputs": [],
     "prompt_number": 5
    },
    {
     "cell_type": "code",
     "collapsed": false,
     "input": [
      "recording_protocol_1_document = u'''\n",
      "For each of {nsteps}, a step in membrane voltage is presented. If {step} is the step number, then the baseline membrane\n",
      "volage is 0mV and the step voltage is {starting_step_amplitude_mV} + {step_increment_mV} * {step} = {step_amplitude_mV}.\n",
      "\n",
      "Resulting membrane current is recorde in voltage-clamp mode.\n",
      "'''"
     ],
     "language": "python",
     "metadata": {},
     "outputs": [],
     "prompt_number": 6
    },
    {
     "cell_type": "heading",
     "level": 2,
     "metadata": {},
     "source": [
      "Connection"
     ]
    },
    {
     "cell_type": "code",
     "collapsed": false,
     "input": [
      "email = raw_input('Email: ')\n",
      "print('Enter password at the console...')\n",
      "dsc = connect(email, getpass.getpass(prompt='Ovation password: '))\n",
      "ctx = dsc.getContext()"
     ],
     "language": "python",
     "metadata": {},
     "outputs": [
      {
       "name": "stdout",
       "output_type": "stream",
       "stream": "stdout",
       "text": [
        "Email: barry@ovation.io\n"
       ]
      },
      {
       "output_type": "stream",
       "stream": "stdout",
       "text": [
        "Enter password at the console...\n"
       ]
      }
     ],
     "prompt_number": 7
    },
    {
     "cell_type": "heading",
     "level": 2,
     "metadata": {},
     "source": [
      "Analysis protocols"
     ]
    },
    {
     "cell_type": "code",
     "collapsed": false,
     "input": [
      "analysis_protocol = ctx.getProtocol('Per-cell mean peak response')\n",
      "if analysis_protocol is None:\n",
      "    analysis_protocol = ctx.insertProtocol('Per-cell mean peak response',\n",
      "                                           'Calculate per-cell mean peak response across the project',\n",
      "                                           'physiology_demo_analysis.calculate_cell_means',\n",
      "                                           'https://github.com/physion/ovation-sample-project',\n",
      "                                           '6ad21e8b2008aed50b7667389ddc22947a8d5357'\n",
      "                                           )"
     ],
     "language": "python",
     "metadata": {},
     "outputs": [],
     "prompt_number": 8
    },
    {
     "cell_type": "heading",
     "level": 3,
     "metadata": {},
     "source": [
      "Structural entities"
     ]
    },
    {
     "cell_type": "markdown",
     "metadata": {},
     "source": [
      "We keep the Ids of relevant entities"
     ]
    },
    {
     "cell_type": "code",
     "collapsed": false,
     "input": [
      "import json\n",
      "ENTITY_IDS = 'entities.json'\n",
      "\n",
      "try:\n",
      "    with open(ENTITY_IDS, 'r') as f:\n",
      "        existingIds = json.load(f)\n",
      "except IOError:\n",
      "    existingIds = {}\n",
      "    with open(ENTITY_IDS, 'w') as f:\n",
      "        json.dump(existingIds, f)\n"
     ],
     "language": "python",
     "metadata": {},
     "outputs": [],
     "prompt_number": 9
    },
    {
     "cell_type": "markdown",
     "metadata": {},
     "source": [
      "We first find (or create) the ``Protocol`` instances"
     ]
    },
    {
     "cell_type": "code",
     "collapsed": false,
     "input": [
      "def get_protocol(name, document):\n",
      "    protocol = ctx.getProtocol(name)\n",
      "    if protocol is None:\n",
      "        print('Inserting protocol ' + name + '...')\n",
      "        protocol = ctx.insertProtocol(name, document)\n",
      "    return protocol\n",
      "\n",
      "cortical_slice_protocol = get_protocol('Cortical Slicing', cortical_slice_protocol_document)\n",
      "cell_selection_protocol = get_protocol('Cortical Cell Selection', cell_selection_protocol_document)\n",
      "recording_protocol_1 = get_protocol('Membrane voltage step', recording_protocol_1_document)"
     ],
     "language": "python",
     "metadata": {},
     "outputs": [
      {
       "output_type": "stream",
       "stream": "stdout",
       "text": [
        "Inserting protocol Cortical Slicing...\n",
        "Inserting protocol Cortical Cell Selection..."
       ]
      },
      {
       "output_type": "stream",
       "stream": "stdout",
       "text": [
        "\n",
        "Inserting protocol Membrane voltage step..."
       ]
      },
      {
       "output_type": "stream",
       "stream": "stdout",
       "text": [
        "\n"
       ]
      }
     ],
     "prompt_number": 10
    },
    {
     "cell_type": "markdown",
     "metadata": {},
     "source": [
      "Now we're ready to create the ``Project`` and two ``Experiments``. Each ``Experiment`` will corespond to recordings (and imaging) made from one ``Source``"
     ]
    },
    {
     "cell_type": "code",
     "collapsed": false,
     "input": [
      "timezone = DateTimeZone.forID('America/Los_Angeles')"
     ],
     "language": "python",
     "metadata": {},
     "outputs": [],
     "prompt_number": 11
    },
    {
     "cell_type": "code",
     "collapsed": false,
     "input": [
      "projectId = existingIds.get('project')\n",
      "try:\n",
      "    project = asclass('Project', ctx.getObjectWithURI(projectId))\n",
      "except:\n",
      "    print('Inserting project...')\n",
      "    project = ctx.insertProject('Ovation sample physiology project',\n",
      "                                '''The purpose of this project is to demonstrate the core features of the Ovation platform\n",
      "                                using a series of made-up physiology experiments.''',\n",
      "                                DateTime(2013, 11, 25, 13, 19, 0, 0, timezone))\n",
      "    print(project.getURI().toString())\n",
      "    existingIds['project'] = project.getURI().toString()"
     ],
     "language": "python",
     "metadata": {},
     "outputs": [
      {
       "output_type": "stream",
       "stream": "stdout",
       "text": [
        "Inserting project...\n",
        "ovation://47df7d2e-68fc-4c07-81fd-a9751bc01537/"
       ]
      },
      {
       "output_type": "stream",
       "stream": "stdout",
       "text": [
        "\n"
       ]
      }
     ],
     "prompt_number": 12
    },
    {
     "cell_type": "code",
     "collapsed": false,
     "input": [
      "# Two experiments, with two slices each from a single animal, each with two cells\n",
      "\n",
      "experiments = []\n",
      "for exp_idx in range(0,2):\n",
      "    print('Experiment {0}'.format(exp_idx + 1))\n",
      "    \n",
      "    exp_name = 'expt' + str(exp_idx)\n",
      "    experimentId = existingIds.get(exp_name)\n",
      "    try:\n",
      "        expt = ctx.getObjectWithURI(experiment1Id)\n",
      "    except:\n",
      "        print('Inserting experiment ' + str(exp_idx) + '...')\n",
      "        expt = project.insertExperiment(\"Measuring mouse cortical cells' membrane current in response to a membrane voltage step\",\n",
      "                                         DateTime(2013, 12, 2 + exp_idx, 7, 0, 0, 0, timezone))\n",
      "        expt.setEquipmentSetupFromMap(to_map(equipment))\n",
      "        existingIds[exp_name] = expt.getURI().toString()\n",
      "        \n",
      "    \n",
      "    experiments += [expt]\n",
      "    \n",
      "    # One mouse per experiment\n",
      "    mouse_name = 'mouse' + str(exp_idx)\n",
      "    try:\n",
      "        mouse = asclass('Source', ctx.getObjectWithURI(existingIds.get(mouse_name)))\n",
      "    except:\n",
      "        mouse = ctx.insertSource('C57/BL6', 'animal-id-' + str(exp_idx))\n",
      "        mouse.addProperty('DOB', 'November 1, 2013')\n",
      "        mouse.addProperty('sex', 'male' if exp_idx % 2 == 0  else 'female')\n",
      "        \n",
      "        existingIds[mouse_name] = mouse.getURI().toString()\n",
      "        \n",
      "    \n",
      "    # Two slices made from the mouse\n",
      "    for slice_idx in range(2):\n",
      "        print('\\tSlice {0}'.format(slice_idx+1))\n",
      "        \n",
      "        slice_name = 'slice{0}_{1}'.format(slice_idx, exp_idx)\n",
      "        slice_start = DateTime(2013, 11, 30, 8, 10, 0, 0, timezone).plusHours(slice_idx)\n",
      "        cortical_slice = mouse.insertSource(expt,\n",
      "                               slice_start,\n",
      "                               slice_start.plusMinutes(10),\n",
      "                               cortical_slice_protocol,\n",
      "                               to_map({'ACSF_BATCH_DATE' : '2013-12-08T-08:00'}),\n",
      "                               Optional.absent(),\n",
      "                               'Cortical slice',\n",
      "                               slice_name)\n",
      "        \n",
      "        # Two cells from each slice\n",
      "        for cell_idx in range(2):\n",
      "            print('\\t\\tCell {0}'.format(cell_idx+1))\n",
      "            \n",
      "            cell_name = 'cell{0}'.format(cell_idx)\n",
      "            cell_start = slice_start.plusMinutes(15)\n",
      "            recording_start = cell_start.plusMinutes(1)\n",
      "            cell = cortical_slice.insertSource(expt,\n",
      "                               cell_start,\n",
      "                               cell_start.plusSeconds(15),\n",
      "                               cell_selection_protocol,\n",
      "                               to_map({}),\n",
      "                               Optional.absent(),\n",
      "                               'Cortical cell',\n",
      "                               cell_name)\n",
      "            \n",
      "            for i in range(15):\n",
      "                print('\\t\\t\\tEpoch {0}'.format(i+1))\n",
      "                step_start = 5\n",
      "                step_increment = 5\n",
      "                \n",
      "                step = i % 5\n",
      "                protocol_parameters = {'step' : step,\n",
      "                                       'starting_step_amplitude_mV' : step_start,\n",
      "                                       'step_increment_mV' : step_increment,\n",
      "                                       'step_amplitude_mV' : (step+1) * step_increment + step_start}\n",
      "            \n",
      "                device_parameters = {'Amplifier_1.Channel_1.mode' : 'V-clamp',\n",
      "                                     'Amplifier_1.Channel_1.gain' : '10' }\n",
      "                \n",
      "                epoch = expt.insertEpoch(to_map({'cell' : cell}),\n",
      "                                          None,\n",
      "                                          recording_start.plusSeconds(i * 3),\n",
      "                                          recording_start.plusSeconds((i * 3) + 1),\n",
      "                                          recording_protocol_1,\n",
      "                                          to_map(protocol_parameters),\n",
      "                                          to_map(device_parameters))\n",
      "                \n",
      "                \n",
      "                step_amplitude = (step+1) * step_increment + step_start\n",
      "                data = sp.hstack((sp.zeros(500), sp.ones(500) * step_amplitude, sp.zeros(500))) * pq.pA\n",
      "                noise = sp.randn(*data.shape) * step_amplitude/10 * pq.pA #10% noise\n",
      "                data = data + noise\n",
      "                data.sampling_rates = [1000 * pq.Hz]\n",
      "                data.labels = ['membrance current']\n",
      "                insert_numeric_measurement(epoch, \n",
      "                                           set(['cell']), \n",
      "                                           set(['Amplifier_1.Headstage_1.Channel_1']),\n",
      "                                           'Membrane current',\n",
      "                                           {'current' : data})\n",
      "                epoch.addTag('demo')\n",
      "\n",
      "with open(ENTITY_IDS, 'w') as f:\n",
      "    json.dump(existingIds, f)\n",
      "    \n",
      "with open(ENTITY_IDS, 'r') as f:\n",
      "    pprint(json.load(f))\n",
      "    \n",
      "ctx = dsc.getContext()\n",
      "project = ctx.getObjectWithURI(project.getURI().toString())"
     ],
     "language": "python",
     "metadata": {},
     "outputs": [
      {
       "output_type": "stream",
       "stream": "stdout",
       "text": [
        "Experiment 1\n",
        "Inserting experiment 0...\n",
        "\tSlice 1"
       ]
      },
      {
       "output_type": "stream",
       "stream": "stdout",
       "text": [
        "\n",
        "\t\tCell 1"
       ]
      },
      {
       "output_type": "stream",
       "stream": "stdout",
       "text": [
        "\n",
        "\t\t\tEpoch 1"
       ]
      },
      {
       "output_type": "stream",
       "stream": "stdout",
       "text": [
        "\n",
        "\t\t\tEpoch 2"
       ]
      },
      {
       "output_type": "stream",
       "stream": "stdout",
       "text": [
        "\n",
        "\t\t\tEpoch 3"
       ]
      },
      {
       "output_type": "stream",
       "stream": "stdout",
       "text": [
        "\n",
        "\t\t\tEpoch 4"
       ]
      },
      {
       "output_type": "stream",
       "stream": "stdout",
       "text": [
        "\n",
        "\t\t\tEpoch 5"
       ]
      },
      {
       "output_type": "stream",
       "stream": "stdout",
       "text": [
        "\n",
        "\t\t\tEpoch 6"
       ]
      },
      {
       "output_type": "stream",
       "stream": "stdout",
       "text": [
        "\n",
        "\t\t\tEpoch 7"
       ]
      },
      {
       "output_type": "stream",
       "stream": "stdout",
       "text": [
        "\n",
        "\t\t\tEpoch 8"
       ]
      },
      {
       "output_type": "stream",
       "stream": "stdout",
       "text": [
        "\n",
        "\t\t\tEpoch 9"
       ]
      },
      {
       "output_type": "stream",
       "stream": "stdout",
       "text": [
        "\n",
        "\t\t\tEpoch 10"
       ]
      },
      {
       "output_type": "stream",
       "stream": "stdout",
       "text": [
        "\n",
        "\t\t\tEpoch 11"
       ]
      },
      {
       "output_type": "stream",
       "stream": "stdout",
       "text": [
        "\n",
        "\t\t\tEpoch 12"
       ]
      },
      {
       "output_type": "stream",
       "stream": "stdout",
       "text": [
        "\n",
        "\t\t\tEpoch 13"
       ]
      },
      {
       "output_type": "stream",
       "stream": "stdout",
       "text": [
        "\n",
        "\t\t\tEpoch 14"
       ]
      },
      {
       "output_type": "stream",
       "stream": "stdout",
       "text": [
        "\n",
        "\t\t\tEpoch 15"
       ]
      },
      {
       "output_type": "stream",
       "stream": "stdout",
       "text": [
        "\n",
        "\t\tCell 2"
       ]
      },
      {
       "output_type": "stream",
       "stream": "stdout",
       "text": [
        "\n",
        "\t\t\tEpoch 1"
       ]
      },
      {
       "output_type": "stream",
       "stream": "stdout",
       "text": [
        "\n",
        "\t\t\tEpoch 2"
       ]
      },
      {
       "output_type": "stream",
       "stream": "stdout",
       "text": [
        "\n",
        "\t\t\tEpoch 3"
       ]
      },
      {
       "output_type": "stream",
       "stream": "stdout",
       "text": [
        "\n",
        "\t\t\tEpoch 4"
       ]
      },
      {
       "output_type": "stream",
       "stream": "stdout",
       "text": [
        "\n",
        "\t\t\tEpoch 5"
       ]
      },
      {
       "output_type": "stream",
       "stream": "stdout",
       "text": [
        "\n",
        "\t\t\tEpoch 6"
       ]
      },
      {
       "output_type": "stream",
       "stream": "stdout",
       "text": [
        "\n",
        "\t\t\tEpoch 7"
       ]
      },
      {
       "output_type": "stream",
       "stream": "stdout",
       "text": [
        "\n",
        "\t\t\tEpoch 8"
       ]
      },
      {
       "output_type": "stream",
       "stream": "stdout",
       "text": [
        "\n",
        "\t\t\tEpoch 9"
       ]
      },
      {
       "output_type": "stream",
       "stream": "stdout",
       "text": [
        "\n",
        "\t\t\tEpoch 10"
       ]
      },
      {
       "output_type": "stream",
       "stream": "stdout",
       "text": [
        "\n",
        "\t\t\tEpoch 11"
       ]
      },
      {
       "output_type": "stream",
       "stream": "stdout",
       "text": [
        "\n",
        "\t\t\tEpoch 12"
       ]
      },
      {
       "output_type": "stream",
       "stream": "stdout",
       "text": [
        "\n",
        "\t\t\tEpoch 13"
       ]
      },
      {
       "output_type": "stream",
       "stream": "stdout",
       "text": [
        "\n",
        "\t\t\tEpoch 14"
       ]
      },
      {
       "output_type": "stream",
       "stream": "stdout",
       "text": [
        "\n",
        "\t\t\tEpoch 15"
       ]
      },
      {
       "output_type": "stream",
       "stream": "stdout",
       "text": [
        "\n",
        "\tSlice 2"
       ]
      },
      {
       "output_type": "stream",
       "stream": "stdout",
       "text": [
        "\n",
        "\t\tCell 1"
       ]
      },
      {
       "output_type": "stream",
       "stream": "stdout",
       "text": [
        "\n",
        "\t\t\tEpoch 1"
       ]
      },
      {
       "output_type": "stream",
       "stream": "stdout",
       "text": [
        "\n",
        "\t\t\tEpoch 2"
       ]
      },
      {
       "output_type": "stream",
       "stream": "stdout",
       "text": [
        "\n",
        "\t\t\tEpoch 3"
       ]
      },
      {
       "output_type": "stream",
       "stream": "stdout",
       "text": [
        "\n",
        "\t\t\tEpoch 4"
       ]
      },
      {
       "output_type": "stream",
       "stream": "stdout",
       "text": [
        "\n",
        "\t\t\tEpoch 5"
       ]
      },
      {
       "output_type": "stream",
       "stream": "stdout",
       "text": [
        "\n",
        "\t\t\tEpoch 6"
       ]
      },
      {
       "output_type": "stream",
       "stream": "stdout",
       "text": [
        "\n",
        "\t\t\tEpoch 7"
       ]
      },
      {
       "output_type": "stream",
       "stream": "stdout",
       "text": [
        "\n",
        "\t\t\tEpoch 8"
       ]
      },
      {
       "output_type": "stream",
       "stream": "stdout",
       "text": [
        "\n",
        "\t\t\tEpoch 9"
       ]
      },
      {
       "output_type": "stream",
       "stream": "stdout",
       "text": [
        "\n",
        "\t\t\tEpoch 10"
       ]
      },
      {
       "output_type": "stream",
       "stream": "stdout",
       "text": [
        "\n",
        "\t\t\tEpoch 11"
       ]
      },
      {
       "output_type": "stream",
       "stream": "stdout",
       "text": [
        "\n",
        "\t\t\tEpoch 12"
       ]
      },
      {
       "output_type": "stream",
       "stream": "stdout",
       "text": [
        "\n",
        "\t\t\tEpoch 13"
       ]
      },
      {
       "output_type": "stream",
       "stream": "stdout",
       "text": [
        "\n",
        "\t\t\tEpoch 14"
       ]
      },
      {
       "output_type": "stream",
       "stream": "stdout",
       "text": [
        "\n",
        "\t\t\tEpoch 15"
       ]
      },
      {
       "output_type": "stream",
       "stream": "stdout",
       "text": [
        "\n",
        "\t\tCell 2"
       ]
      },
      {
       "output_type": "stream",
       "stream": "stdout",
       "text": [
        "\n",
        "\t\t\tEpoch 1"
       ]
      },
      {
       "output_type": "stream",
       "stream": "stdout",
       "text": [
        "\n",
        "\t\t\tEpoch 2"
       ]
      },
      {
       "output_type": "stream",
       "stream": "stdout",
       "text": [
        "\n",
        "\t\t\tEpoch 3"
       ]
      },
      {
       "output_type": "stream",
       "stream": "stdout",
       "text": [
        "\n",
        "\t\t\tEpoch 4"
       ]
      },
      {
       "output_type": "stream",
       "stream": "stdout",
       "text": [
        "\n",
        "\t\t\tEpoch 5"
       ]
      },
      {
       "output_type": "stream",
       "stream": "stdout",
       "text": [
        "\n",
        "\t\t\tEpoch 6"
       ]
      },
      {
       "output_type": "stream",
       "stream": "stdout",
       "text": [
        "\n",
        "\t\t\tEpoch 7"
       ]
      },
      {
       "output_type": "stream",
       "stream": "stdout",
       "text": [
        "\n",
        "\t\t\tEpoch 8"
       ]
      },
      {
       "output_type": "stream",
       "stream": "stdout",
       "text": [
        "\n",
        "\t\t\tEpoch 9"
       ]
      },
      {
       "output_type": "stream",
       "stream": "stdout",
       "text": [
        "\n",
        "\t\t\tEpoch 10"
       ]
      },
      {
       "output_type": "stream",
       "stream": "stdout",
       "text": [
        "\n",
        "\t\t\tEpoch 11"
       ]
      },
      {
       "output_type": "stream",
       "stream": "stdout",
       "text": [
        "\n",
        "\t\t\tEpoch 12"
       ]
      },
      {
       "output_type": "stream",
       "stream": "stdout",
       "text": [
        "\n",
        "\t\t\tEpoch 13"
       ]
      },
      {
       "output_type": "stream",
       "stream": "stdout",
       "text": [
        "\n",
        "\t\t\tEpoch 14"
       ]
      },
      {
       "output_type": "stream",
       "stream": "stdout",
       "text": [
        "\n",
        "\t\t\tEpoch 15"
       ]
      },
      {
       "output_type": "stream",
       "stream": "stdout",
       "text": [
        "\n",
        "Experiment 2"
       ]
      },
      {
       "output_type": "stream",
       "stream": "stdout",
       "text": [
        "\n",
        "Inserting experiment 1...\n",
        "\tSlice 1"
       ]
      },
      {
       "output_type": "stream",
       "stream": "stdout",
       "text": [
        "\n",
        "\t\tCell 1"
       ]
      },
      {
       "output_type": "stream",
       "stream": "stdout",
       "text": [
        "\n",
        "\t\t\tEpoch 1"
       ]
      },
      {
       "output_type": "stream",
       "stream": "stdout",
       "text": [
        "\n",
        "\t\t\tEpoch 2"
       ]
      },
      {
       "output_type": "stream",
       "stream": "stdout",
       "text": [
        "\n",
        "\t\t\tEpoch 3"
       ]
      },
      {
       "output_type": "stream",
       "stream": "stdout",
       "text": [
        "\n",
        "\t\t\tEpoch 4"
       ]
      },
      {
       "output_type": "stream",
       "stream": "stdout",
       "text": [
        "\n",
        "\t\t\tEpoch 5"
       ]
      },
      {
       "output_type": "stream",
       "stream": "stdout",
       "text": [
        "\n",
        "\t\t\tEpoch 6"
       ]
      },
      {
       "output_type": "stream",
       "stream": "stdout",
       "text": [
        "\n",
        "\t\t\tEpoch 7"
       ]
      },
      {
       "output_type": "stream",
       "stream": "stdout",
       "text": [
        "\n",
        "\t\t\tEpoch 8"
       ]
      },
      {
       "output_type": "stream",
       "stream": "stdout",
       "text": [
        "\n",
        "\t\t\tEpoch 9"
       ]
      },
      {
       "output_type": "stream",
       "stream": "stdout",
       "text": [
        "\n",
        "\t\t\tEpoch 10"
       ]
      },
      {
       "output_type": "stream",
       "stream": "stdout",
       "text": [
        "\n",
        "\t\t\tEpoch 11"
       ]
      },
      {
       "output_type": "stream",
       "stream": "stdout",
       "text": [
        "\n",
        "\t\t\tEpoch 12"
       ]
      },
      {
       "output_type": "stream",
       "stream": "stdout",
       "text": [
        "\n",
        "\t\t\tEpoch 13"
       ]
      },
      {
       "output_type": "stream",
       "stream": "stdout",
       "text": [
        "\n",
        "\t\t\tEpoch 14"
       ]
      },
      {
       "output_type": "stream",
       "stream": "stdout",
       "text": [
        "\n",
        "\t\t\tEpoch 15"
       ]
      },
      {
       "output_type": "stream",
       "stream": "stdout",
       "text": [
        "\n",
        "\t\tCell 2"
       ]
      },
      {
       "output_type": "stream",
       "stream": "stdout",
       "text": [
        "\n",
        "\t\t\tEpoch 1"
       ]
      },
      {
       "output_type": "stream",
       "stream": "stdout",
       "text": [
        "\n",
        "\t\t\tEpoch 2"
       ]
      },
      {
       "output_type": "stream",
       "stream": "stdout",
       "text": [
        "\n",
        "\t\t\tEpoch 3"
       ]
      },
      {
       "output_type": "stream",
       "stream": "stdout",
       "text": [
        "\n",
        "\t\t\tEpoch 4"
       ]
      },
      {
       "output_type": "stream",
       "stream": "stdout",
       "text": [
        "\n",
        "\t\t\tEpoch 5"
       ]
      },
      {
       "output_type": "stream",
       "stream": "stdout",
       "text": [
        "\n",
        "\t\t\tEpoch 6"
       ]
      },
      {
       "output_type": "stream",
       "stream": "stdout",
       "text": [
        "\n",
        "\t\t\tEpoch 7"
       ]
      },
      {
       "output_type": "stream",
       "stream": "stdout",
       "text": [
        "\n",
        "\t\t\tEpoch 8"
       ]
      },
      {
       "output_type": "stream",
       "stream": "stdout",
       "text": [
        "\n",
        "\t\t\tEpoch 9"
       ]
      },
      {
       "output_type": "stream",
       "stream": "stdout",
       "text": [
        "\n",
        "\t\t\tEpoch 10"
       ]
      },
      {
       "output_type": "stream",
       "stream": "stdout",
       "text": [
        "\n",
        "\t\t\tEpoch 11"
       ]
      },
      {
       "output_type": "stream",
       "stream": "stdout",
       "text": [
        "\n",
        "\t\t\tEpoch 12"
       ]
      },
      {
       "output_type": "stream",
       "stream": "stdout",
       "text": [
        "\n",
        "\t\t\tEpoch 13"
       ]
      },
      {
       "output_type": "stream",
       "stream": "stdout",
       "text": [
        "\n",
        "\t\t\tEpoch 14"
       ]
      },
      {
       "output_type": "stream",
       "stream": "stdout",
       "text": [
        "\n",
        "\t\t\tEpoch 15"
       ]
      },
      {
       "output_type": "stream",
       "stream": "stdout",
       "text": [
        "\n",
        "\tSlice 2"
       ]
      },
      {
       "output_type": "stream",
       "stream": "stdout",
       "text": [
        "\n",
        "\t\tCell 1"
       ]
      },
      {
       "output_type": "stream",
       "stream": "stdout",
       "text": [
        "\n",
        "\t\t\tEpoch 1"
       ]
      },
      {
       "output_type": "stream",
       "stream": "stdout",
       "text": [
        "\n",
        "\t\t\tEpoch 2"
       ]
      },
      {
       "output_type": "stream",
       "stream": "stdout",
       "text": [
        "\n",
        "\t\t\tEpoch 3"
       ]
      },
      {
       "output_type": "stream",
       "stream": "stdout",
       "text": [
        "\n",
        "\t\t\tEpoch 4"
       ]
      },
      {
       "output_type": "stream",
       "stream": "stdout",
       "text": [
        "\n",
        "\t\t\tEpoch 5"
       ]
      },
      {
       "output_type": "stream",
       "stream": "stdout",
       "text": [
        "\n",
        "\t\t\tEpoch 6"
       ]
      },
      {
       "output_type": "stream",
       "stream": "stdout",
       "text": [
        "\n",
        "\t\t\tEpoch 7"
       ]
      },
      {
       "output_type": "stream",
       "stream": "stdout",
       "text": [
        "\n",
        "\t\t\tEpoch 8"
       ]
      },
      {
       "output_type": "stream",
       "stream": "stdout",
       "text": [
        "\n",
        "\t\t\tEpoch 9"
       ]
      },
      {
       "output_type": "stream",
       "stream": "stdout",
       "text": [
        "\n",
        "\t\t\tEpoch 10"
       ]
      },
      {
       "output_type": "stream",
       "stream": "stdout",
       "text": [
        "\n",
        "\t\t\tEpoch 11"
       ]
      },
      {
       "output_type": "stream",
       "stream": "stdout",
       "text": [
        "\n",
        "\t\t\tEpoch 12"
       ]
      },
      {
       "output_type": "stream",
       "stream": "stdout",
       "text": [
        "\n",
        "\t\t\tEpoch 13"
       ]
      },
      {
       "output_type": "stream",
       "stream": "stdout",
       "text": [
        "\n",
        "\t\t\tEpoch 14"
       ]
      },
      {
       "output_type": "stream",
       "stream": "stdout",
       "text": [
        "\n",
        "\t\t\tEpoch 15"
       ]
      },
      {
       "output_type": "stream",
       "stream": "stdout",
       "text": [
        "\n",
        "\t\tCell 2"
       ]
      },
      {
       "output_type": "stream",
       "stream": "stdout",
       "text": [
        "\n",
        "\t\t\tEpoch 1"
       ]
      },
      {
       "output_type": "stream",
       "stream": "stdout",
       "text": [
        "\n",
        "\t\t\tEpoch 2"
       ]
      },
      {
       "output_type": "stream",
       "stream": "stdout",
       "text": [
        "\n",
        "\t\t\tEpoch 3"
       ]
      },
      {
       "output_type": "stream",
       "stream": "stdout",
       "text": [
        "\n",
        "\t\t\tEpoch 4"
       ]
      },
      {
       "output_type": "stream",
       "stream": "stdout",
       "text": [
        "\n",
        "\t\t\tEpoch 5"
       ]
      },
      {
       "output_type": "stream",
       "stream": "stdout",
       "text": [
        "\n",
        "\t\t\tEpoch 6"
       ]
      },
      {
       "output_type": "stream",
       "stream": "stdout",
       "text": [
        "\n",
        "\t\t\tEpoch 7"
       ]
      },
      {
       "output_type": "stream",
       "stream": "stdout",
       "text": [
        "\n",
        "\t\t\tEpoch 8"
       ]
      },
      {
       "output_type": "stream",
       "stream": "stdout",
       "text": [
        "\n",
        "\t\t\tEpoch 9"
       ]
      },
      {
       "output_type": "stream",
       "stream": "stdout",
       "text": [
        "\n",
        "\t\t\tEpoch 10"
       ]
      },
      {
       "output_type": "stream",
       "stream": "stdout",
       "text": [
        "\n",
        "\t\t\tEpoch 11"
       ]
      },
      {
       "output_type": "stream",
       "stream": "stdout",
       "text": [
        "\n",
        "\t\t\tEpoch 12"
       ]
      },
      {
       "output_type": "stream",
       "stream": "stdout",
       "text": [
        "\n",
        "\t\t\tEpoch 13"
       ]
      },
      {
       "output_type": "stream",
       "stream": "stdout",
       "text": [
        "\n",
        "\t\t\tEpoch 14"
       ]
      },
      {
       "output_type": "stream",
       "stream": "stdout",
       "text": [
        "\n",
        "\t\t\tEpoch 15"
       ]
      },
      {
       "output_type": "stream",
       "stream": "stdout",
       "text": [
        "\n",
        "{"
       ]
      },
      {
       "output_type": "stream",
       "stream": "stdout",
       "text": [
        "u'expt0': u'ovation://e509ebad-c7c5-44e3-9542-aea3612842f4/',\n",
        " u'expt1': u'ovation://69c459ea-c493-4be4-b545-b773cbcd3025/',\n",
        " u'mouse0': u'ovation://542faed4-ac40-41fe-a95d-c61f93425cb6/',\n",
        " u'mouse1': u'ovation://630615c1-2eca-41a4-acaf-688f701d2d32/',\n",
        " u'project': u'ovation://47df7d2e-68fc-4c07-81fd-a9751bc01537/'}\n"
       ]
      }
     ],
     "prompt_number": 13
    },
    {
     "cell_type": "heading",
     "level": 2,
     "metadata": {},
     "source": [
      "Analysis"
     ]
    },
    {
     "cell_type": "markdown",
     "metadata": {},
     "source": [
      "We collect all of the traces for each cell, take the max of each response and then calculate per-cell mean peak response."
     ]
    },
    {
     "cell_type": "code",
     "collapsed": false,
     "input": [
      "import physiology_demo_analysis\n",
      "reload(physiology_demo_analysis)\n",
      "\n",
      "from physiology_demo_analysis import calculate_cell_means\n",
      "\n",
      "(cells, epochs) = calculate_cell_means(project)"
     ],
     "language": "python",
     "metadata": {},
     "outputs": [],
     "prompt_number": 14
    },
    {
     "cell_type": "markdown",
     "metadata": {},
     "source": [
      "Now, we calculate the mean response"
     ]
    },
    {
     "cell_type": "code",
     "collapsed": false,
     "input": [
      "df = pd.DataFrame(data=cells.values(), index=cells.keys())\n",
      "df"
     ],
     "language": "python",
     "metadata": {},
     "outputs": [
      {
       "html": [
        "<div style=\"max-height:1000px;max-width:1500px;overflow:auto;\">\n",
        "<table border=\"1\" class=\"dataframe\">\n",
        "  <thead>\n",
        "    <tr style=\"text-align: right;\">\n",
        "      <th></th>\n",
        "      <th>10 mV</th>\n",
        "      <th>15 mV</th>\n",
        "      <th>20 mV</th>\n",
        "      <th>25 mV</th>\n",
        "      <th>30 mV</th>\n",
        "    </tr>\n",
        "  </thead>\n",
        "  <tbody>\n",
        "    <tr>\n",
        "      <th>Cortical cell (cell1)  ovation://11e620ea-261d-4111-8b9a-f50b42fb9739/</th>\n",
        "      <td> 13.632500</td>\n",
        "      <td> 19.799800</td>\n",
        "      <td> 26.508952</td>\n",
        "      <td> 33.305408</td>\n",
        "      <td> 39.107648</td>\n",
        "    </tr>\n",
        "    <tr>\n",
        "      <th>Cortical cell (cell0)  ovation://1856e208-f8f6-4a0a-89a2-3cb21a4bc99a/</th>\n",
        "      <td> 13.115983</td>\n",
        "      <td> 19.509671</td>\n",
        "      <td> 26.358020</td>\n",
        "      <td> 31.651472</td>\n",
        "      <td> 40.125335</td>\n",
        "    </tr>\n",
        "    <tr>\n",
        "      <th>Cortical cell (cell0)  ovation://b3cd6fd3-24f3-41ac-aa87-f464497fbeb6/</th>\n",
        "      <td> 12.788761</td>\n",
        "      <td> 19.243657</td>\n",
        "      <td> 26.453688</td>\n",
        "      <td> 33.076845</td>\n",
        "      <td> 38.838583</td>\n",
        "    </tr>\n",
        "    <tr>\n",
        "      <th>Cortical cell (cell0)  ovation://ad335239-e0b9-47a3-8ec4-80dda9603645/</th>\n",
        "      <td> 12.880407</td>\n",
        "      <td> 19.381930</td>\n",
        "      <td> 26.556894</td>\n",
        "      <td> 33.266539</td>\n",
        "      <td> 38.939461</td>\n",
        "    </tr>\n",
        "    <tr>\n",
        "      <th>Cortical cell (cell1)  ovation://b85b2414-2290-4a4f-ae72-7dcaa2558384/</th>\n",
        "      <td> 12.894563</td>\n",
        "      <td> 19.330329</td>\n",
        "      <td> 26.248561</td>\n",
        "      <td> 31.520274</td>\n",
        "      <td> 39.072665</td>\n",
        "    </tr>\n",
        "    <tr>\n",
        "      <th>Cortical cell (cell1)  ovation://b5fef194-9acb-41cd-a899-07a1149fa844/</th>\n",
        "      <td> 13.029879</td>\n",
        "      <td> 19.306591</td>\n",
        "      <td> 25.805198</td>\n",
        "      <td> 31.637107</td>\n",
        "      <td> 39.284479</td>\n",
        "    </tr>\n",
        "    <tr>\n",
        "      <th>Cortical cell (cell0)  ovation://9da5ce7f-c9cb-4699-8dd6-8e2164d1f560/</th>\n",
        "      <td> 13.175746</td>\n",
        "      <td> 19.676076</td>\n",
        "      <td> 26.756739</td>\n",
        "      <td> 31.870843</td>\n",
        "      <td> 38.902134</td>\n",
        "    </tr>\n",
        "    <tr>\n",
        "      <th>Cortical cell (cell1)  ovation://e2577509-d2ae-461f-8b9f-97f07d9dffee/</th>\n",
        "      <td> 13.398148</td>\n",
        "      <td> 19.325137</td>\n",
        "      <td> 25.918673</td>\n",
        "      <td> 32.137142</td>\n",
        "      <td> 38.559884</td>\n",
        "    </tr>\n",
        "  </tbody>\n",
        "</table>\n",
        "</div>"
       ],
       "metadata": {},
       "output_type": "pyout",
       "prompt_number": 15,
       "text": [
        "                                                                            10 mV  \\\n",
        "Cortical cell (cell1)  ovation://11e620ea-261d-4111-8b9a-f50b42fb9739/  13.632500   \n",
        "Cortical cell (cell0)  ovation://1856e208-f8f6-4a0a-89a2-3cb21a4bc99a/  13.115983   \n",
        "Cortical cell (cell0)  ovation://b3cd6fd3-24f3-41ac-aa87-f464497fbeb6/  12.788761   \n",
        "Cortical cell (cell0)  ovation://ad335239-e0b9-47a3-8ec4-80dda9603645/  12.880407   \n",
        "Cortical cell (cell1)  ovation://b85b2414-2290-4a4f-ae72-7dcaa2558384/  12.894563   \n",
        "Cortical cell (cell1)  ovation://b5fef194-9acb-41cd-a899-07a1149fa844/  13.029879   \n",
        "Cortical cell (cell0)  ovation://9da5ce7f-c9cb-4699-8dd6-8e2164d1f560/  13.175746   \n",
        "Cortical cell (cell1)  ovation://e2577509-d2ae-461f-8b9f-97f07d9dffee/  13.398148   \n",
        "\n",
        "                                                                            15 mV  \\\n",
        "Cortical cell (cell1)  ovation://11e620ea-261d-4111-8b9a-f50b42fb9739/  19.799800   \n",
        "Cortical cell (cell0)  ovation://1856e208-f8f6-4a0a-89a2-3cb21a4bc99a/  19.509671   \n",
        "Cortical cell (cell0)  ovation://b3cd6fd3-24f3-41ac-aa87-f464497fbeb6/  19.243657   \n",
        "Cortical cell (cell0)  ovation://ad335239-e0b9-47a3-8ec4-80dda9603645/  19.381930   \n",
        "Cortical cell (cell1)  ovation://b85b2414-2290-4a4f-ae72-7dcaa2558384/  19.330329   \n",
        "Cortical cell (cell1)  ovation://b5fef194-9acb-41cd-a899-07a1149fa844/  19.306591   \n",
        "Cortical cell (cell0)  ovation://9da5ce7f-c9cb-4699-8dd6-8e2164d1f560/  19.676076   \n",
        "Cortical cell (cell1)  ovation://e2577509-d2ae-461f-8b9f-97f07d9dffee/  19.325137   \n",
        "\n",
        "                                                                            20 mV  \\\n",
        "Cortical cell (cell1)  ovation://11e620ea-261d-4111-8b9a-f50b42fb9739/  26.508952   \n",
        "Cortical cell (cell0)  ovation://1856e208-f8f6-4a0a-89a2-3cb21a4bc99a/  26.358020   \n",
        "Cortical cell (cell0)  ovation://b3cd6fd3-24f3-41ac-aa87-f464497fbeb6/  26.453688   \n",
        "Cortical cell (cell0)  ovation://ad335239-e0b9-47a3-8ec4-80dda9603645/  26.556894   \n",
        "Cortical cell (cell1)  ovation://b85b2414-2290-4a4f-ae72-7dcaa2558384/  26.248561   \n",
        "Cortical cell (cell1)  ovation://b5fef194-9acb-41cd-a899-07a1149fa844/  25.805198   \n",
        "Cortical cell (cell0)  ovation://9da5ce7f-c9cb-4699-8dd6-8e2164d1f560/  26.756739   \n",
        "Cortical cell (cell1)  ovation://e2577509-d2ae-461f-8b9f-97f07d9dffee/  25.918673   \n",
        "\n",
        "                                                                            25 mV  \\\n",
        "Cortical cell (cell1)  ovation://11e620ea-261d-4111-8b9a-f50b42fb9739/  33.305408   \n",
        "Cortical cell (cell0)  ovation://1856e208-f8f6-4a0a-89a2-3cb21a4bc99a/  31.651472   \n",
        "Cortical cell (cell0)  ovation://b3cd6fd3-24f3-41ac-aa87-f464497fbeb6/  33.076845   \n",
        "Cortical cell (cell0)  ovation://ad335239-e0b9-47a3-8ec4-80dda9603645/  33.266539   \n",
        "Cortical cell (cell1)  ovation://b85b2414-2290-4a4f-ae72-7dcaa2558384/  31.520274   \n",
        "Cortical cell (cell1)  ovation://b5fef194-9acb-41cd-a899-07a1149fa844/  31.637107   \n",
        "Cortical cell (cell0)  ovation://9da5ce7f-c9cb-4699-8dd6-8e2164d1f560/  31.870843   \n",
        "Cortical cell (cell1)  ovation://e2577509-d2ae-461f-8b9f-97f07d9dffee/  32.137142   \n",
        "\n",
        "                                                                            30 mV  \n",
        "Cortical cell (cell1)  ovation://11e620ea-261d-4111-8b9a-f50b42fb9739/  39.107648  \n",
        "Cortical cell (cell0)  ovation://1856e208-f8f6-4a0a-89a2-3cb21a4bc99a/  40.125335  \n",
        "Cortical cell (cell0)  ovation://b3cd6fd3-24f3-41ac-aa87-f464497fbeb6/  38.838583  \n",
        "Cortical cell (cell0)  ovation://ad335239-e0b9-47a3-8ec4-80dda9603645/  38.939461  \n",
        "Cortical cell (cell1)  ovation://b85b2414-2290-4a4f-ae72-7dcaa2558384/  39.072665  \n",
        "Cortical cell (cell1)  ovation://b5fef194-9acb-41cd-a899-07a1149fa844/  39.284479  \n",
        "Cortical cell (cell0)  ovation://9da5ce7f-c9cb-4699-8dd6-8e2164d1f560/  38.902134  \n",
        "Cortical cell (cell1)  ovation://e2577509-d2ae-461f-8b9f-97f07d9dffee/  38.559884  "
       ]
      }
     ],
     "prompt_number": 15
    },
    {
     "cell_type": "code",
     "collapsed": false,
     "input": [
      "fig = df.T.plot(legend=False)"
     ],
     "language": "python",
     "metadata": {},
     "outputs": [
      {
       "metadata": {},
       "output_type": "display_data",
       "png": "[encoded data removed]",
       "text": [
        "<matplotlib.figure.Figure at 0x1114411d0>"
       ]
      }
     ],
     "prompt_number": 16
    },
    {
     "cell_type": "code",
     "collapsed": false,
     "input": [
      "\n",
      "fig.set_xlabel('Voltage step')\n",
      "fig.set_ylabel('Membrance current (pA)')\n",
      "figure_file_name = os.path.join(tempfile.tempdir, 'Peak current.tiff')\n",
      "fig.figure.savefig(figure_file_name)"
     ],
     "language": "python",
     "metadata": {},
     "outputs": [],
     "prompt_number": 17
    },
    {
     "cell_type": "markdown",
     "metadata": {},
     "source": [
      "Write the result to a CSV file so that we can add it as an output"
     ]
    },
    {
     "cell_type": "code",
     "collapsed": false,
     "input": [
      "(fd,name) = tempfile.mkstemp(suffix='-per-cell-mean-peak-response.csv')\n",
      "df.to_csv(name)"
     ],
     "language": "python",
     "metadata": {},
     "outputs": [],
     "prompt_number": 18
    },
    {
     "cell_type": "code",
     "collapsed": false,
     "input": [
      "parameters = {}\n",
      "\n",
      "inputs = { 'epoch-{0}'.format(i) : e.getMeasurement('Membrane current') for (i,e) in enumerate(epochs) if len(list(iterable(e.getMeasurements()))) > 0}"
     ],
     "language": "python",
     "metadata": {},
     "outputs": [],
     "prompt_number": 22
    },
    {
     "cell_type": "code",
     "collapsed": false,
     "input": [
      "analysis = asclass('Project', project).addAnalysisRecord(\"Per-cell mean peak response\",\n",
      "                                     to_map(inputs),\n",
      "                                     analysis_protocol,\n",
      "                                     to_map(parameters))\n",
      "\n",
      "analysis.addOutput('result', URL('file://{0}'.format(name)), 'text/csv')\n",
      "analysis.addOutput('figure', URL('file://{0}'.format(figure_file_name)), 'image/tiff')\n",
      "                                     "
     ],
     "language": "python",
     "metadata": {},
     "outputs": [
      {
       "ename": "JavaException",
       "evalue": "JVM exception occured",
       "output_type": "pyerr",
       "traceback": [
        "\u001b[0;31m---------------------------------------------------------------------------\u001b[0m\n\u001b[0;31mJavaException\u001b[0m                             Traceback (most recent call last)",
        "\u001b[0;32m<ipython-input-23-f4ed43a97255>\u001b[0m in \u001b[0;36m<module>\u001b[0;34m()\u001b[0m\n\u001b[1;32m      2\u001b[0m                                      \u001b[0mto_map\u001b[0m\u001b[0;34m(\u001b[0m\u001b[0minputs\u001b[0m\u001b[0;34m)\u001b[0m\u001b[0;34m,\u001b[0m\u001b[0;34m\u001b[0m\u001b[0m\n\u001b[1;32m      3\u001b[0m                                      \u001b[0manalysis_protocol\u001b[0m\u001b[0;34m,\u001b[0m\u001b[0;34m\u001b[0m\u001b[0m\n\u001b[0;32m----> 4\u001b[0;31m                                      to_map(parameters))\n\u001b[0m\u001b[1;32m      5\u001b[0m \u001b[0;34m\u001b[0m\u001b[0m\n\u001b[1;32m      6\u001b[0m \u001b[0manalysis\u001b[0m\u001b[0;34m.\u001b[0m\u001b[0maddOutput\u001b[0m\u001b[0;34m(\u001b[0m\u001b[0;34m'result'\u001b[0m\u001b[0;34m,\u001b[0m \u001b[0mURL\u001b[0m\u001b[0;34m(\u001b[0m\u001b[0;34m'file://{0}'\u001b[0m\u001b[0;34m.\u001b[0m\u001b[0mformat\u001b[0m\u001b[0;34m(\u001b[0m\u001b[0mname\u001b[0m\u001b[0;34m)\u001b[0m\u001b[0;34m)\u001b[0m\u001b[0;34m,\u001b[0m \u001b[0;34m'text/csv'\u001b[0m\u001b[0;34m)\u001b[0m\u001b[0;34m\u001b[0m\u001b[0m\n",
        "\u001b[0;32m/Users/barry/anaconda/envs/ovation/lib/python2.7/site-packages/jnius/jnius.so\u001b[0m in \u001b[0;36mjnius.JavaMultipleMethod.__call__ (jnius/jnius.c:19271)\u001b[0;34m()\u001b[0m\n",
        "\u001b[0;32m/Users/barry/anaconda/envs/ovation/lib/python2.7/site-packages/jnius/jnius.so\u001b[0m in \u001b[0;36mjnius.JavaMethod.__call__ (jnius/jnius.c:16217)\u001b[0;34m()\u001b[0m\n",
        "\u001b[0;32m/Users/barry/anaconda/envs/ovation/lib/python2.7/site-packages/jnius/jnius.so\u001b[0m in \u001b[0;36mjnius.JavaMethod.call_method (jnius/jnius.c:17043)\u001b[0;34m()\u001b[0m\n",
        "\u001b[0;32m/Users/barry/anaconda/envs/ovation/lib/python2.7/site-packages/jnius/jnius.so\u001b[0m in \u001b[0;36mjnius.check_exception (jnius/jnius.c:3207)\u001b[0;34m()\u001b[0m\n",
        "\u001b[0;31mJavaException\u001b[0m: JVM exception occured"
       ]
      }
     ],
     "prompt_number": 23
    },
    {
     "cell_type": "code",
     "collapsed": false,
     "input": [
      "%qtconsole"
     ],
     "language": "python",
     "metadata": {},
     "outputs": [],
     "prompt_number": 24
    }
   ],
   "metadata": {}
  }
 ]
}