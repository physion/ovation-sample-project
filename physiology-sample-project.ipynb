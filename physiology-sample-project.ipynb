{
 "metadata": {
  "name": ""
 },
 "nbformat": 3,
 "nbformat_minor": 0,
 "worksheets": [
  {
   "cells": [
    {
     "cell_type": "heading",
     "level": 1,
     "metadata": {},
     "source": [
      "Demo project construction"
     ]
    },
    {
     "cell_type": "heading",
     "level": 2,
     "metadata": {},
     "source": [
      "Imports"
     ]
    },
    {
     "cell_type": "code",
     "collapsed": false,
     "input": [
      "from ovation.connection import connect\n",
      "from ovation.conversion import to_map, to_dict, asclass, iterable, to_java_set\n",
      "from ovation.data import insert_numeric_analysis_artifact, insert_numeric_measurement, as_data_frame\n",
      "from ovation import DateTime, DateTimeZone, Optional, Sets, Maps, Integer, URL\n",
      "from pprint import pprint\n",
      "import quantities as pq\n",
      "import scipy as sp\n",
      "import pandas as pd\n",
      "import matplotlib.pyplot as plt\n",
      "import logging\n",
      "import getpass\n",
      "import tempfile\n",
      "import os.path"
     ],
     "language": "python",
     "metadata": {},
     "outputs": [],
     "prompt_number": 1
    },
    {
     "cell_type": "code",
     "collapsed": false,
     "input": [
      "from ovation.api import Ovation\n",
      "print(Ovation.getVersion())"
     ],
     "language": "python",
     "metadata": {},
     "outputs": [
      {
       "output_type": "stream",
       "stream": "stdout",
       "text": [
        "2.0.0\n"
       ]
      }
     ],
     "prompt_number": 2
    },
    {
     "cell_type": "heading",
     "level": 2,
     "metadata": {},
     "source": [
      "Equipment setup"
     ]
    },
    {
     "cell_type": "code",
     "collapsed": false,
     "input": [
      "equipment = { 'Amplifier_1.model' : 'Multiclamp 700B',\n",
      "             'Amplifier_1.Channel_1.name' : 'Channel 1',\n",
      "             }"
     ],
     "language": "python",
     "metadata": {},
     "outputs": [],
     "prompt_number": 33
    },
    {
     "cell_type": "heading",
     "level": 2,
     "metadata": {},
     "source": [
      "Protocols"
     ]
    },
    {
     "cell_type": "code",
     "collapsed": false,
     "input": [
      "cortical_slice_protocol_document = u'''\n",
      "This protocol describes the procedure for making cortical slices from an mouse. \n",
      "\n",
      "We might use this ACSF recipie from Cold Spring Harbor (http://cshprotocols.cshlp.org/content/2011/9/pdb.rec065730.full?text_only=true)\n",
      "\n",
      "119 mM NaCl\n",
      "\n",
      "26.2 mM NaHCO3\n",
      "\n",
      "2.5 mM KCl\n",
      "\n",
      "1 mM NaH2PO4\n",
      "\n",
      "1.3 mM MgCl2\n",
      "\n",
      "10 mM glucose\n",
      "\n",
      "Gas with 5% CO2/95% O2 for 10\u201315 min, then add 2.5-mM CaCl2. Filter sterilize with a 0.22-\u00b5m filter apparatus, and store at 4\u00b0C. ACSF is stable for 3\u20134 wk. If overt contamination (solution becomes cloudy) or precipitation is apparent, discard, and make fresh ACSF.\n",
      "\n",
      "Variables such as {ACSF_BATCH_DATE}, the date when the ACSF batch was made  are denoted using {VARIABLE}.\n",
      "'''"
     ],
     "language": "python",
     "metadata": {},
     "outputs": [],
     "prompt_number": 34
    },
    {
     "cell_type": "code",
     "collapsed": false,
     "input": [
      "cell_selection_protocol_document = u'''\n",
      "This protocol describes how cells were chosen within a slice for recording.\n",
      "\n",
      "Cells were chosen by visual identification. No other selection criteria were applied.\n",
      "'''"
     ],
     "language": "python",
     "metadata": {},
     "outputs": [],
     "prompt_number": 35
    },
    {
     "cell_type": "code",
     "collapsed": false,
     "input": [
      "recording_protocol_1_document = u'''\n",
      "For each of {nsteps}, a step in membrane voltage is presented. If {step} is the step number, then the baseline membrane\n",
      "volage is 0mV and the step voltage is {starting_step_amplitude_mV} + {step_increment_mV} * {step} = {step_amplitude_mV}.\n",
      "\n",
      "Resulting membrane current is recorde in voltage-clamp mode.\n",
      "'''"
     ],
     "language": "python",
     "metadata": {},
     "outputs": [],
     "prompt_number": 36
    },
    {
     "cell_type": "heading",
     "level": 2,
     "metadata": {},
     "source": [
      "Connection"
     ]
    },
    {
     "cell_type": "code",
     "collapsed": false,
     "input": [
      "email = raw_input('Email: ')\n",
      "print('Enter password at the console...')\n",
      "dsc = connect(email, getpass.getpass(prompt='Ovation password: '))\n",
      "ctx = dsc.getContext()"
     ],
     "language": "python",
     "metadata": {},
     "outputs": [
      {
       "name": "stdout",
       "output_type": "stream",
       "stream": "stdout",
       "text": [
        "Email: barry@ovation.io\n"
       ]
      },
      {
       "output_type": "stream",
       "stream": "stdout",
       "text": [
        "Enter password at the console...\n"
       ]
      }
     ],
     "prompt_number": 69
    },
    {
     "cell_type": "heading",
     "level": 3,
     "metadata": {},
     "source": [
      "Structural entities"
     ]
    },
    {
     "cell_type": "markdown",
     "metadata": {},
     "source": [
      "We keep the Ids of relevant entities"
     ]
    },
    {
     "cell_type": "code",
     "collapsed": false,
     "input": [
      "import json\n",
      "ENTITY_IDS = 'entities.json'\n",
      "\n",
      "try:\n",
      "    with open(ENTITY_IDS, 'r') as f:\n",
      "        existingIds = json.load(f)\n",
      "except IOError:\n",
      "    existingIds = {}\n",
      "    with open(ENTITY_IDS, 'w') as f:\n",
      "        json.dump(existingIds, f)\n"
     ],
     "language": "python",
     "metadata": {},
     "outputs": [],
     "prompt_number": 71
    },
    {
     "cell_type": "markdown",
     "metadata": {},
     "source": [
      "We first find (or create) the ``Protocol`` instances"
     ]
    },
    {
     "cell_type": "code",
     "collapsed": false,
     "input": [
      "def get_protocol(name, document):\n",
      "    protocol = ctx.getProtocol(name)\n",
      "    if protocol is None:\n",
      "        print('Inserting protocol ' + name + '...')\n",
      "        protocol = ctx.insertProtocol(name, document)\n",
      "    return protocol\n",
      "\n",
      "cortical_slice_protocol = get_protocol('Cortical Slicing', cortical_slice_protocol_document)\n",
      "cell_selection_protocol = get_protocol('Cortical Cell Selection', cell_selection_protocol_document)\n",
      "recording_protocol_1 = get_protocol('Membrane voltage step', recording_protocol_1_document)"
     ],
     "language": "python",
     "metadata": {},
     "outputs": [],
     "prompt_number": 72
    },
    {
     "cell_type": "markdown",
     "metadata": {},
     "source": [
      "Now we're ready to create the ``Project`` and two ``Experiments``. Each ``Experiment`` will corespond to recordings (and imaging) made from one ``Source``"
     ]
    },
    {
     "cell_type": "code",
     "collapsed": false,
     "input": [
      "timezone = DateTimeZone.forID('America/Los_Angeles')"
     ],
     "language": "python",
     "metadata": {},
     "outputs": [],
     "prompt_number": 73
    },
    {
     "cell_type": "code",
     "collapsed": false,
     "input": [
      "projectId = existingIds.get('project')\n",
      "try:\n",
      "    project = asclass('Project', ctx.getObjectWithURI(projectId))\n",
      "except:\n",
      "    print('Inserting project...')\n",
      "    project = ctx.insertProject('Ovation sample physiology project',\n",
      "                                '''The purpose of this project is to demonstrate the core features of the Ovation platform\n",
      "                                using a series of made-up physiology experiments.''',\n",
      "                                DateTime(2013, 11, 25, 13, 19, 0, 0, timezone))\n",
      "    print(project.getURI().toString())\n",
      "    existingIds['project'] = project.getURI().toString()"
     ],
     "language": "python",
     "metadata": {},
     "outputs": [
      {
       "output_type": "stream",
       "stream": "stdout",
       "text": [
        "Inserting project...\n",
        "ovation://87f3b416-264b-456d-916e-ee9002b1f762/"
       ]
      },
      {
       "output_type": "stream",
       "stream": "stdout",
       "text": [
        "\n"
       ]
      }
     ],
     "prompt_number": 74
    },
    {
     "cell_type": "code",
     "collapsed": false,
     "input": [
      "# Two experiments, with two slices each from a single animal, each with two cells\n",
      "\n",
      "experiments = []\n",
      "for exp_idx in range(0,2):\n",
      "    print('Experiment {0}'.format(exp_idx + 1))\n",
      "    \n",
      "    exp_name = 'expt' + str(exp_idx)\n",
      "    experimentId = existingIds.get(exp_name)\n",
      "    try:\n",
      "        expt = ctx.getObjectWithURI(experiment1Id)\n",
      "    except:\n",
      "        print('Inserting experiment ' + str(exp_idx) + '...')\n",
      "        expt = project.insertExperiment(\"Measuring mouse cortical cells' membrane current in response to a membrane voltage step\",\n",
      "                                         DateTime(2013, 12, 2 + exp_idx, 7, 0, 0, 0, timezone))\n",
      "        expt.setEquipmentSetupFromMap(to_map(equipment))\n",
      "        existingIds[exp_name] = expt.getURI().toString()\n",
      "        \n",
      "    \n",
      "    experiments += [expt]\n",
      "    \n",
      "    # One mouse per experiment\n",
      "    mouse_name = 'mouse' + str(exp_idx)\n",
      "    try:\n",
      "        mouse = asclass('Source', ctx.getObjectWithURI(existingIds.get(mouse_name)))\n",
      "    except:\n",
      "        mouse = ctx.insertSource('C57/BL6', 'animal-id-' + str(exp_idx))\n",
      "        mouse.addProperty('DOB', 'November 1, 2013')\n",
      "        mouse.addProperty('sex', 'male' if exp_idx % 2 == 0  else 'female')\n",
      "        \n",
      "        existingIds[mouse_name] = mouse.getURI().toString()\n",
      "        \n",
      "    \n",
      "    # Two slices made from the mouse\n",
      "    for slice_idx in range(2):\n",
      "        print('\\tSlice {0}'.format(slice_idx+1))\n",
      "        \n",
      "        slice_name = 'slice{0}_{1}'.format(slice_idx, exp_idx)\n",
      "        slice_start = DateTime(2013, 11, 30, 8, 10, 0, 0, timezone).plusHours(slice_idx)\n",
      "        cortical_slice = mouse.insertSource(expt,\n",
      "                               slice_start,\n",
      "                               slice_start.plusMinutes(10),\n",
      "                               cortical_slice_protocol,\n",
      "                               to_map({'ACSF_BATCH_DATE' : '2013-12-08T-08:00'}),\n",
      "                               Optional.absent(),\n",
      "                               'Cortical slice',\n",
      "                               slice_name)\n",
      "        \n",
      "        # Two cells from each slice\n",
      "        for cell_idx in range(2):\n",
      "            print('\\t\\tCell {0}'.format(cell_idx+1))\n",
      "            \n",
      "            cell_name = 'cell{0}'.format(cell_idx)\n",
      "            cell_start = slice_start.plusMinutes((cell_idx + 1) * 15)\n",
      "            recording_start = cell_start.plusMinutes(1)\n",
      "            cell = cortical_slice.insertSource(expt,\n",
      "                               cell_start,\n",
      "                               cell_start.plusSeconds(15),\n",
      "                               cell_selection_protocol,\n",
      "                               to_map({}),\n",
      "                               Optional.absent(),\n",
      "                               'Cortical cell',\n",
      "                               cell_name)\n",
      "            \n",
      "            for i in range(15):\n",
      "                print('\\t\\t\\tEpoch {0}'.format(i+1))\n",
      "                step_start = 5\n",
      "                step_increment = 5\n",
      "                \n",
      "                step = i % 5\n",
      "                protocol_parameters = {'step' : step,\n",
      "                                       'starting_step_amplitude_mV' : step_start,\n",
      "                                       'step_increment_mV' : step_increment,\n",
      "                                       'step_amplitude_mV' : (step+1) * step_increment + step_start}\n",
      "            \n",
      "                device_parameters = {'Amplifier_1.Channel_1.mode' : 'V-clamp',\n",
      "                                     'Amplifier_1.Channel_1.gain' : '10' }\n",
      "                \n",
      "                epoch = expt.insertEpoch(to_map({'cell' : cell}),\n",
      "                                          None,\n",
      "                                          recording_start.plusSeconds(i * 3),\n",
      "                                          recording_start.plusSeconds((i * 3) + 1),\n",
      "                                          recording_protocol_1,\n",
      "                                          to_map(protocol_parameters),\n",
      "                                          to_map(device_parameters))\n",
      "                \n",
      "                \n",
      "                step_amplitude = (step+1) * step_increment + step_start\n",
      "                data = sp.hstack((sp.zeros(500), sp.ones(500) * step_amplitude, sp.zeros(500))) * pq.pA\n",
      "                noise = sp.randn(*data.shape) * step_amplitude/10 * pq.pA #10% noise\n",
      "                data = data + noise\n",
      "                data.sampling_rates = [1000 * pq.Hz]\n",
      "                data.labels = ['membrance current']\n",
      "                insert_numeric_measurement(epoch, \n",
      "                                           set(['cell']), \n",
      "                                           set(['Amplifier_1.Headstage_1.Channel_1']),\n",
      "                                           'Membrane current',\n",
      "                                           {'current' : data})\n",
      "                epoch.addTag('demo')\n",
      "\n",
      "with open(ENTITY_IDS, 'w') as f:\n",
      "    json.dump(existingIds, f)\n",
      "    \n",
      "with open(ENTITY_IDS, 'r') as f:\n",
      "    pprint(json.load(f))\n",
      "    \n",
      "ctx = dsc.getContext()\n",
      "project = ctx.getObjectWithURI(project.getURI().toString())"
     ],
     "language": "python",
     "metadata": {},
     "outputs": [
      {
       "output_type": "stream",
       "stream": "stdout",
       "text": [
        "Experiment 1\n",
        "Inserting experiment 0...\n",
        "\tSlice 1"
       ]
      },
      {
       "output_type": "stream",
       "stream": "stdout",
       "text": [
        "\n",
        "\t\tCell 1"
       ]
      },
      {
       "output_type": "stream",
       "stream": "stdout",
       "text": [
        "\n",
        "\t\t\tEpoch 1"
       ]
      },
      {
       "output_type": "stream",
       "stream": "stdout",
       "text": [
        "\n",
        "\t\t\tEpoch 2"
       ]
      },
      {
       "output_type": "stream",
       "stream": "stdout",
       "text": [
        "\n",
        "\t\t\tEpoch 3"
       ]
      },
      {
       "output_type": "stream",
       "stream": "stdout",
       "text": [
        "\n",
        "\t\t\tEpoch 4"
       ]
      },
      {
       "output_type": "stream",
       "stream": "stdout",
       "text": [
        "\n",
        "\t\t\tEpoch 5"
       ]
      },
      {
       "output_type": "stream",
       "stream": "stdout",
       "text": [
        "\n",
        "\t\t\tEpoch 6"
       ]
      },
      {
       "output_type": "stream",
       "stream": "stdout",
       "text": [
        "\n",
        "\t\t\tEpoch 7"
       ]
      },
      {
       "output_type": "stream",
       "stream": "stdout",
       "text": [
        "\n",
        "\t\t\tEpoch 8"
       ]
      },
      {
       "output_type": "stream",
       "stream": "stdout",
       "text": [
        "\n",
        "\t\t\tEpoch 9"
       ]
      },
      {
       "output_type": "stream",
       "stream": "stdout",
       "text": [
        "\n",
        "\t\t\tEpoch 10"
       ]
      },
      {
       "output_type": "stream",
       "stream": "stdout",
       "text": [
        "\n",
        "\t\t\tEpoch 11"
       ]
      },
      {
       "output_type": "stream",
       "stream": "stdout",
       "text": [
        "\n",
        "\t\t\tEpoch 12"
       ]
      },
      {
       "output_type": "stream",
       "stream": "stdout",
       "text": [
        "\n",
        "\t\t\tEpoch 13"
       ]
      },
      {
       "output_type": "stream",
       "stream": "stdout",
       "text": [
        "\n",
        "\t\t\tEpoch 14"
       ]
      },
      {
       "output_type": "stream",
       "stream": "stdout",
       "text": [
        "\n",
        "\t\t\tEpoch 15"
       ]
      },
      {
       "output_type": "stream",
       "stream": "stdout",
       "text": [
        "\n",
        "\t\tCell 2"
       ]
      },
      {
       "output_type": "stream",
       "stream": "stdout",
       "text": [
        "\n",
        "\t\t\tEpoch 1"
       ]
      },
      {
       "output_type": "stream",
       "stream": "stdout",
       "text": [
        "\n",
        "\t\t\tEpoch 2"
       ]
      },
      {
       "output_type": "stream",
       "stream": "stdout",
       "text": [
        "\n",
        "\t\t\tEpoch 3"
       ]
      },
      {
       "output_type": "stream",
       "stream": "stdout",
       "text": [
        "\n",
        "\t\t\tEpoch 4"
       ]
      },
      {
       "output_type": "stream",
       "stream": "stdout",
       "text": [
        "\n",
        "\t\t\tEpoch 5"
       ]
      },
      {
       "output_type": "stream",
       "stream": "stdout",
       "text": [
        "\n",
        "\t\t\tEpoch 6"
       ]
      },
      {
       "output_type": "stream",
       "stream": "stdout",
       "text": [
        "\n",
        "\t\t\tEpoch 7"
       ]
      },
      {
       "output_type": "stream",
       "stream": "stdout",
       "text": [
        "\n",
        "\t\t\tEpoch 8"
       ]
      },
      {
       "output_type": "stream",
       "stream": "stdout",
       "text": [
        "\n",
        "\t\t\tEpoch 9"
       ]
      },
      {
       "output_type": "stream",
       "stream": "stdout",
       "text": [
        "\n",
        "\t\t\tEpoch 10"
       ]
      },
      {
       "output_type": "stream",
       "stream": "stdout",
       "text": [
        "\n",
        "\t\t\tEpoch 11"
       ]
      },
      {
       "output_type": "stream",
       "stream": "stdout",
       "text": [
        "\n",
        "\t\t\tEpoch 12"
       ]
      },
      {
       "output_type": "stream",
       "stream": "stdout",
       "text": [
        "\n",
        "\t\t\tEpoch 13"
       ]
      },
      {
       "output_type": "stream",
       "stream": "stdout",
       "text": [
        "\n",
        "\t\t\tEpoch 14"
       ]
      },
      {
       "output_type": "stream",
       "stream": "stdout",
       "text": [
        "\n",
        "\t\t\tEpoch 15"
       ]
      },
      {
       "output_type": "stream",
       "stream": "stdout",
       "text": [
        "\n",
        "\tSlice 2"
       ]
      },
      {
       "output_type": "stream",
       "stream": "stdout",
       "text": [
        "\n",
        "\t\tCell 1"
       ]
      },
      {
       "output_type": "stream",
       "stream": "stdout",
       "text": [
        "\n",
        "\t\t\tEpoch 1"
       ]
      },
      {
       "output_type": "stream",
       "stream": "stdout",
       "text": [
        "\n",
        "\t\t\tEpoch 2"
       ]
      },
      {
       "output_type": "stream",
       "stream": "stdout",
       "text": [
        "\n",
        "\t\t\tEpoch 3"
       ]
      },
      {
       "output_type": "stream",
       "stream": "stdout",
       "text": [
        "\n",
        "\t\t\tEpoch 4"
       ]
      },
      {
       "output_type": "stream",
       "stream": "stdout",
       "text": [
        "\n",
        "\t\t\tEpoch 5"
       ]
      },
      {
       "output_type": "stream",
       "stream": "stdout",
       "text": [
        "\n",
        "\t\t\tEpoch 6"
       ]
      },
      {
       "output_type": "stream",
       "stream": "stdout",
       "text": [
        "\n",
        "\t\t\tEpoch 7"
       ]
      },
      {
       "output_type": "stream",
       "stream": "stdout",
       "text": [
        "\n",
        "\t\t\tEpoch 8"
       ]
      },
      {
       "output_type": "stream",
       "stream": "stdout",
       "text": [
        "\n",
        "\t\t\tEpoch 9"
       ]
      },
      {
       "output_type": "stream",
       "stream": "stdout",
       "text": [
        "\n",
        "\t\t\tEpoch 10"
       ]
      },
      {
       "output_type": "stream",
       "stream": "stdout",
       "text": [
        "\n",
        "\t\t\tEpoch 11"
       ]
      },
      {
       "output_type": "stream",
       "stream": "stdout",
       "text": [
        "\n",
        "\t\t\tEpoch 12"
       ]
      },
      {
       "output_type": "stream",
       "stream": "stdout",
       "text": [
        "\n",
        "\t\t\tEpoch 13"
       ]
      },
      {
       "output_type": "stream",
       "stream": "stdout",
       "text": [
        "\n",
        "\t\t\tEpoch 14"
       ]
      },
      {
       "output_type": "stream",
       "stream": "stdout",
       "text": [
        "\n",
        "\t\t\tEpoch 15"
       ]
      },
      {
       "output_type": "stream",
       "stream": "stdout",
       "text": [
        "\n",
        "\t\tCell 2"
       ]
      },
      {
       "output_type": "stream",
       "stream": "stdout",
       "text": [
        "\n",
        "\t\t\tEpoch 1"
       ]
      },
      {
       "output_type": "stream",
       "stream": "stdout",
       "text": [
        "\n",
        "\t\t\tEpoch 2"
       ]
      },
      {
       "output_type": "stream",
       "stream": "stdout",
       "text": [
        "\n",
        "\t\t\tEpoch 3"
       ]
      },
      {
       "output_type": "stream",
       "stream": "stdout",
       "text": [
        "\n",
        "\t\t\tEpoch 4"
       ]
      },
      {
       "output_type": "stream",
       "stream": "stdout",
       "text": [
        "\n",
        "\t\t\tEpoch 5"
       ]
      },
      {
       "output_type": "stream",
       "stream": "stdout",
       "text": [
        "\n",
        "\t\t\tEpoch 6"
       ]
      },
      {
       "output_type": "stream",
       "stream": "stdout",
       "text": [
        "\n",
        "\t\t\tEpoch 7"
       ]
      },
      {
       "output_type": "stream",
       "stream": "stdout",
       "text": [
        "\n",
        "\t\t\tEpoch 8"
       ]
      },
      {
       "output_type": "stream",
       "stream": "stdout",
       "text": [
        "\n",
        "\t\t\tEpoch 9"
       ]
      },
      {
       "output_type": "stream",
       "stream": "stdout",
       "text": [
        "\n",
        "\t\t\tEpoch 10"
       ]
      },
      {
       "output_type": "stream",
       "stream": "stdout",
       "text": [
        "\n",
        "\t\t\tEpoch 11"
       ]
      },
      {
       "output_type": "stream",
       "stream": "stdout",
       "text": [
        "\n",
        "\t\t\tEpoch 12"
       ]
      },
      {
       "output_type": "stream",
       "stream": "stdout",
       "text": [
        "\n",
        "\t\t\tEpoch 13"
       ]
      },
      {
       "output_type": "stream",
       "stream": "stdout",
       "text": [
        "\n",
        "\t\t\tEpoch 14"
       ]
      },
      {
       "output_type": "stream",
       "stream": "stdout",
       "text": [
        "\n",
        "\t\t\tEpoch 15"
       ]
      },
      {
       "output_type": "stream",
       "stream": "stdout",
       "text": [
        "\n",
        "Experiment 2"
       ]
      },
      {
       "output_type": "stream",
       "stream": "stdout",
       "text": [
        "\n",
        "Inserting experiment 1...\n",
        "\tSlice 1"
       ]
      },
      {
       "output_type": "stream",
       "stream": "stdout",
       "text": [
        "\n",
        "\t\tCell 1"
       ]
      },
      {
       "output_type": "stream",
       "stream": "stdout",
       "text": [
        "\n",
        "\t\t\tEpoch 1"
       ]
      },
      {
       "output_type": "stream",
       "stream": "stdout",
       "text": [
        "\n",
        "\t\t\tEpoch 2"
       ]
      },
      {
       "output_type": "stream",
       "stream": "stdout",
       "text": [
        "\n",
        "\t\t\tEpoch 3"
       ]
      },
      {
       "output_type": "stream",
       "stream": "stdout",
       "text": [
        "\n",
        "\t\t\tEpoch 4"
       ]
      },
      {
       "output_type": "stream",
       "stream": "stdout",
       "text": [
        "\n",
        "\t\t\tEpoch 5"
       ]
      },
      {
       "output_type": "stream",
       "stream": "stdout",
       "text": [
        "\n",
        "\t\t\tEpoch 6"
       ]
      },
      {
       "output_type": "stream",
       "stream": "stdout",
       "text": [
        "\n",
        "\t\t\tEpoch 7"
       ]
      },
      {
       "output_type": "stream",
       "stream": "stdout",
       "text": [
        "\n",
        "\t\t\tEpoch 8"
       ]
      },
      {
       "output_type": "stream",
       "stream": "stdout",
       "text": [
        "\n",
        "\t\t\tEpoch 9"
       ]
      },
      {
       "output_type": "stream",
       "stream": "stdout",
       "text": [
        "\n",
        "\t\t\tEpoch 10"
       ]
      },
      {
       "output_type": "stream",
       "stream": "stdout",
       "text": [
        "\n",
        "\t\t\tEpoch 11"
       ]
      },
      {
       "output_type": "stream",
       "stream": "stdout",
       "text": [
        "\n",
        "\t\t\tEpoch 12"
       ]
      },
      {
       "output_type": "stream",
       "stream": "stdout",
       "text": [
        "\n",
        "\t\t\tEpoch 13"
       ]
      },
      {
       "output_type": "stream",
       "stream": "stdout",
       "text": [
        "\n",
        "\t\t\tEpoch 14"
       ]
      },
      {
       "output_type": "stream",
       "stream": "stdout",
       "text": [
        "\n",
        "\t\t\tEpoch 15"
       ]
      },
      {
       "output_type": "stream",
       "stream": "stdout",
       "text": [
        "\n",
        "\t\tCell 2"
       ]
      },
      {
       "output_type": "stream",
       "stream": "stdout",
       "text": [
        "\n",
        "\t\t\tEpoch 1"
       ]
      },
      {
       "output_type": "stream",
       "stream": "stdout",
       "text": [
        "\n",
        "\t\t\tEpoch 2"
       ]
      },
      {
       "output_type": "stream",
       "stream": "stdout",
       "text": [
        "\n",
        "\t\t\tEpoch 3"
       ]
      },
      {
       "output_type": "stream",
       "stream": "stdout",
       "text": [
        "\n",
        "\t\t\tEpoch 4"
       ]
      },
      {
       "output_type": "stream",
       "stream": "stdout",
       "text": [
        "\n",
        "\t\t\tEpoch 5"
       ]
      },
      {
       "output_type": "stream",
       "stream": "stdout",
       "text": [
        "\n",
        "\t\t\tEpoch 6"
       ]
      },
      {
       "output_type": "stream",
       "stream": "stdout",
       "text": [
        "\n",
        "\t\t\tEpoch 7"
       ]
      },
      {
       "output_type": "stream",
       "stream": "stdout",
       "text": [
        "\n",
        "\t\t\tEpoch 8"
       ]
      },
      {
       "output_type": "stream",
       "stream": "stdout",
       "text": [
        "\n",
        "\t\t\tEpoch 9"
       ]
      },
      {
       "output_type": "stream",
       "stream": "stdout",
       "text": [
        "\n",
        "\t\t\tEpoch 10"
       ]
      },
      {
       "output_type": "stream",
       "stream": "stdout",
       "text": [
        "\n",
        "\t\t\tEpoch 11"
       ]
      },
      {
       "output_type": "stream",
       "stream": "stdout",
       "text": [
        "\n",
        "\t\t\tEpoch 12"
       ]
      },
      {
       "output_type": "stream",
       "stream": "stdout",
       "text": [
        "\n",
        "\t\t\tEpoch 13"
       ]
      },
      {
       "output_type": "stream",
       "stream": "stdout",
       "text": [
        "\n",
        "\t\t\tEpoch 14"
       ]
      },
      {
       "output_type": "stream",
       "stream": "stdout",
       "text": [
        "\n",
        "\t\t\tEpoch 15"
       ]
      },
      {
       "output_type": "stream",
       "stream": "stdout",
       "text": [
        "\n",
        "\tSlice 2"
       ]
      },
      {
       "output_type": "stream",
       "stream": "stdout",
       "text": [
        "\n",
        "\t\tCell 1"
       ]
      },
      {
       "output_type": "stream",
       "stream": "stdout",
       "text": [
        "\n",
        "\t\t\tEpoch 1"
       ]
      },
      {
       "output_type": "stream",
       "stream": "stdout",
       "text": [
        "\n",
        "\t\t\tEpoch 2"
       ]
      },
      {
       "output_type": "stream",
       "stream": "stdout",
       "text": [
        "\n",
        "\t\t\tEpoch 3"
       ]
      },
      {
       "output_type": "stream",
       "stream": "stdout",
       "text": [
        "\n",
        "\t\t\tEpoch 4"
       ]
      },
      {
       "output_type": "stream",
       "stream": "stdout",
       "text": [
        "\n",
        "\t\t\tEpoch 5"
       ]
      },
      {
       "output_type": "stream",
       "stream": "stdout",
       "text": [
        "\n",
        "\t\t\tEpoch 6"
       ]
      },
      {
       "output_type": "stream",
       "stream": "stdout",
       "text": [
        "\n",
        "\t\t\tEpoch 7"
       ]
      },
      {
       "output_type": "stream",
       "stream": "stdout",
       "text": [
        "\n",
        "\t\t\tEpoch 8"
       ]
      },
      {
       "output_type": "stream",
       "stream": "stdout",
       "text": [
        "\n",
        "\t\t\tEpoch 9"
       ]
      },
      {
       "output_type": "stream",
       "stream": "stdout",
       "text": [
        "\n",
        "\t\t\tEpoch 10"
       ]
      },
      {
       "output_type": "stream",
       "stream": "stdout",
       "text": [
        "\n",
        "\t\t\tEpoch 11"
       ]
      },
      {
       "output_type": "stream",
       "stream": "stdout",
       "text": [
        "\n",
        "\t\t\tEpoch 12"
       ]
      },
      {
       "output_type": "stream",
       "stream": "stdout",
       "text": [
        "\n",
        "\t\t\tEpoch 13"
       ]
      },
      {
       "output_type": "stream",
       "stream": "stdout",
       "text": [
        "\n",
        "\t\t\tEpoch 14"
       ]
      },
      {
       "output_type": "stream",
       "stream": "stdout",
       "text": [
        "\n",
        "\t\t\tEpoch 15"
       ]
      },
      {
       "output_type": "stream",
       "stream": "stdout",
       "text": [
        "\n",
        "\t\tCell 2"
       ]
      },
      {
       "output_type": "stream",
       "stream": "stdout",
       "text": [
        "\n",
        "\t\t\tEpoch 1"
       ]
      },
      {
       "output_type": "stream",
       "stream": "stdout",
       "text": [
        "\n",
        "\t\t\tEpoch 2"
       ]
      },
      {
       "output_type": "stream",
       "stream": "stdout",
       "text": [
        "\n",
        "\t\t\tEpoch 3"
       ]
      },
      {
       "output_type": "stream",
       "stream": "stdout",
       "text": [
        "\n",
        "\t\t\tEpoch 4"
       ]
      },
      {
       "output_type": "stream",
       "stream": "stdout",
       "text": [
        "\n",
        "\t\t\tEpoch 5"
       ]
      },
      {
       "output_type": "stream",
       "stream": "stdout",
       "text": [
        "\n",
        "\t\t\tEpoch 6"
       ]
      },
      {
       "output_type": "stream",
       "stream": "stdout",
       "text": [
        "\n",
        "\t\t\tEpoch 7"
       ]
      },
      {
       "output_type": "stream",
       "stream": "stdout",
       "text": [
        "\n",
        "\t\t\tEpoch 8"
       ]
      },
      {
       "output_type": "stream",
       "stream": "stdout",
       "text": [
        "\n",
        "\t\t\tEpoch 9"
       ]
      },
      {
       "output_type": "stream",
       "stream": "stdout",
       "text": [
        "\n",
        "\t\t\tEpoch 10"
       ]
      },
      {
       "output_type": "stream",
       "stream": "stdout",
       "text": [
        "\n",
        "\t\t\tEpoch 11"
       ]
      },
      {
       "output_type": "stream",
       "stream": "stdout",
       "text": [
        "\n",
        "\t\t\tEpoch 12"
       ]
      },
      {
       "output_type": "stream",
       "stream": "stdout",
       "text": [
        "\n",
        "\t\t\tEpoch 13"
       ]
      },
      {
       "output_type": "stream",
       "stream": "stdout",
       "text": [
        "\n",
        "\t\t\tEpoch 14"
       ]
      },
      {
       "output_type": "stream",
       "stream": "stdout",
       "text": [
        "\n",
        "\t\t\tEpoch 15"
       ]
      },
      {
       "output_type": "stream",
       "stream": "stdout",
       "text": [
        "\n",
        "{"
       ]
      },
      {
       "output_type": "stream",
       "stream": "stdout",
       "text": [
        "u'expt0': u'ovation://b820f6ee-da56-4c16-839b-bb0837474f50/',\n",
        " u'expt1': u'ovation://fa956767-5a2e-40f9-866d-ecef1f20875e/',\n",
        " u'mouse0': u'ovation://c14926e0-8955-4801-b063-7b689e5d43cb/',\n",
        " u'mouse1': u'ovation://914b6ba9-188a-4fc2-a870-687a105f45c8/',\n",
        " u'project': u'ovation://87f3b416-264b-456d-916e-ee9002b1f762/'}\n"
       ]
      }
     ],
     "prompt_number": 75
    },
    {
     "cell_type": "heading",
     "level": 2,
     "metadata": {},
     "source": [
      "Analysis"
     ]
    },
    {
     "cell_type": "markdown",
     "metadata": {},
     "source": [
      "We collect all of the traces for each cell, take the max of each response and then calculate per-cell mean peak response."
     ]
    },
    {
     "cell_type": "code",
     "collapsed": false,
     "input": [
      "import physiology_demo_analysis\n",
      "reload(physiology_demo_analysis)\n",
      "\n",
      "from physiology_demo_analysis import calculate_cell_means\n",
      "\n",
      "(cells, epochs) = calculate_cell_means(project)"
     ],
     "language": "python",
     "metadata": {},
     "outputs": [],
     "prompt_number": 53
    },
    {
     "cell_type": "markdown",
     "metadata": {},
     "source": [
      "Now, we calculate the mean response"
     ]
    },
    {
     "cell_type": "code",
     "collapsed": false,
     "input": [
      "df = pd.DataFrame(data=cells.values(), index=cells.keys())\n",
      "df"
     ],
     "language": "python",
     "metadata": {},
     "outputs": [
      {
       "html": [
        "<div style=\"max-height:1000px;max-width:1500px;overflow:auto;\">\n",
        "<table border=\"1\" class=\"dataframe\">\n",
        "  <thead>\n",
        "    <tr style=\"text-align: right;\">\n",
        "      <th></th>\n",
        "      <th>10 mV</th>\n",
        "      <th>15 mV</th>\n",
        "      <th>20 mV</th>\n",
        "      <th>25 mV</th>\n",
        "      <th>30 mV</th>\n",
        "    </tr>\n",
        "  </thead>\n",
        "  <tbody>\n",
        "    <tr>\n",
        "      <th>Cortical cell (cell0)  ovation://ae40c985-6903-4ee4-a15e-dfa4152e2d2d/</th>\n",
        "      <td> 13.358438</td>\n",
        "      <td> 19.925639</td>\n",
        "      <td> 26.728933</td>\n",
        "      <td> 32.683350</td>\n",
        "      <td> 38.939551</td>\n",
        "    </tr>\n",
        "    <tr>\n",
        "      <th>Cortical cell (cell0)  ovation://5f756e6a-af9a-4bc6-8e51-bac7b6a92efd/</th>\n",
        "      <td> 12.996321</td>\n",
        "      <td> 19.093760</td>\n",
        "      <td> 25.794774</td>\n",
        "      <td> 33.237128</td>\n",
        "      <td> 40.710414</td>\n",
        "    </tr>\n",
        "    <tr>\n",
        "      <th>Cortical cell (cell1)  ovation://57d099fb-2609-412a-ac81-d65ebaf13b9d/</th>\n",
        "      <td> 12.944472</td>\n",
        "      <td> 18.995481</td>\n",
        "      <td> 26.415909</td>\n",
        "      <td> 32.504056</td>\n",
        "      <td> 38.533363</td>\n",
        "    </tr>\n",
        "    <tr>\n",
        "      <th>Cortical cell (cell0)  ovation://671ec363-a9e0-42db-a263-ec0c4df33711/</th>\n",
        "      <td> 12.772948</td>\n",
        "      <td> 19.400752</td>\n",
        "      <td> 25.588386</td>\n",
        "      <td> 32.418264</td>\n",
        "      <td> 38.691249</td>\n",
        "    </tr>\n",
        "    <tr>\n",
        "      <th>Cortical cell (cell1)  ovation://164e1904-fdd9-4574-8fbe-ccc6d2894c6f/</th>\n",
        "      <td> 12.979657</td>\n",
        "      <td> 19.862658</td>\n",
        "      <td> 26.902338</td>\n",
        "      <td> 32.662773</td>\n",
        "      <td> 38.348430</td>\n",
        "    </tr>\n",
        "    <tr>\n",
        "      <th>Cortical cell (cell1)  ovation://6a899e07-ed93-43bc-b473-a5374570dd2a/</th>\n",
        "      <td> 12.940071</td>\n",
        "      <td> 20.032313</td>\n",
        "      <td> 25.778042</td>\n",
        "      <td> 31.939181</td>\n",
        "      <td> 39.006488</td>\n",
        "    </tr>\n",
        "    <tr>\n",
        "      <th>Cortical cell (cell0)  ovation://2e932dc2-701f-4b1c-b3f0-0d8f6e69fa66/</th>\n",
        "      <td> 13.091512</td>\n",
        "      <td> 19.047329</td>\n",
        "      <td> 25.779243</td>\n",
        "      <td> 32.550004</td>\n",
        "      <td> 38.130597</td>\n",
        "    </tr>\n",
        "    <tr>\n",
        "      <th>Cortical cell (cell1)  ovation://d98b14af-77db-43f4-8721-c15eeb0d5a08/</th>\n",
        "      <td> 13.051730</td>\n",
        "      <td> 19.256041</td>\n",
        "      <td> 26.438731</td>\n",
        "      <td> 32.104115</td>\n",
        "      <td> 38.606090</td>\n",
        "    </tr>\n",
        "  </tbody>\n",
        "</table>\n",
        "</div>"
       ],
       "metadata": {},
       "output_type": "pyout",
       "prompt_number": 54,
       "text": [
        "                                                                            10 mV  \\\n",
        "Cortical cell (cell0)  ovation://ae40c985-6903-4ee4-a15e-dfa4152e2d2d/  13.358438   \n",
        "Cortical cell (cell0)  ovation://5f756e6a-af9a-4bc6-8e51-bac7b6a92efd/  12.996321   \n",
        "Cortical cell (cell1)  ovation://57d099fb-2609-412a-ac81-d65ebaf13b9d/  12.944472   \n",
        "Cortical cell (cell0)  ovation://671ec363-a9e0-42db-a263-ec0c4df33711/  12.772948   \n",
        "Cortical cell (cell1)  ovation://164e1904-fdd9-4574-8fbe-ccc6d2894c6f/  12.979657   \n",
        "Cortical cell (cell1)  ovation://6a899e07-ed93-43bc-b473-a5374570dd2a/  12.940071   \n",
        "Cortical cell (cell0)  ovation://2e932dc2-701f-4b1c-b3f0-0d8f6e69fa66/  13.091512   \n",
        "Cortical cell (cell1)  ovation://d98b14af-77db-43f4-8721-c15eeb0d5a08/  13.051730   \n",
        "\n",
        "                                                                            15 mV  \\\n",
        "Cortical cell (cell0)  ovation://ae40c985-6903-4ee4-a15e-dfa4152e2d2d/  19.925639   \n",
        "Cortical cell (cell0)  ovation://5f756e6a-af9a-4bc6-8e51-bac7b6a92efd/  19.093760   \n",
        "Cortical cell (cell1)  ovation://57d099fb-2609-412a-ac81-d65ebaf13b9d/  18.995481   \n",
        "Cortical cell (cell0)  ovation://671ec363-a9e0-42db-a263-ec0c4df33711/  19.400752   \n",
        "Cortical cell (cell1)  ovation://164e1904-fdd9-4574-8fbe-ccc6d2894c6f/  19.862658   \n",
        "Cortical cell (cell1)  ovation://6a899e07-ed93-43bc-b473-a5374570dd2a/  20.032313   \n",
        "Cortical cell (cell0)  ovation://2e932dc2-701f-4b1c-b3f0-0d8f6e69fa66/  19.047329   \n",
        "Cortical cell (cell1)  ovation://d98b14af-77db-43f4-8721-c15eeb0d5a08/  19.256041   \n",
        "\n",
        "                                                                            20 mV  \\\n",
        "Cortical cell (cell0)  ovation://ae40c985-6903-4ee4-a15e-dfa4152e2d2d/  26.728933   \n",
        "Cortical cell (cell0)  ovation://5f756e6a-af9a-4bc6-8e51-bac7b6a92efd/  25.794774   \n",
        "Cortical cell (cell1)  ovation://57d099fb-2609-412a-ac81-d65ebaf13b9d/  26.415909   \n",
        "Cortical cell (cell0)  ovation://671ec363-a9e0-42db-a263-ec0c4df33711/  25.588386   \n",
        "Cortical cell (cell1)  ovation://164e1904-fdd9-4574-8fbe-ccc6d2894c6f/  26.902338   \n",
        "Cortical cell (cell1)  ovation://6a899e07-ed93-43bc-b473-a5374570dd2a/  25.778042   \n",
        "Cortical cell (cell0)  ovation://2e932dc2-701f-4b1c-b3f0-0d8f6e69fa66/  25.779243   \n",
        "Cortical cell (cell1)  ovation://d98b14af-77db-43f4-8721-c15eeb0d5a08/  26.438731   \n",
        "\n",
        "                                                                            25 mV  \\\n",
        "Cortical cell (cell0)  ovation://ae40c985-6903-4ee4-a15e-dfa4152e2d2d/  32.683350   \n",
        "Cortical cell (cell0)  ovation://5f756e6a-af9a-4bc6-8e51-bac7b6a92efd/  33.237128   \n",
        "Cortical cell (cell1)  ovation://57d099fb-2609-412a-ac81-d65ebaf13b9d/  32.504056   \n",
        "Cortical cell (cell0)  ovation://671ec363-a9e0-42db-a263-ec0c4df33711/  32.418264   \n",
        "Cortical cell (cell1)  ovation://164e1904-fdd9-4574-8fbe-ccc6d2894c6f/  32.662773   \n",
        "Cortical cell (cell1)  ovation://6a899e07-ed93-43bc-b473-a5374570dd2a/  31.939181   \n",
        "Cortical cell (cell0)  ovation://2e932dc2-701f-4b1c-b3f0-0d8f6e69fa66/  32.550004   \n",
        "Cortical cell (cell1)  ovation://d98b14af-77db-43f4-8721-c15eeb0d5a08/  32.104115   \n",
        "\n",
        "                                                                            30 mV  \n",
        "Cortical cell (cell0)  ovation://ae40c985-6903-4ee4-a15e-dfa4152e2d2d/  38.939551  \n",
        "Cortical cell (cell0)  ovation://5f756e6a-af9a-4bc6-8e51-bac7b6a92efd/  40.710414  \n",
        "Cortical cell (cell1)  ovation://57d099fb-2609-412a-ac81-d65ebaf13b9d/  38.533363  \n",
        "Cortical cell (cell0)  ovation://671ec363-a9e0-42db-a263-ec0c4df33711/  38.691249  \n",
        "Cortical cell (cell1)  ovation://164e1904-fdd9-4574-8fbe-ccc6d2894c6f/  38.348430  \n",
        "Cortical cell (cell1)  ovation://6a899e07-ed93-43bc-b473-a5374570dd2a/  39.006488  \n",
        "Cortical cell (cell0)  ovation://2e932dc2-701f-4b1c-b3f0-0d8f6e69fa66/  38.130597  \n",
        "Cortical cell (cell1)  ovation://d98b14af-77db-43f4-8721-c15eeb0d5a08/  38.606090  "
       ]
      }
     ],
     "prompt_number": 54
    },
    {
     "cell_type": "code",
     "collapsed": false,
     "input": [
      "fig = df.T.plot(legend=False)"
     ],
     "language": "python",
     "metadata": {},
     "outputs": [
      {
       "metadata": {},
       "output_type": "display_data",
       "png": "[encoded data removed]",
       "text": [
        "<matplotlib.figure.Figure at 0x111462750>"
       ]
      }
     ],
     "prompt_number": 55
    },
    {
     "cell_type": "code",
     "collapsed": false,
     "input": [
      "\n",
      "fig.set_xlabel('Voltage step')\n",
      "fig.set_ylabel('Membrance current (pA)')\n",
      "figure_file_name = os.path.join(tempfile.tempdir, 'Peak current.tiff')\n",
      "fig.figure.savefig(figure_file_name)"
     ],
     "language": "python",
     "metadata": {},
     "outputs": [],
     "prompt_number": 56
    },
    {
     "cell_type": "markdown",
     "metadata": {},
     "source": [
      "Write the result to a CSV file so that we can add it as an output"
     ]
    },
    {
     "cell_type": "code",
     "collapsed": false,
     "input": [
      "(fd,name) = tempfile.mkstemp(suffix='-per-cell-mean-peak-response.csv')\n",
      "df.to_csv(name)"
     ],
     "language": "python",
     "metadata": {},
     "outputs": [],
     "prompt_number": 57
    },
    {
     "cell_type": "code",
     "collapsed": false,
     "input": [
      "parameters = {}\n",
      "\n",
      "inputs = { 'epoch-{0}'.format(i) : e.getMeasurement('Membrane current') for (i,e) in enumerate(epochs) if len(list(iterable(e.getMeasurements()))) > 0}"
     ],
     "language": "python",
     "metadata": {},
     "outputs": [],
     "prompt_number": 58
    },
    {
     "cell_type": "code",
     "collapsed": false,
     "input": [
      "project.getURI().toString()"
     ],
     "language": "python",
     "metadata": {},
     "outputs": [
      {
       "metadata": {},
       "output_type": "pyout",
       "prompt_number": 78,
       "text": [
        "'ovation://87f3b416-264b-456d-916e-ee9002b1f762/'"
       ]
      }
     ],
     "prompt_number": 78
    },
    {
     "cell_type": "code",
     "collapsed": false,
     "input": [
      "analysis_protocol = ctx.getProtocol('Per-cell mean peak response')\n",
      "if analysis_protocol is None:\n",
      "    print('Inserting analysis protocol...')\n",
      "    analysis_protocol = ctx.insertProtocol('Per-cell mean peak response',\n",
      "                                           'Calculate per-cell mean peak response across the project',\n",
      "                                           'physiology_demo_analysis.calculate_cell_means',\n",
      "                                           'https://github.com/physion/ovation-sample-project',\n",
      "                                           '6ad21e8b2008aed50b7667389ddc22947a8d5357'\n",
      "                                           )"
     ],
     "language": "python",
     "metadata": {},
     "outputs": [],
     "prompt_number": 81
    },
    {
     "cell_type": "code",
     "collapsed": false,
     "input": [
      "analysis = asclass('Project', project).addAnalysisRecord(\"Per-cell mean peak response\",\n",
      "                                     to_map(inputs),\n",
      "                                     analysis_protocol,\n",
      "                                     to_map(parameters))\n",
      "                                     "
     ],
     "language": "python",
     "metadata": {},
     "outputs": [],
     "prompt_number": 89
    },
    {
     "cell_type": "code",
     "collapsed": false,
     "input": [
      "analysis.addOutput('result', URL('file://{0}'.format(name)), 'text/csv')\n",
      "analysis.addOutput('figure', URL('file://{0}'.format(figure_file_name)), 'image/tiff')"
     ],
     "language": "python",
     "metadata": {},
     "outputs": [
      {
       "metadata": {},
       "output_type": "pyout",
       "prompt_number": 90,
       "text": [
        "<us.physion.ovation.domain.mixin.DataElement at 0x11124c710 jclass=us/physion/ovation/domain/mixin/DataElement jself=<LocalRef obj=0x1115a5238 at 0x1110789d0>>"
       ]
      }
     ],
     "prompt_number": 90
    },
    {
     "cell_type": "code",
     "collapsed": false,
     "input": [
      "%qtconsole"
     ],
     "language": "python",
     "metadata": {},
     "outputs": [],
     "prompt_number": 24
    }
   ],
   "metadata": {}
  }
 ]
}