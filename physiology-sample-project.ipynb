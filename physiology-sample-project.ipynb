{
 "metadata": {
  "name": ""
 },
 "nbformat": 3,
 "nbformat_minor": 0,
 "worksheets": [
  {
   "cells": [
    {
     "cell_type": "heading",
     "level": 1,
     "metadata": {},
     "source": [
      "Demo project construction"
     ]
    },
    {
     "cell_type": "heading",
     "level": 2,
     "metadata": {},
     "source": [
      "Imports"
     ]
    },
    {
     "cell_type": "code",
     "collapsed": false,
     "input": [
      "from ovation.connection import connect\n",
      "from ovation.conversion import to_map, to_dict, asclass, iterable, to_java_set\n",
      "from ovation.data import insert_numeric_analysis_artifact, insert_numeric_measurement, as_data_frame\n",
      "from ovation import DateTime, DateTimeZone, Optional, Sets, Maps, Integer, URL\n",
      "from pprint import pprint\n",
      "import quantities as pq\n",
      "import scipy as sp\n",
      "import pandas as pd\n",
      "import matplotlib.pyplot as plt\n",
      "import logging\n",
      "import getpass\n",
      "import tempfile\n",
      "import os.path"
     ],
     "language": "python",
     "metadata": {},
     "outputs": [],
     "prompt_number": 158
    },
    {
     "cell_type": "heading",
     "level": 2,
     "metadata": {},
     "source": [
      "Equipment setup"
     ]
    },
    {
     "cell_type": "code",
     "collapsed": false,
     "input": [
      "equipment = { 'Amplifier_1.model' : 'Multiclamp 700B',\n",
      "             'Amplifier_1.Headstage_1.Channel_1.name' : 'Channel 1'\n",
      "             }"
     ],
     "language": "python",
     "metadata": {},
     "outputs": [],
     "prompt_number": 111
    },
    {
     "cell_type": "heading",
     "level": 2,
     "metadata": {},
     "source": [
      "Protocols"
     ]
    },
    {
     "cell_type": "code",
     "collapsed": false,
     "input": [
      "cortical_slice_protocol_document = u'''\n",
      "This protocol describes the procedure for making cortical slices from an mouse. \n",
      "\n",
      "We might use this ACSF recipie from Cold Spring Harbor (http://cshprotocols.cshlp.org/content/2011/9/pdb.rec065730.full?text_only=true)\n",
      "\n",
      "119 mM NaCl\n",
      "\n",
      "26.2 mM NaHCO3\n",
      "\n",
      "2.5 mM KCl\n",
      "\n",
      "1 mM NaH2PO4\n",
      "\n",
      "1.3 mM MgCl2\n",
      "\n",
      "10 mM glucose\n",
      "\n",
      "Gas with 5% CO2/95% O2 for 10\u201315 min, then add 2.5-mM CaCl2. Filter sterilize with a 0.22-\u00b5m filter apparatus, and store at 4\u00b0C. ACSF is stable for 3\u20134 wk. If overt contamination (solution becomes cloudy) or precipitation is apparent, discard, and make fresh ACSF.\n",
      "\n",
      "Variables such as {ACSF_BATCH_DATE}, the date when the ACSF batch was made  are denoted using {VARIABLE}.\n",
      "'''"
     ],
     "language": "python",
     "metadata": {},
     "outputs": [],
     "prompt_number": 112
    },
    {
     "cell_type": "code",
     "collapsed": false,
     "input": [
      "cell_selection_protocol_document = u'''\n",
      "This protocol describes how cells were chosen within a slice for recording.\n",
      "'''"
     ],
     "language": "python",
     "metadata": {},
     "outputs": [],
     "prompt_number": 113
    },
    {
     "cell_type": "code",
     "collapsed": false,
     "input": [
      "recording_protocol_1_document = u'''\n",
      "For each of {nsteps}, a step in membrane voltage is presented. If {step} is the step number, then the baseline membrane\n",
      "volage is 0mV and the step voltage is {starting_step_amplitude_mV} + {step_increment_mV} * {step} = {step_amplitude_mV}.\n",
      "\n",
      "Resulting membrane current is recorde in voltage-clamp mode.\n",
      "'''"
     ],
     "language": "python",
     "metadata": {},
     "outputs": [],
     "prompt_number": 114
    },
    {
     "cell_type": "heading",
     "level": 2,
     "metadata": {},
     "source": [
      "Analysis protocols"
     ]
    },
    {
     "cell_type": "code",
     "collapsed": false,
     "input": [
      "analysis_protocol = ctx.getProtocol('Per-cell mean peak response')\n",
      "if analysis_protocol is None:\n",
      "    analysis_protocol = ctx.insertProtocol('Per-cell mean peak response',\n",
      "                                           'Calculate per-cell mean peak response across the project',\n",
      "                                           'physiology_demo_analysis.calculate_cell_means',\n",
      "                                           'https://github.com/physion/ovation-sample-project',\n",
      "                                           'aa49d0cbff5c30a55f8a7e6963b36642e6483fe6' #TODO\n",
      "                                           )"
     ],
     "language": "python",
     "metadata": {},
     "outputs": [],
     "prompt_number": 133
    },
    {
     "cell_type": "heading",
     "level": 2,
     "metadata": {},
     "source": [
      "Connection"
     ]
    },
    {
     "cell_type": "code",
     "collapsed": false,
     "input": [
      "from ovation.api import Ovation\n",
      "Ovation.getVersion()"
     ],
     "language": "python",
     "metadata": {},
     "outputs": [
      {
       "metadata": {},
       "output_type": "pyout",
       "prompt_number": 116,
       "text": [
        "'2.0.0'"
       ]
      }
     ],
     "prompt_number": 116
    },
    {
     "cell_type": "code",
     "collapsed": false,
     "input": [
      "email = raw_input('Email: ')\n",
      "print('Enter password at the console in the next cell...')\n"
     ],
     "language": "python",
     "metadata": {},
     "outputs": [
      {
       "name": "stdout",
       "output_type": "stream",
       "stream": "stdout",
       "text": [
        "Email: barry@physion.us\n"
       ]
      },
      {
       "output_type": "stream",
       "stream": "stdout",
       "text": [
        "Enter password at the console in the next cell...\n"
       ]
      }
     ],
     "prompt_number": 118
    },
    {
     "cell_type": "code",
     "collapsed": false,
     "input": [
      "dsc = connect(email, getpass.getpass(prompt='Ovation password: '))\n",
      "ctx = dsc.getContext()"
     ],
     "language": "python",
     "metadata": {},
     "outputs": [],
     "prompt_number": 119
    },
    {
     "cell_type": "heading",
     "level": 3,
     "metadata": {},
     "source": [
      "Structural entities"
     ]
    },
    {
     "cell_type": "markdown",
     "metadata": {},
     "source": [
      "We keep the Ids of relevant entities"
     ]
    },
    {
     "cell_type": "code",
     "collapsed": false,
     "input": [
      "import json\n",
      "ENTITY_IDS = 'entities.json'\n",
      "\n",
      "try:\n",
      "    with open(ENTITY_IDS, 'r') as f:\n",
      "        existingIds = json.load(f)\n",
      "except IOError:\n",
      "    existingIds = {}\n",
      "    with open(ENTITY_IDS, 'w') as f:\n",
      "        json.dump(existingIds, f)\n"
     ],
     "language": "python",
     "metadata": {},
     "outputs": [],
     "prompt_number": 122
    },
    {
     "cell_type": "markdown",
     "metadata": {},
     "source": [
      "We first find (or create) the ``Protocol`` instances"
     ]
    },
    {
     "cell_type": "code",
     "collapsed": false,
     "input": [
      "def get_protocol(name, document):\n",
      "    protocol = ctx.getProtocol(name)\n",
      "    if protocol is None:\n",
      "        print('Inserting protocol ' + name + '...')\n",
      "        protocol = ctx.insertProtocol(name, document)\n",
      "    return protocol\n",
      "\n",
      "cortical_slice_protocol = get_protocol('Cortical Slicing', cortical_slice_protocol_document)\n",
      "cell_selection_protocol = get_protocol('Cortical Cell Selection', cell_selection_protocol_document)\n",
      "recording_protocol_1 = get_protocol('Membrane voltage step', recording_protocol_1_document)"
     ],
     "language": "python",
     "metadata": {},
     "outputs": [],
     "prompt_number": 123
    },
    {
     "cell_type": "markdown",
     "metadata": {},
     "source": [
      "Now we're ready to create the ``Project`` and two ``Experiments``. Each ``Experiment`` will corespond to recordings (and imaging) made from one ``Source``"
     ]
    },
    {
     "cell_type": "code",
     "collapsed": false,
     "input": [
      "timezone = DateTimeZone.forID('America/Los_Angeles')"
     ],
     "language": "python",
     "metadata": {},
     "outputs": [],
     "prompt_number": 124
    },
    {
     "cell_type": "code",
     "collapsed": false,
     "input": [
      "projectId = existingIds.get('project')\n",
      "try:\n",
      "    project = asclass('Project', ctx.getObjectWithURI(projectId))\n",
      "except:\n",
      "    print('Inserting project...')\n",
      "    project = ctx.insertProject('Ovation sample physiology project',\n",
      "                                '''The purpose of this project is to demonstrate the core features of the Ovation platform\n",
      "                                using a series of made-up physiology experiments.''',\n",
      "                                DateTime(2013, 11, 25, 13, 19, 0, 0, timezone))\n",
      "    print(project.getURI().toString())\n",
      "    existingIds['project'] = project.getURI().toString()"
     ],
     "language": "python",
     "metadata": {},
     "outputs": [
      {
       "output_type": "stream",
       "stream": "stdout",
       "text": [
        "Inserting project...\n",
        "ovation://6ba0900d-7376-44e8-9eb8-6f3cc2cfc540/"
       ]
      },
      {
       "output_type": "stream",
       "stream": "stdout",
       "text": [
        "\n"
       ]
      }
     ],
     "prompt_number": 125
    },
    {
     "cell_type": "code",
     "collapsed": false,
     "input": [
      "# Two experiments, with two slices each from a single animal, each with two cells\n",
      "\n",
      "experiments = []\n",
      "for exp_idx in range(0,2):\n",
      "    print('Experiment {0}'.format(exp_idx + 1))\n",
      "    \n",
      "    exp_name = 'expt' + str(exp_idx)\n",
      "    experimentId = existingIds.get(exp_name)\n",
      "    try:\n",
      "        expt = ctx.getObjectWithURI(experiment1Id)\n",
      "    except:\n",
      "        print('Inserting experiment ' + str(exp_idx) + '...')\n",
      "        expt = project.insertExperiment(\"Measuring mouse cortical cells' membrane current in response to a membrane voltage step\",\n",
      "                                         DateTime(2013, 12, 2 + exp_idx, 7, 0, 0, 0, timezone))\n",
      "        expt.setEquipmentSetupFromMap(to_map(equipment))\n",
      "        existingIds[exp_name] = expt.getURI().toString()\n",
      "        \n",
      "    \n",
      "    experiments += [expt]\n",
      "    \n",
      "    # One mouse per experiment\n",
      "    mouse_name = 'mouse' + str(exp_idx)\n",
      "    try:\n",
      "        mouse = asclass('Source', ctx.getObjectWithURI(existingIds.get(mouse_name)))\n",
      "    except:\n",
      "        mouse = ctx.insertSource('C57/BL6', 'animal-id-' + str(exp_idx))\n",
      "        mouse.addProperty('DOB', 'November 1, 2013')\n",
      "        mouse.addProperty('sex', 'male' if exp_idx % 2 == 0  else 'female')\n",
      "        \n",
      "        existingIds[mouse_name] = mouse.getURI().toString()\n",
      "        \n",
      "    \n",
      "    # Two slices made from the mouse\n",
      "    for slice_idx in range(2):\n",
      "        print('\\tSlice {0}'.format(slice_idx+1))\n",
      "        \n",
      "        slice_name = 'slice{0}_{1}'.format(slice_idx, exp_idx)\n",
      "        cortical_slice = mouse.insertSource(expt,\n",
      "                               DateTime(2013, 11, 30, 8, 10, 0, 0, timezone),\n",
      "                               DateTime(2013, 11, 30, 8, 25, 0, 0, timezone),\n",
      "                               cortical_slice_protocol,\n",
      "                               to_map({'ACSF_BATCH_DATE' : '2013-12-08T-08:00'}),\n",
      "                               Optional.absent(),\n",
      "                               'Cortical slice',\n",
      "                               slice_name)\n",
      "        \n",
      "        # Two cells from each slice\n",
      "        for cell_idx in range(2):\n",
      "            print('\\t\\tCell {0}'.format(cell_idx+1))\n",
      "            \n",
      "            cell_name = 'cell{0}'.format(cell_idx)\n",
      "            recording_start = DateTime(2013, 11, 30, 8, cell_idx*10+5, 0, 0, timezone)\n",
      "            cell = cortical_slice.insertSource(expt,\n",
      "                               DateTime(2013, 11, 30, 9, cell_idx*10, 0, 0, timezone),\n",
      "                               recording_start,\n",
      "                               cell_selection_protocol,\n",
      "                               to_map({}),\n",
      "                               Optional.absent(),\n",
      "                               'Cortical cell',\n",
      "                               cell_name)\n",
      "            \n",
      "            for i in range(15):\n",
      "                print('\\t\\t\\tEpoch {0}'.format(i+1))\n",
      "                step_start = 5\n",
      "                step_increment = 5\n",
      "                \n",
      "                step = i % 5\n",
      "                protocol_parameters = {'step' : step,\n",
      "                                       'starting_step_amplitude_mV' : step_start,\n",
      "                                       'step_increment_mV' : step_increment,\n",
      "                                       'step_amplitude_mV' : (step+1) * step_increment + step_start}\n",
      "            \n",
      "                device_parameters = {'Amplifier_1.Headstage_1.Channel_1.mode' : 'V-clamp',\n",
      "                                     'Amplifier_1.Headstage_1.Channel_1.gain' : '10' }\n",
      "                \n",
      "                epoch = expt.insertEpoch(to_map({'cell' : cell}),\n",
      "                                          None,\n",
      "                                          recording_start.plusSeconds(i-1 * 3),\n",
      "                                          recording_start.plusSeconds((i-1 * 3) + 1),\n",
      "                                          recording_protocol_1,\n",
      "                                          to_map(protocol_parameters),\n",
      "                                          to_map(device_parameters))\n",
      "                \n",
      "                \n",
      "                step_amplitude = (step+1) * step_increment + step_start\n",
      "                data = sp.hstack((sp.zeros(500), sp.ones(500) * step_amplitude, sp.zeros(500))) * pq.pA\n",
      "                noise = sp.randn(*data.shape) * step_amplitude/10 * pq.pA #10% noise\n",
      "                data = data + noise\n",
      "                data.sampling_rates = [1000 * pq.Hz]\n",
      "                data.labels = ['membrance current']\n",
      "                insert_numeric_measurement(epoch, \n",
      "                                           set(['cell']), \n",
      "                                           set(['Amplifier_1.Headstage_1.Channel_1']),\n",
      "                                           'Membrane current',\n",
      "                                           {'current' : data})\n",
      "                epoch.addTag('demo')\n",
      "\n",
      "with open(ENTITY_IDS, 'w') as f:\n",
      "    json.dump(existingIds, f)\n",
      "    \n",
      "with open(ENTITY_IDS, 'r') as f:\n",
      "    pprint(json.load(f))\n",
      "    \n",
      "ctx = dsc.getContext()\n",
      "project = ctx.getObjectWithURI(project.getURI().toString())"
     ],
     "language": "python",
     "metadata": {},
     "outputs": [
      {
       "output_type": "stream",
       "stream": "stdout",
       "text": [
        "Experiment 1\n",
        "Inserting experiment 0...\n",
        "\tSlice 1"
       ]
      },
      {
       "output_type": "stream",
       "stream": "stdout",
       "text": [
        "\n",
        "\t\tCell 1"
       ]
      },
      {
       "output_type": "stream",
       "stream": "stdout",
       "text": [
        "\n",
        "\t\t\tEpoch 1"
       ]
      },
      {
       "output_type": "stream",
       "stream": "stdout",
       "text": [
        "\n",
        "\t\t\tEpoch 2"
       ]
      },
      {
       "output_type": "stream",
       "stream": "stdout",
       "text": [
        "\n",
        "\t\t\tEpoch 3"
       ]
      },
      {
       "output_type": "stream",
       "stream": "stdout",
       "text": [
        "\n",
        "\t\t\tEpoch 4"
       ]
      },
      {
       "output_type": "stream",
       "stream": "stdout",
       "text": [
        "\n",
        "\t\t\tEpoch 5"
       ]
      },
      {
       "output_type": "stream",
       "stream": "stdout",
       "text": [
        "\n",
        "\t\t\tEpoch 6"
       ]
      },
      {
       "output_type": "stream",
       "stream": "stdout",
       "text": [
        "\n",
        "\t\t\tEpoch 7"
       ]
      },
      {
       "output_type": "stream",
       "stream": "stdout",
       "text": [
        "\n",
        "\t\t\tEpoch 8"
       ]
      },
      {
       "output_type": "stream",
       "stream": "stdout",
       "text": [
        "\n",
        "\t\t\tEpoch 9"
       ]
      },
      {
       "output_type": "stream",
       "stream": "stdout",
       "text": [
        "\n",
        "\t\t\tEpoch 10"
       ]
      },
      {
       "output_type": "stream",
       "stream": "stdout",
       "text": [
        "\n",
        "\t\t\tEpoch 11"
       ]
      },
      {
       "output_type": "stream",
       "stream": "stdout",
       "text": [
        "\n",
        "\t\t\tEpoch 12"
       ]
      },
      {
       "output_type": "stream",
       "stream": "stdout",
       "text": [
        "\n",
        "\t\t\tEpoch 13"
       ]
      },
      {
       "output_type": "stream",
       "stream": "stdout",
       "text": [
        "\n",
        "\t\t\tEpoch 14"
       ]
      },
      {
       "output_type": "stream",
       "stream": "stdout",
       "text": [
        "\n",
        "\t\t\tEpoch 15"
       ]
      },
      {
       "output_type": "stream",
       "stream": "stdout",
       "text": [
        "\n",
        "\t\tCell 2"
       ]
      },
      {
       "output_type": "stream",
       "stream": "stdout",
       "text": [
        "\n",
        "\t\t\tEpoch 1"
       ]
      },
      {
       "output_type": "stream",
       "stream": "stdout",
       "text": [
        "\n",
        "\t\t\tEpoch 2"
       ]
      },
      {
       "output_type": "stream",
       "stream": "stdout",
       "text": [
        "\n",
        "\t\t\tEpoch 3"
       ]
      },
      {
       "output_type": "stream",
       "stream": "stdout",
       "text": [
        "\n",
        "\t\t\tEpoch 4"
       ]
      },
      {
       "output_type": "stream",
       "stream": "stdout",
       "text": [
        "\n",
        "\t\t\tEpoch 5"
       ]
      },
      {
       "output_type": "stream",
       "stream": "stdout",
       "text": [
        "\n",
        "\t\t\tEpoch 6"
       ]
      },
      {
       "output_type": "stream",
       "stream": "stdout",
       "text": [
        "\n",
        "\t\t\tEpoch 7"
       ]
      },
      {
       "output_type": "stream",
       "stream": "stdout",
       "text": [
        "\n",
        "\t\t\tEpoch 8"
       ]
      },
      {
       "output_type": "stream",
       "stream": "stdout",
       "text": [
        "\n",
        "\t\t\tEpoch 9"
       ]
      },
      {
       "output_type": "stream",
       "stream": "stdout",
       "text": [
        "\n",
        "\t\t\tEpoch 10"
       ]
      },
      {
       "output_type": "stream",
       "stream": "stdout",
       "text": [
        "\n",
        "\t\t\tEpoch 11"
       ]
      },
      {
       "output_type": "stream",
       "stream": "stdout",
       "text": [
        "\n",
        "\t\t\tEpoch 12"
       ]
      },
      {
       "output_type": "stream",
       "stream": "stdout",
       "text": [
        "\n",
        "\t\t\tEpoch 13"
       ]
      },
      {
       "output_type": "stream",
       "stream": "stdout",
       "text": [
        "\n",
        "\t\t\tEpoch 14"
       ]
      },
      {
       "output_type": "stream",
       "stream": "stdout",
       "text": [
        "\n",
        "\t\t\tEpoch 15"
       ]
      },
      {
       "output_type": "stream",
       "stream": "stdout",
       "text": [
        "\n",
        "\tSlice 2"
       ]
      },
      {
       "output_type": "stream",
       "stream": "stdout",
       "text": [
        "\n",
        "\t\tCell 1"
       ]
      },
      {
       "output_type": "stream",
       "stream": "stdout",
       "text": [
        "\n",
        "\t\t\tEpoch 1"
       ]
      },
      {
       "output_type": "stream",
       "stream": "stdout",
       "text": [
        "\n",
        "\t\t\tEpoch 2"
       ]
      },
      {
       "output_type": "stream",
       "stream": "stdout",
       "text": [
        "\n",
        "\t\t\tEpoch 3"
       ]
      },
      {
       "output_type": "stream",
       "stream": "stdout",
       "text": [
        "\n",
        "\t\t\tEpoch 4"
       ]
      },
      {
       "output_type": "stream",
       "stream": "stdout",
       "text": [
        "\n",
        "\t\t\tEpoch 5"
       ]
      },
      {
       "output_type": "stream",
       "stream": "stdout",
       "text": [
        "\n",
        "\t\t\tEpoch 6"
       ]
      },
      {
       "output_type": "stream",
       "stream": "stdout",
       "text": [
        "\n",
        "\t\t\tEpoch 7"
       ]
      },
      {
       "output_type": "stream",
       "stream": "stdout",
       "text": [
        "\n",
        "\t\t\tEpoch 8"
       ]
      },
      {
       "output_type": "stream",
       "stream": "stdout",
       "text": [
        "\n",
        "\t\t\tEpoch 9"
       ]
      },
      {
       "output_type": "stream",
       "stream": "stdout",
       "text": [
        "\n",
        "\t\t\tEpoch 10"
       ]
      },
      {
       "output_type": "stream",
       "stream": "stdout",
       "text": [
        "\n",
        "\t\t\tEpoch 11"
       ]
      },
      {
       "output_type": "stream",
       "stream": "stdout",
       "text": [
        "\n",
        "\t\t\tEpoch 12"
       ]
      },
      {
       "output_type": "stream",
       "stream": "stdout",
       "text": [
        "\n",
        "\t\t\tEpoch 13"
       ]
      },
      {
       "output_type": "stream",
       "stream": "stdout",
       "text": [
        "\n",
        "\t\t\tEpoch 14"
       ]
      },
      {
       "output_type": "stream",
       "stream": "stdout",
       "text": [
        "\n",
        "\t\t\tEpoch 15"
       ]
      },
      {
       "output_type": "stream",
       "stream": "stdout",
       "text": [
        "\n",
        "\t\tCell 2"
       ]
      },
      {
       "output_type": "stream",
       "stream": "stdout",
       "text": [
        "\n",
        "\t\t\tEpoch 1"
       ]
      },
      {
       "output_type": "stream",
       "stream": "stdout",
       "text": [
        "\n",
        "\t\t\tEpoch 2"
       ]
      },
      {
       "output_type": "stream",
       "stream": "stdout",
       "text": [
        "\n",
        "\t\t\tEpoch 3"
       ]
      },
      {
       "output_type": "stream",
       "stream": "stdout",
       "text": [
        "\n",
        "\t\t\tEpoch 4"
       ]
      },
      {
       "output_type": "stream",
       "stream": "stdout",
       "text": [
        "\n",
        "\t\t\tEpoch 5"
       ]
      },
      {
       "output_type": "stream",
       "stream": "stdout",
       "text": [
        "\n",
        "\t\t\tEpoch 6"
       ]
      },
      {
       "output_type": "stream",
       "stream": "stdout",
       "text": [
        "\n",
        "\t\t\tEpoch 7"
       ]
      },
      {
       "output_type": "stream",
       "stream": "stdout",
       "text": [
        "\n",
        "\t\t\tEpoch 8"
       ]
      },
      {
       "output_type": "stream",
       "stream": "stdout",
       "text": [
        "\n",
        "\t\t\tEpoch 9"
       ]
      },
      {
       "output_type": "stream",
       "stream": "stdout",
       "text": [
        "\n",
        "\t\t\tEpoch 10"
       ]
      },
      {
       "output_type": "stream",
       "stream": "stdout",
       "text": [
        "\n",
        "\t\t\tEpoch 11"
       ]
      },
      {
       "output_type": "stream",
       "stream": "stdout",
       "text": [
        "\n",
        "\t\t\tEpoch 12"
       ]
      },
      {
       "output_type": "stream",
       "stream": "stdout",
       "text": [
        "\n",
        "\t\t\tEpoch 13"
       ]
      },
      {
       "output_type": "stream",
       "stream": "stdout",
       "text": [
        "\n",
        "\t\t\tEpoch 14"
       ]
      },
      {
       "output_type": "stream",
       "stream": "stdout",
       "text": [
        "\n",
        "\t\t\tEpoch 15"
       ]
      },
      {
       "output_type": "stream",
       "stream": "stdout",
       "text": [
        "\n",
        "Experiment 2"
       ]
      },
      {
       "output_type": "stream",
       "stream": "stdout",
       "text": [
        "\n",
        "Inserting experiment 1...\n",
        "\tSlice 1"
       ]
      },
      {
       "output_type": "stream",
       "stream": "stdout",
       "text": [
        "\n",
        "\t\tCell 1"
       ]
      },
      {
       "output_type": "stream",
       "stream": "stdout",
       "text": [
        "\n",
        "\t\t\tEpoch 1"
       ]
      },
      {
       "output_type": "stream",
       "stream": "stdout",
       "text": [
        "\n",
        "\t\t\tEpoch 2"
       ]
      },
      {
       "output_type": "stream",
       "stream": "stdout",
       "text": [
        "\n",
        "\t\t\tEpoch 3"
       ]
      },
      {
       "output_type": "stream",
       "stream": "stdout",
       "text": [
        "\n",
        "\t\t\tEpoch 4"
       ]
      },
      {
       "output_type": "stream",
       "stream": "stdout",
       "text": [
        "\n",
        "\t\t\tEpoch 5"
       ]
      },
      {
       "output_type": "stream",
       "stream": "stdout",
       "text": [
        "\n",
        "\t\t\tEpoch 6"
       ]
      },
      {
       "output_type": "stream",
       "stream": "stdout",
       "text": [
        "\n",
        "\t\t\tEpoch 7"
       ]
      },
      {
       "output_type": "stream",
       "stream": "stdout",
       "text": [
        "\n",
        "\t\t\tEpoch 8"
       ]
      },
      {
       "output_type": "stream",
       "stream": "stdout",
       "text": [
        "\n",
        "\t\t\tEpoch 9"
       ]
      },
      {
       "output_type": "stream",
       "stream": "stdout",
       "text": [
        "\n",
        "\t\t\tEpoch 10"
       ]
      },
      {
       "output_type": "stream",
       "stream": "stdout",
       "text": [
        "\n",
        "\t\t\tEpoch 11"
       ]
      },
      {
       "output_type": "stream",
       "stream": "stdout",
       "text": [
        "\n",
        "\t\t\tEpoch 12"
       ]
      },
      {
       "output_type": "stream",
       "stream": "stdout",
       "text": [
        "\n",
        "\t\t\tEpoch 13"
       ]
      },
      {
       "output_type": "stream",
       "stream": "stdout",
       "text": [
        "\n",
        "\t\t\tEpoch 14"
       ]
      },
      {
       "output_type": "stream",
       "stream": "stdout",
       "text": [
        "\n",
        "\t\t\tEpoch 15"
       ]
      },
      {
       "output_type": "stream",
       "stream": "stdout",
       "text": [
        "\n",
        "\t\tCell 2"
       ]
      },
      {
       "output_type": "stream",
       "stream": "stdout",
       "text": [
        "\n",
        "\t\t\tEpoch 1"
       ]
      },
      {
       "output_type": "stream",
       "stream": "stdout",
       "text": [
        "\n",
        "\t\t\tEpoch 2"
       ]
      },
      {
       "output_type": "stream",
       "stream": "stdout",
       "text": [
        "\n",
        "\t\t\tEpoch 3"
       ]
      },
      {
       "output_type": "stream",
       "stream": "stdout",
       "text": [
        "\n",
        "\t\t\tEpoch 4"
       ]
      },
      {
       "output_type": "stream",
       "stream": "stdout",
       "text": [
        "\n",
        "\t\t\tEpoch 5"
       ]
      },
      {
       "output_type": "stream",
       "stream": "stdout",
       "text": [
        "\n",
        "\t\t\tEpoch 6"
       ]
      },
      {
       "output_type": "stream",
       "stream": "stdout",
       "text": [
        "\n",
        "\t\t\tEpoch 7"
       ]
      },
      {
       "output_type": "stream",
       "stream": "stdout",
       "text": [
        "\n",
        "\t\t\tEpoch 8"
       ]
      },
      {
       "output_type": "stream",
       "stream": "stdout",
       "text": [
        "\n",
        "\t\t\tEpoch 9"
       ]
      },
      {
       "output_type": "stream",
       "stream": "stdout",
       "text": [
        "\n",
        "\t\t\tEpoch 10"
       ]
      },
      {
       "output_type": "stream",
       "stream": "stdout",
       "text": [
        "\n",
        "\t\t\tEpoch 11"
       ]
      },
      {
       "output_type": "stream",
       "stream": "stdout",
       "text": [
        "\n",
        "\t\t\tEpoch 12"
       ]
      },
      {
       "output_type": "stream",
       "stream": "stdout",
       "text": [
        "\n",
        "\t\t\tEpoch 13"
       ]
      },
      {
       "output_type": "stream",
       "stream": "stdout",
       "text": [
        "\n",
        "\t\t\tEpoch 14"
       ]
      },
      {
       "output_type": "stream",
       "stream": "stdout",
       "text": [
        "\n",
        "\t\t\tEpoch 15"
       ]
      },
      {
       "output_type": "stream",
       "stream": "stdout",
       "text": [
        "\n",
        "\tSlice 2"
       ]
      },
      {
       "output_type": "stream",
       "stream": "stdout",
       "text": [
        "\n",
        "\t\tCell 1"
       ]
      },
      {
       "output_type": "stream",
       "stream": "stdout",
       "text": [
        "\n",
        "\t\t\tEpoch 1"
       ]
      },
      {
       "output_type": "stream",
       "stream": "stdout",
       "text": [
        "\n",
        "\t\t\tEpoch 2"
       ]
      },
      {
       "output_type": "stream",
       "stream": "stdout",
       "text": [
        "\n",
        "\t\t\tEpoch 3"
       ]
      },
      {
       "output_type": "stream",
       "stream": "stdout",
       "text": [
        "\n",
        "\t\t\tEpoch 4"
       ]
      },
      {
       "output_type": "stream",
       "stream": "stdout",
       "text": [
        "\n",
        "\t\t\tEpoch 5"
       ]
      },
      {
       "output_type": "stream",
       "stream": "stdout",
       "text": [
        "\n",
        "\t\t\tEpoch 6"
       ]
      },
      {
       "output_type": "stream",
       "stream": "stdout",
       "text": [
        "\n",
        "\t\t\tEpoch 7"
       ]
      },
      {
       "output_type": "stream",
       "stream": "stdout",
       "text": [
        "\n",
        "\t\t\tEpoch 8"
       ]
      },
      {
       "output_type": "stream",
       "stream": "stdout",
       "text": [
        "\n",
        "\t\t\tEpoch 9"
       ]
      },
      {
       "output_type": "stream",
       "stream": "stdout",
       "text": [
        "\n",
        "\t\t\tEpoch 10"
       ]
      },
      {
       "output_type": "stream",
       "stream": "stdout",
       "text": [
        "\n",
        "\t\t\tEpoch 11"
       ]
      },
      {
       "output_type": "stream",
       "stream": "stdout",
       "text": [
        "\n",
        "\t\t\tEpoch 12"
       ]
      },
      {
       "output_type": "stream",
       "stream": "stdout",
       "text": [
        "\n",
        "\t\t\tEpoch 13"
       ]
      },
      {
       "output_type": "stream",
       "stream": "stdout",
       "text": [
        "\n",
        "\t\t\tEpoch 14"
       ]
      },
      {
       "output_type": "stream",
       "stream": "stdout",
       "text": [
        "\n",
        "\t\t\tEpoch 15"
       ]
      },
      {
       "output_type": "stream",
       "stream": "stdout",
       "text": [
        "\n",
        "\t\tCell 2"
       ]
      },
      {
       "output_type": "stream",
       "stream": "stdout",
       "text": [
        "\n",
        "\t\t\tEpoch 1"
       ]
      },
      {
       "output_type": "stream",
       "stream": "stdout",
       "text": [
        "\n",
        "\t\t\tEpoch 2"
       ]
      },
      {
       "output_type": "stream",
       "stream": "stdout",
       "text": [
        "\n",
        "\t\t\tEpoch 3"
       ]
      },
      {
       "output_type": "stream",
       "stream": "stdout",
       "text": [
        "\n",
        "\t\t\tEpoch 4"
       ]
      },
      {
       "output_type": "stream",
       "stream": "stdout",
       "text": [
        "\n",
        "\t\t\tEpoch 5"
       ]
      },
      {
       "output_type": "stream",
       "stream": "stdout",
       "text": [
        "\n",
        "\t\t\tEpoch 6"
       ]
      },
      {
       "output_type": "stream",
       "stream": "stdout",
       "text": [
        "\n",
        "\t\t\tEpoch 7"
       ]
      },
      {
       "output_type": "stream",
       "stream": "stdout",
       "text": [
        "\n",
        "\t\t\tEpoch 8"
       ]
      },
      {
       "output_type": "stream",
       "stream": "stdout",
       "text": [
        "\n",
        "\t\t\tEpoch 9"
       ]
      },
      {
       "output_type": "stream",
       "stream": "stdout",
       "text": [
        "\n",
        "\t\t\tEpoch 10"
       ]
      },
      {
       "output_type": "stream",
       "stream": "stdout",
       "text": [
        "\n",
        "\t\t\tEpoch 11"
       ]
      },
      {
       "output_type": "stream",
       "stream": "stdout",
       "text": [
        "\n",
        "\t\t\tEpoch 12"
       ]
      },
      {
       "output_type": "stream",
       "stream": "stdout",
       "text": [
        "\n",
        "\t\t\tEpoch 13"
       ]
      },
      {
       "output_type": "stream",
       "stream": "stdout",
       "text": [
        "\n",
        "\t\t\tEpoch 14"
       ]
      },
      {
       "output_type": "stream",
       "stream": "stdout",
       "text": [
        "\n",
        "\t\t\tEpoch 15"
       ]
      },
      {
       "output_type": "stream",
       "stream": "stdout",
       "text": [
        "\n",
        "{"
       ]
      },
      {
       "output_type": "stream",
       "stream": "stdout",
       "text": [
        "u'expt0': u'ovation://3af245c4-596d-4a89-ab10-9933b4cc0fe0/',\n",
        " u'expt1': u'ovation://51e860bc-2aef-4741-ac9e-051e685d1075/',\n",
        " u'mouse0': u'ovation://0ed36ca3-911c-4fb0-a380-652b568e8c61/',\n",
        " u'mouse1': u'ovation://dc0c0e04-b4f0-4867-95de-a6569009ee67/',\n",
        " u'project': u'ovation://6ba0900d-7376-44e8-9eb8-6f3cc2cfc540/'}\n"
       ]
      }
     ],
     "prompt_number": 126
    },
    {
     "cell_type": "heading",
     "level": 2,
     "metadata": {},
     "source": [
      "Analysis"
     ]
    },
    {
     "cell_type": "markdown",
     "metadata": {},
     "source": [
      "We collect all of the traces for each cell, take the max of each response and then calculate per-cell mean peak response."
     ]
    },
    {
     "cell_type": "code",
     "collapsed": false,
     "input": [
      "import physiology_demo_analysis\n",
      "reload(physiology_demo_analysis)\n",
      "\n",
      "from physiology_demo_analysis import calculate_cell_means\n",
      "\n",
      "(cells, epochs) = calculate_cell_means(project)"
     ],
     "language": "python",
     "metadata": {},
     "outputs": [],
     "prompt_number": 127
    },
    {
     "cell_type": "markdown",
     "metadata": {},
     "source": [
      "Now, we calculate the mean response"
     ]
    },
    {
     "cell_type": "code",
     "collapsed": false,
     "input": [
      "df = pd.DataFrame(data=cells.values(), index=cells.keys())\n",
      "df"
     ],
     "language": "python",
     "metadata": {},
     "outputs": [
      {
       "html": [
        "<div style=\"max-height:1000px;max-width:1500px;overflow:auto;\">\n",
        "<table border=\"1\" class=\"dataframe\">\n",
        "  <thead>\n",
        "    <tr style=\"text-align: right;\">\n",
        "      <th></th>\n",
        "      <th>10 mV</th>\n",
        "      <th>15 mV</th>\n",
        "      <th>20 mV</th>\n",
        "      <th>25 mV</th>\n",
        "      <th>30 mV</th>\n",
        "    </tr>\n",
        "  </thead>\n",
        "  <tbody>\n",
        "    <tr>\n",
        "      <th>Cortical cell (cell1)  ovation://4bf71fc2-0fbd-4ebc-a6e1-529190b5737f/</th>\n",
        "      <td> 13.055330</td>\n",
        "      <td> 19.581077</td>\n",
        "      <td> 26.435129</td>\n",
        "      <td> 32.614827</td>\n",
        "      <td> 38.864325</td>\n",
        "    </tr>\n",
        "    <tr>\n",
        "      <th>Cortical cell (cell0)  ovation://a5f839f3-9b7b-46dd-8c66-6c71ce934507/</th>\n",
        "      <td> 12.701564</td>\n",
        "      <td> 19.968962</td>\n",
        "      <td> 26.526716</td>\n",
        "      <td> 32.404676</td>\n",
        "      <td> 39.135258</td>\n",
        "    </tr>\n",
        "    <tr>\n",
        "      <th>Cortical cell (cell0)  ovation://ae82efe8-c2ca-4b73-a412-c84e02476385/</th>\n",
        "      <td> 13.666945</td>\n",
        "      <td> 19.845101</td>\n",
        "      <td> 25.825799</td>\n",
        "      <td> 33.004704</td>\n",
        "      <td> 37.955411</td>\n",
        "    </tr>\n",
        "    <tr>\n",
        "      <th>Cortical cell (cell0)  ovation://e96d5023-6e88-4820-81cc-1e1bdc20292f/</th>\n",
        "      <td> 12.849463</td>\n",
        "      <td> 19.631373</td>\n",
        "      <td> 26.586061</td>\n",
        "      <td> 32.157068</td>\n",
        "      <td> 40.605914</td>\n",
        "    </tr>\n",
        "    <tr>\n",
        "      <th>Cortical cell (cell1)  ovation://ccdf7011-890d-474e-b64d-b1b77f309141/</th>\n",
        "      <td> 13.292163</td>\n",
        "      <td> 19.645307</td>\n",
        "      <td> 25.817897</td>\n",
        "      <td> 33.649583</td>\n",
        "      <td> 39.101958</td>\n",
        "    </tr>\n",
        "    <tr>\n",
        "      <th>Cortical cell (cell1)  ovation://478a5f8c-10bb-43cf-bcc6-5b39b93c6d95/</th>\n",
        "      <td> 13.134676</td>\n",
        "      <td> 20.170412</td>\n",
        "      <td> 25.219340</td>\n",
        "      <td> 32.537195</td>\n",
        "      <td> 39.052865</td>\n",
        "    </tr>\n",
        "    <tr>\n",
        "      <th>Cortical cell (cell1)  ovation://264f1b2e-736b-4ff2-9d52-970f2e325892/</th>\n",
        "      <td> 13.265963</td>\n",
        "      <td> 18.935553</td>\n",
        "      <td> 25.432090</td>\n",
        "      <td> 33.355508</td>\n",
        "      <td> 38.889378</td>\n",
        "    </tr>\n",
        "    <tr>\n",
        "      <th>Cortical cell (cell0)  ovation://aee95480-d583-429b-9ee5-1d759ce4888d/</th>\n",
        "      <td> 13.043605</td>\n",
        "      <td> 19.766277</td>\n",
        "      <td> 25.778603</td>\n",
        "      <td> 32.947909</td>\n",
        "      <td> 38.603511</td>\n",
        "    </tr>\n",
        "  </tbody>\n",
        "</table>\n",
        "</div>"
       ],
       "metadata": {},
       "output_type": "pyout",
       "prompt_number": 128,
       "text": [
        "                                                                            10 mV  \\\n",
        "Cortical cell (cell1)  ovation://4bf71fc2-0fbd-4ebc-a6e1-529190b5737f/  13.055330   \n",
        "Cortical cell (cell0)  ovation://a5f839f3-9b7b-46dd-8c66-6c71ce934507/  12.701564   \n",
        "Cortical cell (cell0)  ovation://ae82efe8-c2ca-4b73-a412-c84e02476385/  13.666945   \n",
        "Cortical cell (cell0)  ovation://e96d5023-6e88-4820-81cc-1e1bdc20292f/  12.849463   \n",
        "Cortical cell (cell1)  ovation://ccdf7011-890d-474e-b64d-b1b77f309141/  13.292163   \n",
        "Cortical cell (cell1)  ovation://478a5f8c-10bb-43cf-bcc6-5b39b93c6d95/  13.134676   \n",
        "Cortical cell (cell1)  ovation://264f1b2e-736b-4ff2-9d52-970f2e325892/  13.265963   \n",
        "Cortical cell (cell0)  ovation://aee95480-d583-429b-9ee5-1d759ce4888d/  13.043605   \n",
        "\n",
        "                                                                            15 mV  \\\n",
        "Cortical cell (cell1)  ovation://4bf71fc2-0fbd-4ebc-a6e1-529190b5737f/  19.581077   \n",
        "Cortical cell (cell0)  ovation://a5f839f3-9b7b-46dd-8c66-6c71ce934507/  19.968962   \n",
        "Cortical cell (cell0)  ovation://ae82efe8-c2ca-4b73-a412-c84e02476385/  19.845101   \n",
        "Cortical cell (cell0)  ovation://e96d5023-6e88-4820-81cc-1e1bdc20292f/  19.631373   \n",
        "Cortical cell (cell1)  ovation://ccdf7011-890d-474e-b64d-b1b77f309141/  19.645307   \n",
        "Cortical cell (cell1)  ovation://478a5f8c-10bb-43cf-bcc6-5b39b93c6d95/  20.170412   \n",
        "Cortical cell (cell1)  ovation://264f1b2e-736b-4ff2-9d52-970f2e325892/  18.935553   \n",
        "Cortical cell (cell0)  ovation://aee95480-d583-429b-9ee5-1d759ce4888d/  19.766277   \n",
        "\n",
        "                                                                            20 mV  \\\n",
        "Cortical cell (cell1)  ovation://4bf71fc2-0fbd-4ebc-a6e1-529190b5737f/  26.435129   \n",
        "Cortical cell (cell0)  ovation://a5f839f3-9b7b-46dd-8c66-6c71ce934507/  26.526716   \n",
        "Cortical cell (cell0)  ovation://ae82efe8-c2ca-4b73-a412-c84e02476385/  25.825799   \n",
        "Cortical cell (cell0)  ovation://e96d5023-6e88-4820-81cc-1e1bdc20292f/  26.586061   \n",
        "Cortical cell (cell1)  ovation://ccdf7011-890d-474e-b64d-b1b77f309141/  25.817897   \n",
        "Cortical cell (cell1)  ovation://478a5f8c-10bb-43cf-bcc6-5b39b93c6d95/  25.219340   \n",
        "Cortical cell (cell1)  ovation://264f1b2e-736b-4ff2-9d52-970f2e325892/  25.432090   \n",
        "Cortical cell (cell0)  ovation://aee95480-d583-429b-9ee5-1d759ce4888d/  25.778603   \n",
        "\n",
        "                                                                            25 mV  \\\n",
        "Cortical cell (cell1)  ovation://4bf71fc2-0fbd-4ebc-a6e1-529190b5737f/  32.614827   \n",
        "Cortical cell (cell0)  ovation://a5f839f3-9b7b-46dd-8c66-6c71ce934507/  32.404676   \n",
        "Cortical cell (cell0)  ovation://ae82efe8-c2ca-4b73-a412-c84e02476385/  33.004704   \n",
        "Cortical cell (cell0)  ovation://e96d5023-6e88-4820-81cc-1e1bdc20292f/  32.157068   \n",
        "Cortical cell (cell1)  ovation://ccdf7011-890d-474e-b64d-b1b77f309141/  33.649583   \n",
        "Cortical cell (cell1)  ovation://478a5f8c-10bb-43cf-bcc6-5b39b93c6d95/  32.537195   \n",
        "Cortical cell (cell1)  ovation://264f1b2e-736b-4ff2-9d52-970f2e325892/  33.355508   \n",
        "Cortical cell (cell0)  ovation://aee95480-d583-429b-9ee5-1d759ce4888d/  32.947909   \n",
        "\n",
        "                                                                            30 mV  \n",
        "Cortical cell (cell1)  ovation://4bf71fc2-0fbd-4ebc-a6e1-529190b5737f/  38.864325  \n",
        "Cortical cell (cell0)  ovation://a5f839f3-9b7b-46dd-8c66-6c71ce934507/  39.135258  \n",
        "Cortical cell (cell0)  ovation://ae82efe8-c2ca-4b73-a412-c84e02476385/  37.955411  \n",
        "Cortical cell (cell0)  ovation://e96d5023-6e88-4820-81cc-1e1bdc20292f/  40.605914  \n",
        "Cortical cell (cell1)  ovation://ccdf7011-890d-474e-b64d-b1b77f309141/  39.101958  \n",
        "Cortical cell (cell1)  ovation://478a5f8c-10bb-43cf-bcc6-5b39b93c6d95/  39.052865  \n",
        "Cortical cell (cell1)  ovation://264f1b2e-736b-4ff2-9d52-970f2e325892/  38.889378  \n",
        "Cortical cell (cell0)  ovation://aee95480-d583-429b-9ee5-1d759ce4888d/  38.603511  "
       ]
      }
     ],
     "prompt_number": 128
    },
    {
     "cell_type": "code",
     "collapsed": false,
     "input": [
      "fig = df.T.plot(legend=False)"
     ],
     "language": "python",
     "metadata": {},
     "outputs": [
      {
       "metadata": {},
       "output_type": "display_data",
       "png": "[encoded data removed]",
       "text": [
        "<matplotlib.figure.Figure at 0x1040c17d0>"
       ]
      }
     ],
     "prompt_number": 135
    },
    {
     "cell_type": "code",
     "collapsed": false,
     "input": [
      "\n",
      "fig.set_xlabel('Voltage step')\n",
      "fig.set_ylabel('Membrance current (pA)')\n",
      "figure_file_name = os.path.join(tempfile.tempdir, 'Peak current.tiff')\n",
      "fig.figure.savefig(figure_file_name)"
     ],
     "language": "python",
     "metadata": {},
     "outputs": [],
     "prompt_number": 159
    },
    {
     "cell_type": "markdown",
     "metadata": {},
     "source": [
      "Write the result to a CSV file so that we can add it as an output"
     ]
    },
    {
     "cell_type": "code",
     "collapsed": false,
     "input": [
      "(fd,name) = tempfile.mkstemp(suffix='-per-cell-mean-peak-response.csv')\n",
      "df.to_csv(name)"
     ],
     "language": "python",
     "metadata": {},
     "outputs": [],
     "prompt_number": 141
    },
    {
     "cell_type": "code",
     "collapsed": false,
     "input": [
      "parameters = {}\n",
      "\n",
      "inputs = { 'epoch-{0}'.format(i) : e.getMeasurement('Membrane current') for (i,e) in enumerate(epochs) if len(list(iterable(e.getMeasurements()))) > 0}\n",
      "analysis = asclass('Project', project).addAnalysisRecord(\"Per-cell mean peak response\",\n",
      "                                     to_map(inputs),\n",
      "                                     analysis_protocol,\n",
      "                                     to_map(parameters))\n",
      "\n",
      "analysis.addOutput('result', URL('file://{0}'.format(name)), 'text/csv')\n",
      "analysis.addOutput('figure', URL('file://{0}'.format(figure_file_name)), 'image/tiff')\n",
      "                                     "
     ],
     "language": "python",
     "metadata": {},
     "outputs": [
      {
       "metadata": {},
       "output_type": "pyout",
       "prompt_number": 160,
       "text": [
        "<us.physion.ovation.domain.mixin.DataElement at 0x10ea5a530 jclass=us/physion/ovation/domain/mixin/DataElement jself=<LocalRef obj=0x110cd0170 at 0x111c71410>>"
       ]
      }
     ],
     "prompt_number": 160
    },
    {
     "cell_type": "code",
     "collapsed": false,
     "input": [],
     "language": "python",
     "metadata": {},
     "outputs": []
    }
   ],
   "metadata": {}
  }
 ]
}