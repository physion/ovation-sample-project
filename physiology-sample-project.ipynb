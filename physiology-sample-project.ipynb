{
 "metadata": {
  "name": ""
 },
 "nbformat": 3,
 "nbformat_minor": 0,
 "worksheets": [
  {
   "cells": [
    {
     "cell_type": "heading",
     "level": 1,
     "metadata": {},
     "source": [
      "Demo project construction"
     ]
    },
    {
     "cell_type": "heading",
     "level": 2,
     "metadata": {},
     "source": [
      "Imports"
     ]
    },
    {
     "cell_type": "code",
     "collapsed": false,
     "input": [
      "from ovation.connection import connect\n",
      "from ovation.conversion import to_map, to_dict, asclass, iterable, to_java_set\n",
      "from ovation.data import insert_numeric_analysis_artifact, insert_numeric_measurement, as_data_frame\n",
      "from ovation import DateTime, DateTimeZone, Optional, Sets, Maps, Integer, URL\n",
      "import quantities as pq\n",
      "import scipy as sp\n",
      "import pandas as pd\n",
      "import matplotlib.pyplot as plt\n",
      "import logging\n",
      "import getpass\n",
      "from pprint import pprint"
     ],
     "language": "python",
     "metadata": {},
     "outputs": [],
     "prompt_number": 61
    },
    {
     "cell_type": "heading",
     "level": 2,
     "metadata": {},
     "source": [
      "Equipment setup"
     ]
    },
    {
     "cell_type": "code",
     "collapsed": false,
     "input": [
      "equipment = { 'Amplifier_1.model' : 'Multiclamp 700B',\n",
      "             'Amplifier_1.Headstage_1.Channel_1.name' : 'Channel 1',\n",
      "             'Microscope.CCD.manufacturer' : 'Spot' #TODO\n",
      "             }"
     ],
     "language": "python",
     "metadata": {},
     "outputs": [],
     "prompt_number": 2
    },
    {
     "cell_type": "heading",
     "level": 2,
     "metadata": {},
     "source": [
      "Protocols"
     ]
    },
    {
     "cell_type": "code",
     "collapsed": false,
     "input": [
      "cortical_slice_protocol_document = u'''\n",
      "This protocol describes the procedure for making cortical slices from an animal. \n",
      "\n",
      "We might use this ACSF recipie from Cold Spring Harbor (http://cshprotocols.cshlp.org/content/2011/9/pdb.rec065730.full?text_only=true)\n",
      "\n",
      "119 mM NaCl\n",
      "\n",
      "26.2 mM NaHCO3\n",
      "\n",
      "2.5 mM KCl\n",
      "\n",
      "1 mM NaH2PO4\n",
      "\n",
      "1.3 mM MgCl2\n",
      "\n",
      "10 mM glucose\n",
      "\n",
      "Gas with 5% CO2/95% O2 for 10\u201315 min, then add 2.5-mM CaCl2. Filter sterilize with a 0.22-\u00b5m filter apparatus, and store at 4\u00b0C. ACSF is stable for 3\u20134 wk. If overt contamination (solution becomes cloudy) or precipitation is apparent, discard, and make fresh ACSF.\n",
      "\n",
      "Variables such as {ACSF_BATCH_DATE}, the date when the ACSF batch was made  are denoted using {VARIABLE}.\n",
      "'''"
     ],
     "language": "python",
     "metadata": {},
     "outputs": [],
     "prompt_number": 3
    },
    {
     "cell_type": "code",
     "collapsed": false,
     "input": [
      "cell_selection_protocol_document = u'''\n",
      "This protocol describes how cells were chosen within a slice for recording.\n",
      "'''"
     ],
     "language": "python",
     "metadata": {},
     "outputs": [],
     "prompt_number": 4
    },
    {
     "cell_type": "code",
     "collapsed": false,
     "input": [
      "recording_protocol_1_document = u'''\n",
      "TODO\n",
      "'''"
     ],
     "language": "python",
     "metadata": {},
     "outputs": [],
     "prompt_number": 5
    },
    {
     "cell_type": "code",
     "collapsed": false,
     "input": [
      "recording_protocol_2_document = u'''\n",
      "TODO\n",
      "'''"
     ],
     "language": "python",
     "metadata": {},
     "outputs": [],
     "prompt_number": 6
    },
    {
     "cell_type": "heading",
     "level": 2,
     "metadata": {},
     "source": [
      "Analysis protocols"
     ]
    },
    {
     "cell_type": "code",
     "collapsed": false,
     "input": [
      "analysis_protocol = ctx.getProtocol('Per-cell mean peak response')\n",
      "if analysis_protocol is None:\n",
      "    analysis_protocol = ctx.insertProtocol('Per-cell mean peak response',\n",
      "                                           'Calculate per-cell mean peak response across the project',\n",
      "                                           'physiology_demo_analysis.calculate_cell_means',\n",
      "                                           'https://github.com/physion/ovation-sample-project',\n",
      "                                           'aa49d0cbff5c30a55f8a7e6963b36642e6483fe6' #TODO\n",
      "                                           )"
     ],
     "language": "python",
     "metadata": {},
     "outputs": [],
     "prompt_number": 35
    },
    {
     "cell_type": "heading",
     "level": 2,
     "metadata": {},
     "source": [
      "Connection"
     ]
    },
    {
     "cell_type": "code",
     "collapsed": false,
     "input": [
      "from ovation.api import Ovation\n",
      "Ovation.getVersion()"
     ],
     "language": "python",
     "metadata": {},
     "outputs": [
      {
       "metadata": {},
       "output_type": "pyout",
       "prompt_number": 8,
       "text": [
        "'2.0.0'"
       ]
      }
     ],
     "prompt_number": 8
    },
    {
     "cell_type": "code",
     "collapsed": false,
     "input": [
      "email = raw_input('Email: ')\n",
      "print('Enter password at the console...')\n",
      "dsc = connect(email, getpass.getpass(prompt='Ovation password: '))\n",
      "ctx = dsc.getContext()"
     ],
     "language": "python",
     "metadata": {},
     "outputs": [
      {
       "name": "stdout",
       "output_type": "stream",
       "stream": "stdout",
       "text": [
        "Email: barry@physion.us\n"
       ]
      },
      {
       "output_type": "stream",
       "stream": "stdout",
       "text": [
        "Enter password at the console...\n"
       ]
      }
     ],
     "prompt_number": 11
    },
    {
     "cell_type": "heading",
     "level": 3,
     "metadata": {},
     "source": [
      "Structural entities"
     ]
    },
    {
     "cell_type": "markdown",
     "metadata": {},
     "source": [
      "We keep the Ids of relevant entities"
     ]
    },
    {
     "cell_type": "code",
     "collapsed": false,
     "input": [
      "import json\n",
      "ENTITY_IDS = 'entities.json'\n",
      "\n",
      "try:\n",
      "    with open(ENTITY_IDS, 'r') as f:\n",
      "        existingIds = json.load(f)\n",
      "except IOError:\n",
      "    existingIds = {}\n",
      "    with open(ENTITY_IDS, 'w') as f:\n",
      "        json.dump(existingIds, f)\n"
     ],
     "language": "python",
     "metadata": {},
     "outputs": [],
     "prompt_number": 12
    },
    {
     "cell_type": "markdown",
     "metadata": {},
     "source": [
      "We first find (or create) the ``Protocol`` instances"
     ]
    },
    {
     "cell_type": "code",
     "collapsed": false,
     "input": [
      "def get_protocol(name, document):\n",
      "    protocol = ctx.getProtocol(name)\n",
      "    if protocol is None:\n",
      "        print('Inserting protocol ' + name + '...')\n",
      "        protocol = ctx.insertProtocol(name, document)\n",
      "    return protocol\n",
      "\n",
      "cortical_slice_protocol = get_protocol('Cortical Slice', cortical_slice_protocol_document)\n",
      "cell_selection_protocol = get_protocol('Cortical Cell Selection', cell_selection_protocol_document)\n",
      "recording_protocol_1 = get_protocol('Recording Protocol 1', recording_protocol_1_document)\n",
      "recording_protocol_2 = get_protocol('Recording Protocol 2', recording_protocol_2_document)"
     ],
     "language": "python",
     "metadata": {},
     "outputs": [],
     "prompt_number": 13
    },
    {
     "cell_type": "markdown",
     "metadata": {},
     "source": [
      "Now we're ready to create the ``Project`` and two ``Experiments``. Each ``Experiment`` will corespond to recordings (and imaging) made from one ``Source``"
     ]
    },
    {
     "cell_type": "code",
     "collapsed": false,
     "input": [
      "timezone = DateTimeZone.forID('America/Los_Angeles')"
     ],
     "language": "python",
     "metadata": {},
     "outputs": [],
     "prompt_number": 14
    },
    {
     "cell_type": "code",
     "collapsed": false,
     "input": [
      "projectId = existingIds.get('project')\n",
      "try:\n",
      "    project = asclass('Project', ctx.getObjectWithURI(projectId))\n",
      "except:\n",
      "    print('Inserting project...')\n",
      "    project = ctx.insertProject('Ovation sample physiology project',\n",
      "                                '''The purpose of this project is to demonstrate the core features of the Ovation platform\n",
      "                                in a made-up physiology experiment''',\n",
      "                                DateTime(2013, 11, 25, 13, 19, 0, 0, timezone))\n",
      "    print(project.getURI().toString())\n",
      "    existingIds['project'] = project.getURI().toString()"
     ],
     "language": "python",
     "metadata": {},
     "outputs": [],
     "prompt_number": 20
    },
    {
     "cell_type": "code",
     "collapsed": false,
     "input": [
      "# Two experiments, with two slices each from a single animal, each with two cells\n",
      "\n",
      "experiments = []\n",
      "for exp_idx in range(0,2):\n",
      "    print('Experiment {0}'.format(exp_idx + 1))\n",
      "    \n",
      "    exp_name = 'expt' + str(exp_idx)\n",
      "    experimentId = existingIds.get(exp_name)\n",
      "    try:\n",
      "        expt = ctx.getObjectWithURI(experiment1Id)\n",
      "    except:\n",
      "        print('Inserting experiment ' + str(exp_idx) + '...')\n",
      "        expt = project.insertExperiment(\"Making knowledge about some cells' physiology\", #TODO\n",
      "                                         DateTime(2013, 12, 2 + exp_idx, 7, 0, 0, 0, timezone))\n",
      "        expt.setEquipmentSetupFromMap(to_map(equipment))\n",
      "        existingIds[exp_name] = expt.getURI().toString()\n",
      "        \n",
      "    \n",
      "    experiments += [expt]\n",
      "    \n",
      "    # One mouse per experiment\n",
      "    mouse_name = 'mouse' + str(exp_idx)\n",
      "    try:\n",
      "        mouse = asclass('Source', ctx.getObjectWithURI(existingIds.get(mouse_name)))\n",
      "    except:\n",
      "        mouse = ctx.insertSource('C57/BL6', 'animal-id-' + str(exp_idx))\n",
      "        mouse.addProperty('DOB', 'November 1, 2013')\n",
      "        mouse.addProperty('sex', 'male' if exp_idx % 2 == 0  else 'female')\n",
      "        \n",
      "        existingIds[mouse_name] = mouse.getURI().toString()\n",
      "        \n",
      "    \n",
      "    # Two slices made from the mouse\n",
      "    for slice_idx in range(2):\n",
      "        print('\\tSlice {0}'.format(slice_idx+1))\n",
      "        \n",
      "        slice_name = 'slice{0}_{1}'.format(slice_idx, exp_idx)\n",
      "        cortical_slice = mouse.insertSource(expt,\n",
      "                               DateTime(2013, 11, 30, 8, 10, 0, 0, timezone),\n",
      "                               DateTime(2013, 11, 30, 8, 25, 0, 0, timezone),\n",
      "                               cortical_slice_protocol,\n",
      "                               to_map({}),\n",
      "                               Optional.absent(),\n",
      "                               'cortical slice',\n",
      "                               slice_name)\n",
      "        \n",
      "        # Two cells from each slice\n",
      "        for cell_idx in range(2):\n",
      "            print('\\t\\tCell {0}'.format(cell_idx+1))\n",
      "            \n",
      "            cell_name = 'cell{0}'.format(cell_idx)\n",
      "            recording_start = DateTime(2013, 11, 30, 8, cell_idx*10+5, 0, 0, timezone)\n",
      "            cell = cortical_slice.insertSource(expt,\n",
      "                               DateTime(2013, 11, 30, 9, cell_idx*10, 0, 0, timezone),\n",
      "                               recording_start,\n",
      "                               cell_selection_protocol,\n",
      "                               to_map({}),\n",
      "                               Optional.absent(),\n",
      "                               'cortical cell',\n",
      "                               cell_name)\n",
      "            \n",
      "            for i in range(15):\n",
      "                print('\\t\\t\\tEpoch {0}'.format(i+1))\n",
      "                step_start = 5\n",
      "                step_increment = 5\n",
      "                \n",
      "                step = i % 5\n",
      "                protocol_parameters = {'step' : step,\n",
      "                                       'starting_step_amplitude_mV' : step_start,\n",
      "                                       'step_increment_mV' : step_increment,\n",
      "                                       'step_amplitude_mV' : (step+1) * step_increment + step_start}\n",
      "            \n",
      "                device_parameters = {'Amplifier_1.Headstage_1.Channel_1.mode' : 'V-clamp',\n",
      "                                     'Amplifier_1.Headstage_1.Channel_1.gain' : '10' }\n",
      "                \n",
      "                epoch = expt.insertEpoch(to_map({'cell' : cell}),\n",
      "                                          None,\n",
      "                                          recording_start.plusSeconds(i-1 * 3),\n",
      "                                          recording_start.plusSeconds((i-1 * 3) + 1),\n",
      "                                          recording_protocol_1,\n",
      "                                          to_map(protocol_parameters),\n",
      "                                          to_map(device_parameters))\n",
      "                \n",
      "                \n",
      "                step_amplitude = (step+1) * step_increment + step_start\n",
      "                data = sp.hstack((sp.zeros(500), sp.ones(500) * step_amplitude, sp.zeros(500))) * pq.mV\n",
      "                noise = sp.randn(*data.shape) * step_amplitude/10 * pq.mV #10% noise\n",
      "                data = data + noise\n",
      "                data.sampling_rates = [1000 * pq.Hz]\n",
      "                data.labels = ['membrance current']\n",
      "                insert_numeric_measurement(epoch, \n",
      "                                           set(['cell']), \n",
      "                                           set(['Amplifier_1']),\n",
      "                                           'Membrane current',\n",
      "                                           {'current' : data})\n",
      "                epoch.addTag('demo')\n",
      "\n",
      "with open(ENTITY_IDS, 'w') as f:\n",
      "    json.dump(existingIds, f)\n",
      "    \n",
      "with open(ENTITY_IDS, 'r') as f:\n",
      "    pprint(json.load(f))"
     ],
     "language": "python",
     "metadata": {},
     "outputs": [
      {
       "output_type": "stream",
       "stream": "stdout",
       "text": [
        "Experiment 1\n",
        "Inserting experiment 0...\n",
        "\tSlice 1"
       ]
      },
      {
       "output_type": "stream",
       "stream": "stdout",
       "text": [
        "\n",
        "\t\tCell 1"
       ]
      },
      {
       "output_type": "stream",
       "stream": "stdout",
       "text": [
        "\n",
        "\t\t\tEpoch 1"
       ]
      },
      {
       "output_type": "stream",
       "stream": "stdout",
       "text": [
        "\n",
        "\t\t\tEpoch 2"
       ]
      },
      {
       "output_type": "stream",
       "stream": "stdout",
       "text": [
        "\n",
        "\t\t\tEpoch 3"
       ]
      },
      {
       "output_type": "stream",
       "stream": "stdout",
       "text": [
        "\n",
        "\t\t\tEpoch 4"
       ]
      },
      {
       "output_type": "stream",
       "stream": "stdout",
       "text": [
        "\n",
        "\t\t\tEpoch 5"
       ]
      },
      {
       "output_type": "stream",
       "stream": "stdout",
       "text": [
        "\n",
        "\t\t\tEpoch 6"
       ]
      },
      {
       "output_type": "stream",
       "stream": "stdout",
       "text": [
        "\n",
        "\t\t\tEpoch 7"
       ]
      },
      {
       "output_type": "stream",
       "stream": "stdout",
       "text": [
        "\n",
        "\t\t\tEpoch 8"
       ]
      },
      {
       "output_type": "stream",
       "stream": "stdout",
       "text": [
        "\n",
        "\t\t\tEpoch 9"
       ]
      },
      {
       "output_type": "stream",
       "stream": "stdout",
       "text": [
        "\n",
        "\t\t\tEpoch 10"
       ]
      },
      {
       "output_type": "stream",
       "stream": "stdout",
       "text": [
        "\n",
        "\t\t\tEpoch 11"
       ]
      },
      {
       "output_type": "stream",
       "stream": "stdout",
       "text": [
        "\n",
        "\t\t\tEpoch 12"
       ]
      },
      {
       "output_type": "stream",
       "stream": "stdout",
       "text": [
        "\n",
        "\t\t\tEpoch 13"
       ]
      },
      {
       "output_type": "stream",
       "stream": "stdout",
       "text": [
        "\n",
        "\t\t\tEpoch 14"
       ]
      },
      {
       "output_type": "stream",
       "stream": "stdout",
       "text": [
        "\n",
        "\t\t\tEpoch 15"
       ]
      },
      {
       "output_type": "stream",
       "stream": "stdout",
       "text": [
        "\n",
        "\t\tCell 2"
       ]
      },
      {
       "output_type": "stream",
       "stream": "stdout",
       "text": [
        "\n",
        "\t\t\tEpoch 1"
       ]
      },
      {
       "output_type": "stream",
       "stream": "stdout",
       "text": [
        "\n",
        "\t\t\tEpoch 2"
       ]
      },
      {
       "output_type": "stream",
       "stream": "stdout",
       "text": [
        "\n",
        "\t\t\tEpoch 3"
       ]
      },
      {
       "output_type": "stream",
       "stream": "stdout",
       "text": [
        "\n",
        "\t\t\tEpoch 4"
       ]
      },
      {
       "output_type": "stream",
       "stream": "stdout",
       "text": [
        "\n",
        "\t\t\tEpoch 5"
       ]
      },
      {
       "output_type": "stream",
       "stream": "stdout",
       "text": [
        "\n",
        "\t\t\tEpoch 6"
       ]
      },
      {
       "output_type": "stream",
       "stream": "stdout",
       "text": [
        "\n",
        "\t\t\tEpoch 7"
       ]
      },
      {
       "output_type": "stream",
       "stream": "stdout",
       "text": [
        "\n",
        "\t\t\tEpoch 8"
       ]
      },
      {
       "output_type": "stream",
       "stream": "stdout",
       "text": [
        "\n",
        "\t\t\tEpoch 9"
       ]
      },
      {
       "output_type": "stream",
       "stream": "stdout",
       "text": [
        "\n",
        "\t\t\tEpoch 10"
       ]
      },
      {
       "output_type": "stream",
       "stream": "stdout",
       "text": [
        "\n",
        "\t\t\tEpoch 11"
       ]
      },
      {
       "output_type": "stream",
       "stream": "stdout",
       "text": [
        "\n",
        "\t\t\tEpoch 12"
       ]
      },
      {
       "output_type": "stream",
       "stream": "stdout",
       "text": [
        "\n",
        "\t\t\tEpoch 13"
       ]
      },
      {
       "output_type": "stream",
       "stream": "stdout",
       "text": [
        "\n",
        "\t\t\tEpoch 14"
       ]
      },
      {
       "output_type": "stream",
       "stream": "stdout",
       "text": [
        "\n",
        "\t\t\tEpoch 15"
       ]
      },
      {
       "output_type": "stream",
       "stream": "stdout",
       "text": [
        "\n",
        "\tSlice 2"
       ]
      },
      {
       "output_type": "stream",
       "stream": "stdout",
       "text": [
        "\n",
        "\t\tCell 1"
       ]
      },
      {
       "output_type": "stream",
       "stream": "stdout",
       "text": [
        "\n",
        "\t\t\tEpoch 1"
       ]
      },
      {
       "output_type": "stream",
       "stream": "stdout",
       "text": [
        "\n",
        "\t\t\tEpoch 2"
       ]
      },
      {
       "output_type": "stream",
       "stream": "stdout",
       "text": [
        "\n",
        "\t\t\tEpoch 3"
       ]
      },
      {
       "output_type": "stream",
       "stream": "stdout",
       "text": [
        "\n",
        "\t\t\tEpoch 4"
       ]
      },
      {
       "output_type": "stream",
       "stream": "stdout",
       "text": [
        "\n",
        "\t\t\tEpoch 5"
       ]
      },
      {
       "output_type": "stream",
       "stream": "stdout",
       "text": [
        "\n",
        "\t\t\tEpoch 6"
       ]
      },
      {
       "output_type": "stream",
       "stream": "stdout",
       "text": [
        "\n",
        "\t\t\tEpoch 7"
       ]
      },
      {
       "output_type": "stream",
       "stream": "stdout",
       "text": [
        "\n",
        "\t\t\tEpoch 8"
       ]
      },
      {
       "output_type": "stream",
       "stream": "stdout",
       "text": [
        "\n",
        "\t\t\tEpoch 9"
       ]
      },
      {
       "output_type": "stream",
       "stream": "stdout",
       "text": [
        "\n",
        "\t\t\tEpoch 10"
       ]
      },
      {
       "output_type": "stream",
       "stream": "stdout",
       "text": [
        "\n",
        "\t\t\tEpoch 11"
       ]
      },
      {
       "output_type": "stream",
       "stream": "stdout",
       "text": [
        "\n",
        "\t\t\tEpoch 12"
       ]
      },
      {
       "output_type": "stream",
       "stream": "stdout",
       "text": [
        "\n",
        "\t\t\tEpoch 13"
       ]
      },
      {
       "output_type": "stream",
       "stream": "stdout",
       "text": [
        "\n",
        "\t\t\tEpoch 14"
       ]
      },
      {
       "output_type": "stream",
       "stream": "stdout",
       "text": [
        "\n",
        "\t\t\tEpoch 15"
       ]
      },
      {
       "output_type": "stream",
       "stream": "stdout",
       "text": [
        "\n",
        "\t\tCell 2"
       ]
      },
      {
       "output_type": "stream",
       "stream": "stdout",
       "text": [
        "\n",
        "\t\t\tEpoch 1"
       ]
      },
      {
       "output_type": "stream",
       "stream": "stdout",
       "text": [
        "\n",
        "\t\t\tEpoch 2"
       ]
      },
      {
       "output_type": "stream",
       "stream": "stdout",
       "text": [
        "\n",
        "\t\t\tEpoch 3"
       ]
      },
      {
       "output_type": "stream",
       "stream": "stdout",
       "text": [
        "\n",
        "\t\t\tEpoch 4"
       ]
      },
      {
       "output_type": "stream",
       "stream": "stdout",
       "text": [
        "\n",
        "\t\t\tEpoch 5"
       ]
      },
      {
       "output_type": "stream",
       "stream": "stdout",
       "text": [
        "\n",
        "\t\t\tEpoch 6"
       ]
      },
      {
       "output_type": "stream",
       "stream": "stdout",
       "text": [
        "\n",
        "\t\t\tEpoch 7"
       ]
      },
      {
       "output_type": "stream",
       "stream": "stdout",
       "text": [
        "\n",
        "\t\t\tEpoch 8"
       ]
      },
      {
       "output_type": "stream",
       "stream": "stdout",
       "text": [
        "\n",
        "\t\t\tEpoch 9"
       ]
      },
      {
       "output_type": "stream",
       "stream": "stdout",
       "text": [
        "\n",
        "\t\t\tEpoch 10"
       ]
      },
      {
       "output_type": "stream",
       "stream": "stdout",
       "text": [
        "\n",
        "\t\t\tEpoch 11"
       ]
      },
      {
       "output_type": "stream",
       "stream": "stdout",
       "text": [
        "\n",
        "\t\t\tEpoch 12"
       ]
      },
      {
       "output_type": "stream",
       "stream": "stdout",
       "text": [
        "\n",
        "\t\t\tEpoch 13"
       ]
      },
      {
       "output_type": "stream",
       "stream": "stdout",
       "text": [
        "\n",
        "\t\t\tEpoch 14"
       ]
      },
      {
       "output_type": "stream",
       "stream": "stdout",
       "text": [
        "\n",
        "\t\t\tEpoch 15"
       ]
      },
      {
       "output_type": "stream",
       "stream": "stdout",
       "text": [
        "\n",
        "Experiment 2"
       ]
      },
      {
       "output_type": "stream",
       "stream": "stdout",
       "text": [
        "\n",
        "Inserting experiment 1...\n",
        "\tSlice 1"
       ]
      },
      {
       "output_type": "stream",
       "stream": "stdout",
       "text": [
        "\n",
        "\t\tCell 1"
       ]
      },
      {
       "output_type": "stream",
       "stream": "stdout",
       "text": [
        "\n",
        "\t\t\tEpoch 1"
       ]
      },
      {
       "output_type": "stream",
       "stream": "stdout",
       "text": [
        "\n",
        "\t\t\tEpoch 2"
       ]
      },
      {
       "output_type": "stream",
       "stream": "stdout",
       "text": [
        "\n",
        "\t\t\tEpoch 3"
       ]
      },
      {
       "output_type": "stream",
       "stream": "stdout",
       "text": [
        "\n",
        "\t\t\tEpoch 4"
       ]
      },
      {
       "output_type": "stream",
       "stream": "stdout",
       "text": [
        "\n",
        "\t\t\tEpoch 5"
       ]
      },
      {
       "output_type": "stream",
       "stream": "stdout",
       "text": [
        "\n",
        "\t\t\tEpoch 6"
       ]
      },
      {
       "output_type": "stream",
       "stream": "stdout",
       "text": [
        "\n",
        "\t\t\tEpoch 7"
       ]
      },
      {
       "output_type": "stream",
       "stream": "stdout",
       "text": [
        "\n",
        "\t\t\tEpoch 8"
       ]
      },
      {
       "output_type": "stream",
       "stream": "stdout",
       "text": [
        "\n",
        "\t\t\tEpoch 9"
       ]
      },
      {
       "output_type": "stream",
       "stream": "stdout",
       "text": [
        "\n",
        "\t\t\tEpoch 10"
       ]
      },
      {
       "output_type": "stream",
       "stream": "stdout",
       "text": [
        "\n",
        "\t\t\tEpoch 11"
       ]
      },
      {
       "output_type": "stream",
       "stream": "stdout",
       "text": [
        "\n",
        "\t\t\tEpoch 12"
       ]
      },
      {
       "output_type": "stream",
       "stream": "stdout",
       "text": [
        "\n",
        "\t\t\tEpoch 13"
       ]
      },
      {
       "output_type": "stream",
       "stream": "stdout",
       "text": [
        "\n",
        "\t\t\tEpoch 14"
       ]
      },
      {
       "output_type": "stream",
       "stream": "stdout",
       "text": [
        "\n",
        "\t\t\tEpoch 15"
       ]
      },
      {
       "output_type": "stream",
       "stream": "stdout",
       "text": [
        "\n",
        "\t\tCell 2"
       ]
      },
      {
       "output_type": "stream",
       "stream": "stdout",
       "text": [
        "\n",
        "\t\t\tEpoch 1"
       ]
      },
      {
       "output_type": "stream",
       "stream": "stdout",
       "text": [
        "\n",
        "\t\t\tEpoch 2"
       ]
      },
      {
       "output_type": "stream",
       "stream": "stdout",
       "text": [
        "\n",
        "\t\t\tEpoch 3"
       ]
      },
      {
       "output_type": "stream",
       "stream": "stdout",
       "text": [
        "\n",
        "\t\t\tEpoch 4"
       ]
      },
      {
       "output_type": "stream",
       "stream": "stdout",
       "text": [
        "\n",
        "\t\t\tEpoch 5"
       ]
      },
      {
       "output_type": "stream",
       "stream": "stdout",
       "text": [
        "\n",
        "\t\t\tEpoch 6"
       ]
      },
      {
       "output_type": "stream",
       "stream": "stdout",
       "text": [
        "\n",
        "\t\t\tEpoch 7"
       ]
      },
      {
       "output_type": "stream",
       "stream": "stdout",
       "text": [
        "\n",
        "\t\t\tEpoch 8"
       ]
      },
      {
       "output_type": "stream",
       "stream": "stdout",
       "text": [
        "\n",
        "\t\t\tEpoch 9"
       ]
      },
      {
       "output_type": "stream",
       "stream": "stdout",
       "text": [
        "\n",
        "\t\t\tEpoch 10"
       ]
      },
      {
       "output_type": "stream",
       "stream": "stdout",
       "text": [
        "\n",
        "\t\t\tEpoch 11"
       ]
      },
      {
       "output_type": "stream",
       "stream": "stdout",
       "text": [
        "\n",
        "\t\t\tEpoch 12"
       ]
      },
      {
       "output_type": "stream",
       "stream": "stdout",
       "text": [
        "\n",
        "\t\t\tEpoch 13"
       ]
      },
      {
       "output_type": "stream",
       "stream": "stdout",
       "text": [
        "\n",
        "\t\t\tEpoch 14"
       ]
      },
      {
       "output_type": "stream",
       "stream": "stdout",
       "text": [
        "\n",
        "\t\t\tEpoch 15"
       ]
      },
      {
       "output_type": "stream",
       "stream": "stdout",
       "text": [
        "\n",
        "\tSlice 2"
       ]
      },
      {
       "output_type": "stream",
       "stream": "stdout",
       "text": [
        "\n",
        "\t\tCell 1"
       ]
      },
      {
       "output_type": "stream",
       "stream": "stdout",
       "text": [
        "\n",
        "\t\t\tEpoch 1"
       ]
      },
      {
       "output_type": "stream",
       "stream": "stdout",
       "text": [
        "\n",
        "\t\t\tEpoch 2"
       ]
      },
      {
       "output_type": "stream",
       "stream": "stdout",
       "text": [
        "\n",
        "\t\t\tEpoch 3"
       ]
      },
      {
       "output_type": "stream",
       "stream": "stdout",
       "text": [
        "\n",
        "\t\t\tEpoch 4"
       ]
      },
      {
       "output_type": "stream",
       "stream": "stdout",
       "text": [
        "\n",
        "\t\t\tEpoch 5"
       ]
      },
      {
       "output_type": "stream",
       "stream": "stdout",
       "text": [
        "\n",
        "\t\t\tEpoch 6"
       ]
      },
      {
       "output_type": "stream",
       "stream": "stdout",
       "text": [
        "\n",
        "\t\t\tEpoch 7"
       ]
      },
      {
       "output_type": "stream",
       "stream": "stdout",
       "text": [
        "\n",
        "\t\t\tEpoch 8"
       ]
      },
      {
       "output_type": "stream",
       "stream": "stdout",
       "text": [
        "\n",
        "\t\t\tEpoch 9"
       ]
      },
      {
       "output_type": "stream",
       "stream": "stdout",
       "text": [
        "\n",
        "\t\t\tEpoch 10"
       ]
      },
      {
       "output_type": "stream",
       "stream": "stdout",
       "text": [
        "\n",
        "\t\t\tEpoch 11"
       ]
      },
      {
       "output_type": "stream",
       "stream": "stdout",
       "text": [
        "\n",
        "\t\t\tEpoch 12"
       ]
      },
      {
       "output_type": "stream",
       "stream": "stdout",
       "text": [
        "\n",
        "\t\t\tEpoch 13"
       ]
      },
      {
       "output_type": "stream",
       "stream": "stdout",
       "text": [
        "\n",
        "\t\t\tEpoch 14"
       ]
      },
      {
       "output_type": "stream",
       "stream": "stdout",
       "text": [
        "\n",
        "\t\t\tEpoch 15"
       ]
      },
      {
       "output_type": "stream",
       "stream": "stdout",
       "text": [
        "\n",
        "\t\tCell 2"
       ]
      },
      {
       "output_type": "stream",
       "stream": "stdout",
       "text": [
        "\n",
        "\t\t\tEpoch 1"
       ]
      },
      {
       "output_type": "stream",
       "stream": "stdout",
       "text": [
        "\n",
        "\t\t\tEpoch 2"
       ]
      },
      {
       "output_type": "stream",
       "stream": "stdout",
       "text": [
        "\n",
        "\t\t\tEpoch 3"
       ]
      },
      {
       "output_type": "stream",
       "stream": "stdout",
       "text": [
        "\n",
        "\t\t\tEpoch 4"
       ]
      },
      {
       "output_type": "stream",
       "stream": "stdout",
       "text": [
        "\n",
        "\t\t\tEpoch 5"
       ]
      },
      {
       "output_type": "stream",
       "stream": "stdout",
       "text": [
        "\n",
        "\t\t\tEpoch 6"
       ]
      },
      {
       "output_type": "stream",
       "stream": "stdout",
       "text": [
        "\n",
        "\t\t\tEpoch 7"
       ]
      },
      {
       "output_type": "stream",
       "stream": "stdout",
       "text": [
        "\n",
        "\t\t\tEpoch 8"
       ]
      },
      {
       "output_type": "stream",
       "stream": "stdout",
       "text": [
        "\n",
        "\t\t\tEpoch 9"
       ]
      },
      {
       "output_type": "stream",
       "stream": "stdout",
       "text": [
        "\n",
        "\t\t\tEpoch 10"
       ]
      },
      {
       "output_type": "stream",
       "stream": "stdout",
       "text": [
        "\n",
        "\t\t\tEpoch 11"
       ]
      },
      {
       "output_type": "stream",
       "stream": "stdout",
       "text": [
        "\n",
        "\t\t\tEpoch 12"
       ]
      },
      {
       "output_type": "stream",
       "stream": "stdout",
       "text": [
        "\n",
        "\t\t\tEpoch 13"
       ]
      },
      {
       "output_type": "stream",
       "stream": "stdout",
       "text": [
        "\n",
        "\t\t\tEpoch 14"
       ]
      },
      {
       "output_type": "stream",
       "stream": "stdout",
       "text": [
        "\n",
        "\t\t\tEpoch 15"
       ]
      },
      {
       "output_type": "stream",
       "stream": "stdout",
       "text": [
        "\n"
       ]
      }
     ],
     "prompt_number": 117
    },
    {
     "cell_type": "heading",
     "level": 2,
     "metadata": {},
     "source": [
      "Analysis"
     ]
    },
    {
     "cell_type": "markdown",
     "metadata": {},
     "source": [
      "We collect all of the traces for each cell, take the max of each response and then calculate per-cell mean peak response."
     ]
    },
    {
     "cell_type": "code",
     "collapsed": false,
     "input": [
      "import physiology_demo_analysis\n",
      "reload(physiology_demo_analysis)\n",
      "\n",
      "from physiology_demo_analysis import calculate_cell_means\n",
      "\n",
      "(cells, epochs) = calculate_cell_means(project)"
     ],
     "language": "python",
     "metadata": {},
     "outputs": [],
     "prompt_number": 33
    },
    {
     "cell_type": "markdown",
     "metadata": {},
     "source": [
      "Now, we calculate the mean response"
     ]
    },
    {
     "cell_type": "code",
     "collapsed": false,
     "input": [
      "df = pd.DataFrame(data=cells.values(), index=cells.keys())\n",
      "df"
     ],
     "language": "python",
     "metadata": {},
     "outputs": [
      {
       "html": [
        "<div style=\"max-height:1000px;max-width:1500px;overflow:auto;\">\n",
        "<table border=\"1\" class=\"dataframe\">\n",
        "  <thead>\n",
        "    <tr style=\"text-align: right;\">\n",
        "      <th></th>\n",
        "      <th>10 mV</th>\n",
        "      <th>15 mV</th>\n",
        "      <th>20 mV</th>\n",
        "      <th>25 mV</th>\n",
        "      <th>30 mV</th>\n",
        "    </tr>\n",
        "  </thead>\n",
        "  <tbody>\n",
        "    <tr>\n",
        "      <th>cortical cell (cell1)  ovation://b360fe92-ff91-451b-a313-c941d0256800/</th>\n",
        "      <td> 12.976797</td>\n",
        "      <td> 19.633742</td>\n",
        "      <td> 25.902014</td>\n",
        "      <td> 33.703029</td>\n",
        "      <td> 39.903019</td>\n",
        "    </tr>\n",
        "    <tr>\n",
        "      <th>cortical cell (cell0)  ovation://67d96763-cd45-4a72-9411-184b9ad48313/</th>\n",
        "      <td> 13.024501</td>\n",
        "      <td> 19.590244</td>\n",
        "      <td> 25.909828</td>\n",
        "      <td> 33.109317</td>\n",
        "      <td> 38.071165</td>\n",
        "    </tr>\n",
        "    <tr>\n",
        "      <th>cortical cell (cell0)  ovation://9f8a2908-9dd1-4604-b8d8-ce6f2d923fe5/</th>\n",
        "      <td> 12.891288</td>\n",
        "      <td> 19.080918</td>\n",
        "      <td> 25.930425</td>\n",
        "      <td> 32.052055</td>\n",
        "      <td> 39.091378</td>\n",
        "    </tr>\n",
        "    <tr>\n",
        "      <th>cortical cell (cell0)  ovation://8a1ffc5b-c185-4c35-9a9f-c5ad2b99d188/</th>\n",
        "      <td> 13.183073</td>\n",
        "      <td> 19.668095</td>\n",
        "      <td> 26.490597</td>\n",
        "      <td> 32.931320</td>\n",
        "      <td> 38.979037</td>\n",
        "    </tr>\n",
        "    <tr>\n",
        "      <th>cortical cell (cell1)  ovation://c4b97bd3-a6e8-4f86-8af5-e397c0a829db/</th>\n",
        "      <td> 13.012640</td>\n",
        "      <td> 19.619980</td>\n",
        "      <td> 25.806175</td>\n",
        "      <td> 32.378167</td>\n",
        "      <td> 39.938502</td>\n",
        "    </tr>\n",
        "    <tr>\n",
        "      <th>cortical cell (cell1)  ovation://41a9bdda-5b10-47f1-a22a-38144bf9004b/</th>\n",
        "      <td> 13.117248</td>\n",
        "      <td> 19.529875</td>\n",
        "      <td> 25.868137</td>\n",
        "      <td> 32.046101</td>\n",
        "      <td> 40.446435</td>\n",
        "    </tr>\n",
        "    <tr>\n",
        "      <th>cortical cell (cell1)  ovation://8d508998-8a53-479b-ba12-e5ec9ad27ad7/</th>\n",
        "      <td> 13.006113</td>\n",
        "      <td> 19.840530</td>\n",
        "      <td> 26.093228</td>\n",
        "      <td> 31.917395</td>\n",
        "      <td> 38.972996</td>\n",
        "    </tr>\n",
        "    <tr>\n",
        "      <th>cortical cell (cell0)  ovation://5d6b28fe-dd3b-4aa5-a6ee-69df3a23bd97/</th>\n",
        "      <td> 13.098672</td>\n",
        "      <td> 19.187174</td>\n",
        "      <td> 25.719772</td>\n",
        "      <td> 31.919191</td>\n",
        "      <td> 40.492684</td>\n",
        "    </tr>\n",
        "  </tbody>\n",
        "</table>\n",
        "</div>"
       ],
       "metadata": {},
       "output_type": "pyout",
       "prompt_number": 34,
       "text": [
        "                                                                            10 mV  \\\n",
        "cortical cell (cell1)  ovation://b360fe92-ff91-451b-a313-c941d0256800/  12.976797   \n",
        "cortical cell (cell0)  ovation://67d96763-cd45-4a72-9411-184b9ad48313/  13.024501   \n",
        "cortical cell (cell0)  ovation://9f8a2908-9dd1-4604-b8d8-ce6f2d923fe5/  12.891288   \n",
        "cortical cell (cell0)  ovation://8a1ffc5b-c185-4c35-9a9f-c5ad2b99d188/  13.183073   \n",
        "cortical cell (cell1)  ovation://c4b97bd3-a6e8-4f86-8af5-e397c0a829db/  13.012640   \n",
        "cortical cell (cell1)  ovation://41a9bdda-5b10-47f1-a22a-38144bf9004b/  13.117248   \n",
        "cortical cell (cell1)  ovation://8d508998-8a53-479b-ba12-e5ec9ad27ad7/  13.006113   \n",
        "cortical cell (cell0)  ovation://5d6b28fe-dd3b-4aa5-a6ee-69df3a23bd97/  13.098672   \n",
        "\n",
        "                                                                            15 mV  \\\n",
        "cortical cell (cell1)  ovation://b360fe92-ff91-451b-a313-c941d0256800/  19.633742   \n",
        "cortical cell (cell0)  ovation://67d96763-cd45-4a72-9411-184b9ad48313/  19.590244   \n",
        "cortical cell (cell0)  ovation://9f8a2908-9dd1-4604-b8d8-ce6f2d923fe5/  19.080918   \n",
        "cortical cell (cell0)  ovation://8a1ffc5b-c185-4c35-9a9f-c5ad2b99d188/  19.668095   \n",
        "cortical cell (cell1)  ovation://c4b97bd3-a6e8-4f86-8af5-e397c0a829db/  19.619980   \n",
        "cortical cell (cell1)  ovation://41a9bdda-5b10-47f1-a22a-38144bf9004b/  19.529875   \n",
        "cortical cell (cell1)  ovation://8d508998-8a53-479b-ba12-e5ec9ad27ad7/  19.840530   \n",
        "cortical cell (cell0)  ovation://5d6b28fe-dd3b-4aa5-a6ee-69df3a23bd97/  19.187174   \n",
        "\n",
        "                                                                            20 mV  \\\n",
        "cortical cell (cell1)  ovation://b360fe92-ff91-451b-a313-c941d0256800/  25.902014   \n",
        "cortical cell (cell0)  ovation://67d96763-cd45-4a72-9411-184b9ad48313/  25.909828   \n",
        "cortical cell (cell0)  ovation://9f8a2908-9dd1-4604-b8d8-ce6f2d923fe5/  25.930425   \n",
        "cortical cell (cell0)  ovation://8a1ffc5b-c185-4c35-9a9f-c5ad2b99d188/  26.490597   \n",
        "cortical cell (cell1)  ovation://c4b97bd3-a6e8-4f86-8af5-e397c0a829db/  25.806175   \n",
        "cortical cell (cell1)  ovation://41a9bdda-5b10-47f1-a22a-38144bf9004b/  25.868137   \n",
        "cortical cell (cell1)  ovation://8d508998-8a53-479b-ba12-e5ec9ad27ad7/  26.093228   \n",
        "cortical cell (cell0)  ovation://5d6b28fe-dd3b-4aa5-a6ee-69df3a23bd97/  25.719772   \n",
        "\n",
        "                                                                            25 mV  \\\n",
        "cortical cell (cell1)  ovation://b360fe92-ff91-451b-a313-c941d0256800/  33.703029   \n",
        "cortical cell (cell0)  ovation://67d96763-cd45-4a72-9411-184b9ad48313/  33.109317   \n",
        "cortical cell (cell0)  ovation://9f8a2908-9dd1-4604-b8d8-ce6f2d923fe5/  32.052055   \n",
        "cortical cell (cell0)  ovation://8a1ffc5b-c185-4c35-9a9f-c5ad2b99d188/  32.931320   \n",
        "cortical cell (cell1)  ovation://c4b97bd3-a6e8-4f86-8af5-e397c0a829db/  32.378167   \n",
        "cortical cell (cell1)  ovation://41a9bdda-5b10-47f1-a22a-38144bf9004b/  32.046101   \n",
        "cortical cell (cell1)  ovation://8d508998-8a53-479b-ba12-e5ec9ad27ad7/  31.917395   \n",
        "cortical cell (cell0)  ovation://5d6b28fe-dd3b-4aa5-a6ee-69df3a23bd97/  31.919191   \n",
        "\n",
        "                                                                            30 mV  \n",
        "cortical cell (cell1)  ovation://b360fe92-ff91-451b-a313-c941d0256800/  39.903019  \n",
        "cortical cell (cell0)  ovation://67d96763-cd45-4a72-9411-184b9ad48313/  38.071165  \n",
        "cortical cell (cell0)  ovation://9f8a2908-9dd1-4604-b8d8-ce6f2d923fe5/  39.091378  \n",
        "cortical cell (cell0)  ovation://8a1ffc5b-c185-4c35-9a9f-c5ad2b99d188/  38.979037  \n",
        "cortical cell (cell1)  ovation://c4b97bd3-a6e8-4f86-8af5-e397c0a829db/  39.938502  \n",
        "cortical cell (cell1)  ovation://41a9bdda-5b10-47f1-a22a-38144bf9004b/  40.446435  \n",
        "cortical cell (cell1)  ovation://8d508998-8a53-479b-ba12-e5ec9ad27ad7/  38.972996  \n",
        "cortical cell (cell0)  ovation://5d6b28fe-dd3b-4aa5-a6ee-69df3a23bd97/  40.492684  "
       ]
      }
     ],
     "prompt_number": 34
    },
    {
     "cell_type": "code",
     "collapsed": false,
     "input": [
      "df.T.plot(legend=False)"
     ],
     "language": "python",
     "metadata": {},
     "outputs": [
      {
       "metadata": {},
       "output_type": "pyout",
       "prompt_number": 41,
       "text": [
        "<matplotlib.axes.AxesSubplot at 0x10e851c90>"
       ]
      },
      {
       "metadata": {},
       "output_type": "display_data",
       "png": "[encoded data removed]",
       "text": [
        "<matplotlib.figure.Figure at 0x10fabcdd0>"
       ]
      }
     ],
     "prompt_number": 41
    },
    {
     "cell_type": "markdown",
     "metadata": {},
     "source": [
      "Write the result to a CSV file so that we can add it as an output"
     ]
    },
    {
     "cell_type": "code",
     "collapsed": false,
     "input": [
      "import tempfile\n",
      "\n",
      "(fd,name) = tempfile.mkstemp(suffix='per-cell-mean-peak-response.csv')\n",
      "df.to_csv(name)"
     ],
     "language": "python",
     "metadata": {},
     "outputs": [],
     "prompt_number": 50
    },
    {
     "cell_type": "code",
     "collapsed": false,
     "input": [
      "name"
     ],
     "language": "python",
     "metadata": {},
     "outputs": [
      {
       "metadata": {},
       "output_type": "pyout",
       "prompt_number": 51,
       "text": [
        "'/var/folders/2j/tftlzs554xq2wlt0__j4jjzm0000gn/T/tmpu1j9oRper-cell-mean-peak-response.csv'"
       ]
      }
     ],
     "prompt_number": 51
    },
    {
     "cell_type": "code",
     "collapsed": false,
     "input": [
      "parameters = {}\n",
      "\n",
      "inputs = { 'epoch-{0}'.format(i) : e.getMeasurement('Membrane current') for (i,e) in enumerate(epochs) if len(list(iterable(e.getMeasurements()))) > 0}\n",
      "analysis = project.addAnalysisRecord(\"Per-cell mean peak response\",\n",
      "                                     to_map(inputs),\n",
      "                                     analysis_protocol,\n",
      "                                     to_map(parameters))\n",
      "\n",
      "analysis.addOutput('result', URL('file://{0}'.format(name)), 'text/csv')\n",
      "                                     "
     ],
     "language": "python",
     "metadata": {},
     "outputs": [
      {
       "metadata": {},
       "output_type": "pyout",
       "prompt_number": 90,
       "text": [
        "<us.physion.ovation.domain.mixin.DataElement at 0x10e59cd10 jclass=us/physion/ovation/domain/mixin/DataElement jself=<LocalRef obj=0x110cc14f0 at 0x110f8ad30>>"
       ]
      }
     ],
     "prompt_number": 90
    }
   ],
   "metadata": {}
  }
 ]
}