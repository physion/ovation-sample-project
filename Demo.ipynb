{
 "metadata": {
  "name": ""
 },
 "nbformat": 3,
 "nbformat_minor": 0,
 "worksheets": [
  {
   "cells": [
    {
     "cell_type": "code",
     "collapsed": false,
     "input": [
      "from ovation.connection import connect\n",
      "from ovation.conversion import to_map, to_dict, asclass, iterable\n",
      "from ovation.data import as_data_frame\n",
      "from ovation import DateTime, DateTimeZone, Optional, Sets, Maps, Integer\n",
      "import scipy as sp\n",
      "import pandas as pd\n",
      "import matplotlib.pyplot as plt\n",
      "import getpass"
     ],
     "language": "python",
     "metadata": {},
     "outputs": [],
     "prompt_number": 5
    },
    {
     "cell_type": "code",
     "collapsed": false,
     "input": [
      "dsc = connect('barry@ovation.io')"
     ],
     "language": "python",
     "metadata": {},
     "outputs": [],
     "prompt_number": 2
    },
    {
     "cell_type": "code",
     "collapsed": false,
     "input": [
      "ctx = dsc.getContext()"
     ],
     "language": "python",
     "metadata": {},
     "outputs": [],
     "prompt_number": 4
    },
    {
     "cell_type": "code",
     "collapsed": false,
     "input": [],
     "language": "python",
     "metadata": {},
     "outputs": []
    }
   ],
   "metadata": {}
  }
 ]
}